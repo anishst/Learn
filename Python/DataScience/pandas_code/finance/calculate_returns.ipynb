{
 "cells": [
  {
   "cell_type": "code",
   "execution_count": 1,
   "metadata": {},
   "outputs": [],
   "source": [
    "import numpy as np\n",
    "from pandas_datareader import data as wb\n",
    "import matplotlib.pyplot as plt"
   ]
  },
  {
   "cell_type": "code",
   "execution_count": 2,
   "metadata": {},
   "outputs": [],
   "source": [
    "ticker = wb.DataReader('MSFT', data_source='yahoo', start ='1995-1-1')"
   ]
  },
  {
   "cell_type": "code",
   "execution_count": 3,
   "metadata": {},
   "outputs": [
    {
     "data": {
      "text/html": [
       "<div>\n",
       "<style scoped>\n",
       "    .dataframe tbody tr th:only-of-type {\n",
       "        vertical-align: middle;\n",
       "    }\n",
       "\n",
       "    .dataframe tbody tr th {\n",
       "        vertical-align: top;\n",
       "    }\n",
       "\n",
       "    .dataframe thead th {\n",
       "        text-align: right;\n",
       "    }\n",
       "</style>\n",
       "<table border=\"1\" class=\"dataframe\">\n",
       "  <thead>\n",
       "    <tr style=\"text-align: right;\">\n",
       "      <th></th>\n",
       "      <th>High</th>\n",
       "      <th>Low</th>\n",
       "      <th>Open</th>\n",
       "      <th>Close</th>\n",
       "      <th>Volume</th>\n",
       "      <th>Adj Close</th>\n",
       "    </tr>\n",
       "    <tr>\n",
       "      <th>Date</th>\n",
       "      <th></th>\n",
       "      <th></th>\n",
       "      <th></th>\n",
       "      <th></th>\n",
       "      <th></th>\n",
       "      <th></th>\n",
       "    </tr>\n",
       "  </thead>\n",
       "  <tbody>\n",
       "    <tr>\n",
       "      <td>2020-02-21</td>\n",
       "      <td>183.500000</td>\n",
       "      <td>177.250000</td>\n",
       "      <td>183.169998</td>\n",
       "      <td>178.589996</td>\n",
       "      <td>48572600.0</td>\n",
       "      <td>178.589996</td>\n",
       "    </tr>\n",
       "    <tr>\n",
       "      <td>2020-02-24</td>\n",
       "      <td>174.550003</td>\n",
       "      <td>163.229996</td>\n",
       "      <td>167.770004</td>\n",
       "      <td>170.889999</td>\n",
       "      <td>68311100.0</td>\n",
       "      <td>170.889999</td>\n",
       "    </tr>\n",
       "    <tr>\n",
       "      <td>2020-02-25</td>\n",
       "      <td>174.839996</td>\n",
       "      <td>167.649994</td>\n",
       "      <td>174.199997</td>\n",
       "      <td>168.070007</td>\n",
       "      <td>68073300.0</td>\n",
       "      <td>168.070007</td>\n",
       "    </tr>\n",
       "    <tr>\n",
       "      <td>2020-02-26</td>\n",
       "      <td>173.259995</td>\n",
       "      <td>168.210007</td>\n",
       "      <td>169.710007</td>\n",
       "      <td>170.169998</td>\n",
       "      <td>56206100.0</td>\n",
       "      <td>170.169998</td>\n",
       "    </tr>\n",
       "    <tr>\n",
       "      <td>2020-02-27</td>\n",
       "      <td>167.029999</td>\n",
       "      <td>161.869995</td>\n",
       "      <td>163.320007</td>\n",
       "      <td>165.949997</td>\n",
       "      <td>49818897.0</td>\n",
       "      <td>165.949997</td>\n",
       "    </tr>\n",
       "  </tbody>\n",
       "</table>\n",
       "</div>"
      ],
      "text/plain": [
       "                  High         Low        Open       Close      Volume  \\\n",
       "Date                                                                     \n",
       "2020-02-21  183.500000  177.250000  183.169998  178.589996  48572600.0   \n",
       "2020-02-24  174.550003  163.229996  167.770004  170.889999  68311100.0   \n",
       "2020-02-25  174.839996  167.649994  174.199997  168.070007  68073300.0   \n",
       "2020-02-26  173.259995  168.210007  169.710007  170.169998  56206100.0   \n",
       "2020-02-27  167.029999  161.869995  163.320007  165.949997  49818897.0   \n",
       "\n",
       "             Adj Close  \n",
       "Date                    \n",
       "2020-02-21  178.589996  \n",
       "2020-02-24  170.889999  \n",
       "2020-02-25  168.070007  \n",
       "2020-02-26  170.169998  \n",
       "2020-02-27  165.949997  "
      ]
     },
     "execution_count": 3,
     "metadata": {},
     "output_type": "execute_result"
    }
   ],
   "source": [
    "ticker.tail()"
   ]
  },
  {
   "cell_type": "markdown",
   "metadata": {},
   "source": [
    "# Simple Return"
   ]
  },
  {
   "cell_type": "code",
   "execution_count": 4,
   "metadata": {},
   "outputs": [
    {
     "data": {
      "text/plain": [
       "Date\n",
       "2020-02-21   -0.031613\n",
       "2020-02-24   -0.043115\n",
       "2020-02-25   -0.016502\n",
       "2020-02-26    0.012495\n",
       "2020-02-27   -0.024799\n",
       "Name: simple_return, dtype: float64"
      ]
     },
     "execution_count": 4,
     "metadata": {},
     "output_type": "execute_result"
    }
   ],
   "source": [
    "# simple rate of return\n",
    "ticker['simple_return'] = (ticker['Adj Close'] / ticker['Adj Close'].shift(1)) - 1\n",
    "ticker['simple_return'].tail()"
   ]
  },
  {
   "cell_type": "code",
   "execution_count": 12,
   "metadata": {},
   "outputs": [
    {
     "data": {
      "image/png": "[encoded data removed]",
      "text/plain": [
       "<Figure size 576x360 with 1 Axes>"
      ]
     },
     "metadata": {
      "needs_background": "light"
     },
     "output_type": "display_data"
    }
   ],
   "source": [
    "# plot\n",
    "ticker['simple_return'].plot(figsize=(8,5))\n",
    "plt.show()"
   ]
  },
  {
   "cell_type": "code",
   "execution_count": 6,
   "metadata": {},
   "outputs": [
    {
     "data": {
      "text/plain": [
       "0.0008605054128268278"
      ]
     },
     "execution_count": 6,
     "metadata": {},
     "output_type": "execute_result"
    }
   ],
   "source": [
    "# Calc average daily return\n",
    "avg_returns_d = ticker['simple_return'].mean()\n",
    "avg_returns_d"
   ]
  },
  {
   "cell_type": "code",
   "execution_count": 7,
   "metadata": {},
   "outputs": [
    {
     "data": {
      "text/plain": [
       "0.21512635320670695"
      ]
     },
     "execution_count": 7,
     "metadata": {},
     "output_type": "execute_result"
    }
   ],
   "source": [
    "# Calc average annual return; 250 number of trading days\n",
    "avg_returns_a = ticker['simple_return'].mean() * 250\n",
    "avg_returns_a"
   ]
  },
  {
   "cell_type": "code",
   "execution_count": 9,
   "metadata": {},
   "outputs": [
    {
     "name": "stdout",
     "output_type": "stream",
     "text": [
      "21.512999999999998 %\n"
     ]
    }
   ],
   "source": [
    "# format annual return output by rounding and adding % sign\n",
    "\n",
    "print(str(round(avg_returns_a,5) * 100) + ' %')"
   ]
  },
  {
   "cell_type": "markdown",
   "metadata": {},
   "source": [
    "# LOG Return"
   ]
  },
  {
   "cell_type": "markdown",
   "metadata": {},
   "source": [
    "good for single security"
   ]
  },
  {
   "cell_type": "code",
   "execution_count": 19,
   "metadata": {},
   "outputs": [
    {
     "data": {
      "text/plain": [
       "Date\n",
       "2020-02-21   -0.032123\n",
       "2020-02-24   -0.044073\n",
       "2020-02-25   -0.016639\n",
       "2020-02-26    0.012417\n",
       "2020-02-27   -0.025111\n",
       "Name: log_return, dtype: float64"
      ]
     },
     "execution_count": 19,
     "metadata": {},
     "output_type": "execute_result"
    }
   ],
   "source": [
    "# logarithmic rate of return\n",
    "ticker['log_return'] = np.log((ticker['Adj Close'] / ticker['Adj Close'].shift(1)))\n",
    "ticker['log_return'].tail()"
   ]
  },
  {
   "cell_type": "code",
   "execution_count": 18,
   "metadata": {},
   "outputs": [
    {
     "data": {
      "image/png": "[encoded data removed]",
      "text/plain": [
       "<Figure size 576x360 with 1 Axes>"
      ]
     },
     "metadata": {
      "needs_background": "light"
     },
     "output_type": "display_data"
    }
   ],
   "source": [
    "# plot\n",
    "ticker['log_return'].plot(figsize=(8,5))\n",
    "plt.show()"
   ]
  },
  {
   "cell_type": "code",
   "execution_count": 15,
   "metadata": {},
   "outputs": [
    {
     "data": {
      "text/plain": [
       "0.0006681290435902094"
      ]
     },
     "execution_count": 15,
     "metadata": {},
     "output_type": "execute_result"
    }
   ],
   "source": [
    "# Calc average daily log return\n",
    "avg_returns_d = ticker['log_return'].mean()\n",
    "avg_returns_d"
   ]
  },
  {
   "cell_type": "code",
   "execution_count": 16,
   "metadata": {},
   "outputs": [
    {
     "data": {
      "text/plain": [
       "0.16703226089755235"
      ]
     },
     "execution_count": 16,
     "metadata": {},
     "output_type": "execute_result"
    }
   ],
   "source": [
    "# Calc average annual return; 250 number of trading days\n",
    "avg_returns_a = ticker['log_return'].mean() * 250\n",
    "avg_returns_a"
   ]
  },
  {
   "cell_type": "code",
   "execution_count": 17,
   "metadata": {},
   "outputs": [
    {
     "name": "stdout",
     "output_type": "stream",
     "text": [
      "16.703000000000003 %\n"
     ]
    }
   ],
   "source": [
    "# format annual return output by rounding and adding % sign\n",
    "\n",
    "print(str(round(avg_returns_a,5) * 100) + ' %')"
   ]
  }
 ],
 "metadata": {
  "kernelspec": {
   "display_name": "Python 3",
   "language": "python",
   "name": "python3"
  },
  "language_info": {
   "codemirror_mode": {
    "name": "ipython",
    "version": 3
   },
   "file_extension": ".py",
   "mimetype": "text/x-python",
   "name": "python",
   "nbconvert_exporter": "python",
   "pygments_lexer": "ipython3",
   "version": "3.7.4"
  }
 },
 "nbformat": 4,
 "nbformat_minor": 2
}
