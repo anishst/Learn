{
 "cells": [
  {
   "cell_type": "code",
   "execution_count": 1,
   "metadata": {},
   "outputs": [],
   "source": [
    "import pandas as pd"
   ]
  },
  {
   "cell_type": "code",
   "execution_count": 2,
   "metadata": {},
   "outputs": [],
   "source": [
    "df = pd.read_csv('flights.csv')"
   ]
  },
  {
   "cell_type": "code",
   "execution_count": 3,
   "metadata": {},
   "outputs": [
    {
     "data": {
      "text/html": [
       "<div>\n",
       "<style scoped>\n",
       "    .dataframe tbody tr th:only-of-type {\n",
       "        vertical-align: middle;\n",
       "    }\n",
       "\n",
       "    .dataframe tbody tr th {\n",
       "        vertical-align: top;\n",
       "    }\n",
       "\n",
       "    .dataframe thead th {\n",
       "        text-align: right;\n",
       "    }\n",
       "</style>\n",
       "<table border=\"1\" class=\"dataframe\">\n",
       "  <thead>\n",
       "    <tr style=\"text-align: right;\">\n",
       "      <th></th>\n",
       "      <th>script_time</th>\n",
       "      <th>price_to_houston_united</th>\n",
       "      <th>price_to_houston_all</th>\n",
       "    </tr>\n",
       "  </thead>\n",
       "  <tbody>\n",
       "    <tr>\n",
       "      <td>0</td>\n",
       "      <td>2019-10-05 01:24:43</td>\n",
       "      <td>$883</td>\n",
       "      <td>$800</td>\n",
       "    </tr>\n",
       "    <tr>\n",
       "      <td>1</td>\n",
       "      <td>2019-10-05 01:31:09</td>\n",
       "      <td>$883</td>\n",
       "      <td>$800</td>\n",
       "    </tr>\n",
       "    <tr>\n",
       "      <td>2</td>\n",
       "      <td>2019-10-05 08:01:39</td>\n",
       "      <td>$883</td>\n",
       "      <td>$800</td>\n",
       "    </tr>\n",
       "    <tr>\n",
       "      <td>3</td>\n",
       "      <td>2019-10-05 16:08:21</td>\n",
       "      <td>$883</td>\n",
       "      <td>$800</td>\n",
       "    </tr>\n",
       "    <tr>\n",
       "      <td>4</td>\n",
       "      <td>2019-10-06 00:01:33</td>\n",
       "      <td>$883</td>\n",
       "      <td>$800</td>\n",
       "    </tr>\n",
       "  </tbody>\n",
       "</table>\n",
       "</div>"
      ],
      "text/plain": [
       "           script_time price_to_houston_united price_to_houston_all\n",
       "0  2019-10-05 01:24:43                    $883                 $800\n",
       "1  2019-10-05 01:31:09                    $883                 $800\n",
       "2  2019-10-05 08:01:39                    $883                 $800\n",
       "3  2019-10-05 16:08:21                    $883                 $800\n",
       "4  2019-10-06 00:01:33                    $883                 $800"
      ]
     },
     "execution_count": 3,
     "metadata": {},
     "output_type": "execute_result"
    }
   ],
   "source": [
    "df.head()"
   ]
  },
  {
   "cell_type": "code",
   "execution_count": 4,
   "metadata": {},
   "outputs": [
    {
     "data": {
      "text/plain": [
       "script_time                object\n",
       "price_to_houston_united    object\n",
       "price_to_houston_all       object\n",
       "dtype: object"
      ]
     },
     "execution_count": 4,
     "metadata": {},
     "output_type": "execute_result"
    }
   ],
   "source": [
    "df.dtypes"
   ]
  },
  {
   "cell_type": "code",
   "execution_count": 5,
   "metadata": {},
   "outputs": [],
   "source": [
    "# convert date time to date object\n",
    "df['script_time'] = pd.to_datetime(df.script_time)"
   ]
  },
  {
   "cell_type": "code",
   "execution_count": 6,
   "metadata": {},
   "outputs": [
    {
     "data": {
      "text/plain": [
       "script_time                datetime64[ns]\n",
       "price_to_houston_united            object\n",
       "price_to_houston_all               object\n",
       "dtype: object"
      ]
     },
     "execution_count": 6,
     "metadata": {},
     "output_type": "execute_result"
    }
   ],
   "source": [
    "df.dtypes"
   ]
  },
  {
   "cell_type": "code",
   "execution_count": 7,
   "metadata": {},
   "outputs": [
    {
     "data": {
      "text/plain": [
       "0    Saturday\n",
       "1    Saturday\n",
       "2    Saturday\n",
       "3    Saturday\n",
       "4      Sunday\n",
       "Name: script_time, dtype: object"
      ]
     },
     "execution_count": 7,
     "metadata": {},
     "output_type": "execute_result"
    }
   ],
   "source": [
    "# show weekday\n",
    "df.script_time.dt.weekday_name.head()"
   ]
  },
  {
   "cell_type": "code",
   "execution_count": 8,
   "metadata": {},
   "outputs": [],
   "source": [
    "# create a year column using datetime\n",
    "df['Year'] = df.script_time.dt.year"
   ]
  },
  {
   "cell_type": "code",
   "execution_count": 9,
   "metadata": {},
   "outputs": [
    {
     "data": {
      "text/html": [
       "<div>\n",
       "<style scoped>\n",
       "    .dataframe tbody tr th:only-of-type {\n",
       "        vertical-align: middle;\n",
       "    }\n",
       "\n",
       "    .dataframe tbody tr th {\n",
       "        vertical-align: top;\n",
       "    }\n",
       "\n",
       "    .dataframe thead th {\n",
       "        text-align: right;\n",
       "    }\n",
       "</style>\n",
       "<table border=\"1\" class=\"dataframe\">\n",
       "  <thead>\n",
       "    <tr style=\"text-align: right;\">\n",
       "      <th></th>\n",
       "      <th>script_time</th>\n",
       "      <th>price_to_houston_united</th>\n",
       "      <th>price_to_houston_all</th>\n",
       "      <th>Year</th>\n",
       "    </tr>\n",
       "  </thead>\n",
       "  <tbody>\n",
       "    <tr>\n",
       "      <td>0</td>\n",
       "      <td>2019-10-05 01:24:43</td>\n",
       "      <td>$883</td>\n",
       "      <td>$800</td>\n",
       "      <td>2019</td>\n",
       "    </tr>\n",
       "    <tr>\n",
       "      <td>1</td>\n",
       "      <td>2019-10-05 01:31:09</td>\n",
       "      <td>$883</td>\n",
       "      <td>$800</td>\n",
       "      <td>2019</td>\n",
       "    </tr>\n",
       "    <tr>\n",
       "      <td>2</td>\n",
       "      <td>2019-10-05 08:01:39</td>\n",
       "      <td>$883</td>\n",
       "      <td>$800</td>\n",
       "      <td>2019</td>\n",
       "    </tr>\n",
       "    <tr>\n",
       "      <td>3</td>\n",
       "      <td>2019-10-05 16:08:21</td>\n",
       "      <td>$883</td>\n",
       "      <td>$800</td>\n",
       "      <td>2019</td>\n",
       "    </tr>\n",
       "    <tr>\n",
       "      <td>4</td>\n",
       "      <td>2019-10-06 00:01:33</td>\n",
       "      <td>$883</td>\n",
       "      <td>$800</td>\n",
       "      <td>2019</td>\n",
       "    </tr>\n",
       "  </tbody>\n",
       "</table>\n",
       "</div>"
      ],
      "text/plain": [
       "          script_time price_to_houston_united price_to_houston_all  Year\n",
       "0 2019-10-05 01:24:43                    $883                 $800  2019\n",
       "1 2019-10-05 01:31:09                    $883                 $800  2019\n",
       "2 2019-10-05 08:01:39                    $883                 $800  2019\n",
       "3 2019-10-05 16:08:21                    $883                 $800  2019\n",
       "4 2019-10-06 00:01:33                    $883                 $800  2019"
      ]
     },
     "execution_count": 9,
     "metadata": {},
     "output_type": "execute_result"
    }
   ],
   "source": [
    "df.head()"
   ]
  },
  {
   "cell_type": "code",
   "execution_count": 10,
   "metadata": {
    "scrolled": true
   },
   "outputs": [
    {
     "data": {
      "text/html": [
       "<div>\n",
       "<style scoped>\n",
       "    .dataframe tbody tr th:only-of-type {\n",
       "        vertical-align: middle;\n",
       "    }\n",
       "\n",
       "    .dataframe tbody tr th {\n",
       "        vertical-align: top;\n",
       "    }\n",
       "\n",
       "    .dataframe thead tr th {\n",
       "        text-align: left;\n",
       "    }\n",
       "\n",
       "    .dataframe thead tr:last-of-type th {\n",
       "        text-align: right;\n",
       "    }\n",
       "</style>\n",
       "<table border=\"1\" class=\"dataframe\">\n",
       "  <thead>\n",
       "    <tr>\n",
       "      <th></th>\n",
       "      <th colspan=\"6\" halign=\"left\">script_time</th>\n",
       "      <th colspan=\"6\" halign=\"left\">price_to_houston_united</th>\n",
       "      <th colspan=\"6\" halign=\"left\">price_to_houston_all</th>\n",
       "    </tr>\n",
       "    <tr>\n",
       "      <th></th>\n",
       "      <th>count</th>\n",
       "      <th>unique</th>\n",
       "      <th>top</th>\n",
       "      <th>freq</th>\n",
       "      <th>first</th>\n",
       "      <th>last</th>\n",
       "      <th>count</th>\n",
       "      <th>unique</th>\n",
       "      <th>top</th>\n",
       "      <th>freq</th>\n",
       "      <th>first</th>\n",
       "      <th>last</th>\n",
       "      <th>count</th>\n",
       "      <th>unique</th>\n",
       "      <th>top</th>\n",
       "      <th>freq</th>\n",
       "      <th>first</th>\n",
       "      <th>last</th>\n",
       "    </tr>\n",
       "    <tr>\n",
       "      <th>Year</th>\n",
       "      <th></th>\n",
       "      <th></th>\n",
       "      <th></th>\n",
       "      <th></th>\n",
       "      <th></th>\n",
       "      <th></th>\n",
       "      <th></th>\n",
       "      <th></th>\n",
       "      <th></th>\n",
       "      <th></th>\n",
       "      <th></th>\n",
       "      <th></th>\n",
       "      <th></th>\n",
       "      <th></th>\n",
       "      <th></th>\n",
       "      <th></th>\n",
       "      <th></th>\n",
       "      <th></th>\n",
       "    </tr>\n",
       "  </thead>\n",
       "  <tbody>\n",
       "    <tr>\n",
       "      <td>2015</td>\n",
       "      <td>2</td>\n",
       "      <td>2</td>\n",
       "      <td>2015-10-24 04:39:53</td>\n",
       "      <td>1</td>\n",
       "      <td>2015-10-24 04:39:53</td>\n",
       "      <td>2015-10-26 04:39:50</td>\n",
       "      <td>2</td>\n",
       "      <td>1</td>\n",
       "      <td>$883</td>\n",
       "      <td>2</td>\n",
       "      <td>NaN</td>\n",
       "      <td>NaN</td>\n",
       "      <td>2</td>\n",
       "      <td>2</td>\n",
       "      <td>$840</td>\n",
       "      <td>1</td>\n",
       "      <td>NaN</td>\n",
       "      <td>NaN</td>\n",
       "    </tr>\n",
       "    <tr>\n",
       "      <td>2016</td>\n",
       "      <td>2</td>\n",
       "      <td>2</td>\n",
       "      <td>2016-10-20 04:39:48</td>\n",
       "      <td>1</td>\n",
       "      <td>2016-10-20 04:39:48</td>\n",
       "      <td>2016-10-21 04:39:54</td>\n",
       "      <td>2</td>\n",
       "      <td>1</td>\n",
       "      <td>$883</td>\n",
       "      <td>2</td>\n",
       "      <td>NaN</td>\n",
       "      <td>NaN</td>\n",
       "      <td>2</td>\n",
       "      <td>1</td>\n",
       "      <td>$840</td>\n",
       "      <td>2</td>\n",
       "      <td>NaN</td>\n",
       "      <td>NaN</td>\n",
       "    </tr>\n",
       "    <tr>\n",
       "      <td>2018</td>\n",
       "      <td>2</td>\n",
       "      <td>2</td>\n",
       "      <td>2018-10-10 08:01:27</td>\n",
       "      <td>1</td>\n",
       "      <td>2018-10-08 08:01:52</td>\n",
       "      <td>2018-10-10 08:01:27</td>\n",
       "      <td>2</td>\n",
       "      <td>2</td>\n",
       "      <td>$883</td>\n",
       "      <td>1</td>\n",
       "      <td>NaN</td>\n",
       "      <td>NaN</td>\n",
       "      <td>2</td>\n",
       "      <td>2</td>\n",
       "      <td>$803</td>\n",
       "      <td>1</td>\n",
       "      <td>NaN</td>\n",
       "      <td>NaN</td>\n",
       "    </tr>\n",
       "    <tr>\n",
       "      <td>2019</td>\n",
       "      <td>25</td>\n",
       "      <td>25</td>\n",
       "      <td>2019-10-06 08:01:35</td>\n",
       "      <td>1</td>\n",
       "      <td>2019-10-05 01:24:43</td>\n",
       "      <td>2019-11-01 14:12:24</td>\n",
       "      <td>25</td>\n",
       "      <td>3</td>\n",
       "      <td>$883</td>\n",
       "      <td>20</td>\n",
       "      <td>NaN</td>\n",
       "      <td>NaN</td>\n",
       "      <td>25</td>\n",
       "      <td>5</td>\n",
       "      <td>$800</td>\n",
       "      <td>13</td>\n",
       "      <td>NaN</td>\n",
       "      <td>NaN</td>\n",
       "    </tr>\n",
       "  </tbody>\n",
       "</table>\n",
       "</div>"
      ],
      "text/plain": [
       "     script_time                                                      \\\n",
       "           count unique                 top freq               first   \n",
       "Year                                                                   \n",
       "2015           2      2 2015-10-24 04:39:53    1 2015-10-24 04:39:53   \n",
       "2016           2      2 2016-10-20 04:39:48    1 2016-10-20 04:39:48   \n",
       "2018           2      2 2018-10-10 08:01:27    1 2018-10-08 08:01:52   \n",
       "2019          25     25 2019-10-06 08:01:35    1 2019-10-05 01:24:43   \n",
       "\n",
       "                         price_to_houston_united                               \\\n",
       "                    last                   count unique   top freq first last   \n",
       "Year                                                                            \n",
       "2015 2015-10-26 04:39:50                       2      1  $883    2   NaN  NaN   \n",
       "2016 2016-10-21 04:39:54                       2      1  $883    2   NaN  NaN   \n",
       "2018 2018-10-10 08:01:27                       2      2  $883    1   NaN  NaN   \n",
       "2019 2019-11-01 14:12:24                      25      3  $883   20   NaN  NaN   \n",
       "\n",
       "     price_to_houston_all                               \n",
       "                    count unique   top freq first last  \n",
       "Year                                                    \n",
       "2015                    2      2  $840    1   NaN  NaN  \n",
       "2016                    2      1  $840    2   NaN  NaN  \n",
       "2018                    2      2  $803    1   NaN  NaN  \n",
       "2019                   25      5  $800   13   NaN  NaN  "
      ]
     },
     "execution_count": 10,
     "metadata": {},
     "output_type": "execute_result"
    }
   ],
   "source": [
    "df.groupby('Year').describe()"
   ]
  },
  {
   "cell_type": "code",
   "execution_count": 11,
   "metadata": {},
   "outputs": [],
   "source": [
    "# create a timestamp\n",
    "ts = pd.to_datetime('10/10/2019')"
   ]
  },
  {
   "cell_type": "code",
   "execution_count": 12,
   "metadata": {},
   "outputs": [
    {
     "data": {
      "text/html": [
       "<div>\n",
       "<style scoped>\n",
       "    .dataframe tbody tr th:only-of-type {\n",
       "        vertical-align: middle;\n",
       "    }\n",
       "\n",
       "    .dataframe tbody tr th {\n",
       "        vertical-align: top;\n",
       "    }\n",
       "\n",
       "    .dataframe thead th {\n",
       "        text-align: right;\n",
       "    }\n",
       "</style>\n",
       "<table border=\"1\" class=\"dataframe\">\n",
       "  <thead>\n",
       "    <tr style=\"text-align: right;\">\n",
       "      <th></th>\n",
       "      <th>script_time</th>\n",
       "      <th>price_to_houston_united</th>\n",
       "      <th>price_to_houston_all</th>\n",
       "      <th>Year</th>\n",
       "    </tr>\n",
       "  </thead>\n",
       "  <tbody>\n",
       "    <tr>\n",
       "      <td>0</td>\n",
       "      <td>2019-10-05 01:24:43</td>\n",
       "      <td>$883</td>\n",
       "      <td>$800</td>\n",
       "      <td>2019</td>\n",
       "    </tr>\n",
       "    <tr>\n",
       "      <td>1</td>\n",
       "      <td>2019-10-05 01:31:09</td>\n",
       "      <td>$883</td>\n",
       "      <td>$800</td>\n",
       "      <td>2019</td>\n",
       "    </tr>\n",
       "    <tr>\n",
       "      <td>2</td>\n",
       "      <td>2019-10-05 08:01:39</td>\n",
       "      <td>$883</td>\n",
       "      <td>$800</td>\n",
       "      <td>2019</td>\n",
       "    </tr>\n",
       "    <tr>\n",
       "      <td>3</td>\n",
       "      <td>2019-10-05 16:08:21</td>\n",
       "      <td>$883</td>\n",
       "      <td>$800</td>\n",
       "      <td>2019</td>\n",
       "    </tr>\n",
       "    <tr>\n",
       "      <td>4</td>\n",
       "      <td>2019-10-06 00:01:33</td>\n",
       "      <td>$883</td>\n",
       "      <td>$800</td>\n",
       "      <td>2019</td>\n",
       "    </tr>\n",
       "    <tr>\n",
       "      <td>5</td>\n",
       "      <td>2019-10-06 08:01:35</td>\n",
       "      <td>$883</td>\n",
       "      <td>$800</td>\n",
       "      <td>2019</td>\n",
       "    </tr>\n",
       "    <tr>\n",
       "      <td>6</td>\n",
       "      <td>2019-10-06 16:01:45</td>\n",
       "      <td>$883</td>\n",
       "      <td>$800</td>\n",
       "      <td>2019</td>\n",
       "    </tr>\n",
       "    <tr>\n",
       "      <td>7</td>\n",
       "      <td>2019-10-07 00:01:40</td>\n",
       "      <td>$883</td>\n",
       "      <td>$800</td>\n",
       "      <td>2019</td>\n",
       "    </tr>\n",
       "    <tr>\n",
       "      <td>8</td>\n",
       "      <td>2019-10-07 08:01:11</td>\n",
       "      <td>$883</td>\n",
       "      <td>$800</td>\n",
       "      <td>2019</td>\n",
       "    </tr>\n",
       "    <tr>\n",
       "      <td>9</td>\n",
       "      <td>2019-10-07 16:01:08</td>\n",
       "      <td>$883</td>\n",
       "      <td>$800</td>\n",
       "      <td>2019</td>\n",
       "    </tr>\n",
       "    <tr>\n",
       "      <td>10</td>\n",
       "      <td>2018-10-08 08:01:52</td>\n",
       "      <td>$883</td>\n",
       "      <td>$800</td>\n",
       "      <td>2018</td>\n",
       "    </tr>\n",
       "    <tr>\n",
       "      <td>11</td>\n",
       "      <td>2018-10-10 08:01:27</td>\n",
       "      <td>$803</td>\n",
       "      <td>$803</td>\n",
       "      <td>2018</td>\n",
       "    </tr>\n",
       "    <tr>\n",
       "      <td>17</td>\n",
       "      <td>2016-10-20 04:39:48</td>\n",
       "      <td>$883</td>\n",
       "      <td>$840</td>\n",
       "      <td>2016</td>\n",
       "    </tr>\n",
       "    <tr>\n",
       "      <td>18</td>\n",
       "      <td>2016-10-21 04:39:54</td>\n",
       "      <td>$883</td>\n",
       "      <td>$840</td>\n",
       "      <td>2016</td>\n",
       "    </tr>\n",
       "    <tr>\n",
       "      <td>21</td>\n",
       "      <td>2015-10-24 04:39:53</td>\n",
       "      <td>$883</td>\n",
       "      <td>$840</td>\n",
       "      <td>2015</td>\n",
       "    </tr>\n",
       "    <tr>\n",
       "      <td>23</td>\n",
       "      <td>2015-10-26 04:39:50</td>\n",
       "      <td>$883</td>\n",
       "      <td>$796</td>\n",
       "      <td>2015</td>\n",
       "    </tr>\n",
       "  </tbody>\n",
       "</table>\n",
       "</div>"
      ],
      "text/plain": [
       "           script_time price_to_houston_united price_to_houston_all  Year\n",
       "0  2019-10-05 01:24:43                    $883                 $800  2019\n",
       "1  2019-10-05 01:31:09                    $883                 $800  2019\n",
       "2  2019-10-05 08:01:39                    $883                 $800  2019\n",
       "3  2019-10-05 16:08:21                    $883                 $800  2019\n",
       "4  2019-10-06 00:01:33                    $883                 $800  2019\n",
       "5  2019-10-06 08:01:35                    $883                 $800  2019\n",
       "6  2019-10-06 16:01:45                    $883                 $800  2019\n",
       "7  2019-10-07 00:01:40                    $883                 $800  2019\n",
       "8  2019-10-07 08:01:11                    $883                 $800  2019\n",
       "9  2019-10-07 16:01:08                    $883                 $800  2019\n",
       "10 2018-10-08 08:01:52                    $883                 $800  2018\n",
       "11 2018-10-10 08:01:27                    $803                 $803  2018\n",
       "17 2016-10-20 04:39:48                    $883                 $840  2016\n",
       "18 2016-10-21 04:39:54                    $883                 $840  2016\n",
       "21 2015-10-24 04:39:53                    $883                 $840  2015\n",
       "23 2015-10-26 04:39:50                    $883                 $796  2015"
      ]
     },
     "execution_count": 12,
     "metadata": {},
     "output_type": "execute_result"
    }
   ],
   "source": [
    "# show prices before timestamp\n",
    "df.loc[df.script_time <= ts]"
   ]
  },
  {
   "cell_type": "code",
   "execution_count": 13,
   "metadata": {
    "scrolled": true
   },
   "outputs": [
    {
     "data": {
      "text/plain": [
       "2015     2\n",
       "2016     2\n",
       "2018     2\n",
       "2019    25\n",
       "Name: Year, dtype: int64"
      ]
     },
     "execution_count": 13,
     "metadata": {},
     "output_type": "execute_result"
    }
   ],
   "source": [
    "# how many times each year appear\n",
    "df.Year.value_counts().sort_index()"
   ]
  },
  {
   "cell_type": "code",
   "execution_count": 15,
   "metadata": {},
   "outputs": [
    {
     "data": {
      "text/plain": [
       "<matplotlib.axes._subplots.AxesSubplot at 0xfbb4a10>"
      ]
     },
     "execution_count": 15,
     "metadata": {},
     "output_type": "execute_result"
    },
    {
     "data": {
      "image/png": "[encoded data removed]",
      "text/plain": [
       "<Figure size 432x288 with 1 Axes>"
      ]
     },
     "metadata": {
      "needs_background": "light"
     },
     "output_type": "display_data"
    }
   ],
   "source": [
    "from matplotlib import pyplot as plt\n",
    "%matplotlib inline\n",
    "df.Year.value_counts().sort_index().plot()"
   ]
  }
 ],
 "metadata": {
  "kernelspec": {
   "display_name": "Python 3",
   "language": "python",
   "name": "python3"
  },
  "language_info": {
   "codemirror_mode": {
    "name": "ipython",
    "version": 3
   },
   "file_extension": ".py",
   "mimetype": "text/x-python",
   "name": "python",
   "nbconvert_exporter": "python",
   "pygments_lexer": "ipython3",
   "version": "3.7.4"
  }
 },
 "nbformat": 4,
 "nbformat_minor": 2
}
