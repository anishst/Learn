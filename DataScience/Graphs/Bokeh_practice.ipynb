{
 "cells": [
  {
   "cell_type": "code",
   "execution_count": 1,
   "metadata": {},
   "outputs": [
    {
     "ename": "ModuleNotFoundError",
     "evalue": "No module named 'bokeh'",
     "output_type": "error",
     "traceback": [
      "\u001b[1;31m---------------------------------------------------------------------------\u001b[0m",
      "\u001b[1;31mModuleNotFoundError\u001b[0m                       Traceback (most recent call last)",
      "\u001b[1;32m<ipython-input-1-510dc0c703d0>\u001b[0m in \u001b[0;36m<module>\u001b[1;34m\u001b[0m\n\u001b[1;32m----> 1\u001b[1;33m \u001b[1;32mfrom\u001b[0m \u001b[0mbokeh\u001b[0m\u001b[1;33m.\u001b[0m\u001b[0mplotting\u001b[0m \u001b[1;32mimport\u001b[0m \u001b[0mfigure\u001b[0m\u001b[1;33m,\u001b[0m \u001b[0moutput_file\u001b[0m\u001b[1;33m,\u001b[0m \u001b[0mshow\u001b[0m\u001b[1;33m\u001b[0m\u001b[1;33m\u001b[0m\u001b[0m\n\u001b[0m\u001b[0;32m      2\u001b[0m \u001b[1;32mfrom\u001b[0m \u001b[0mbokeh\u001b[0m\u001b[1;33m.\u001b[0m\u001b[0mio\u001b[0m \u001b[1;32mimport\u001b[0m \u001b[0mpush_notebook\u001b[0m\u001b[1;33m,\u001b[0m \u001b[0mshow\u001b[0m\u001b[1;33m,\u001b[0m \u001b[0moutput_notebook\u001b[0m\u001b[1;33m\u001b[0m\u001b[1;33m\u001b[0m\u001b[0m\n\u001b[0;32m      3\u001b[0m \u001b[0moutput_notebook\u001b[0m\u001b[1;33m(\u001b[0m\u001b[1;33m)\u001b[0m\u001b[1;33m\u001b[0m\u001b[1;33m\u001b[0m\u001b[0m\n\u001b[0;32m      4\u001b[0m \u001b[1;33m\u001b[0m\u001b[0m\n\u001b[0;32m      5\u001b[0m \u001b[1;31m# prepare some data\u001b[0m\u001b[1;33m\u001b[0m\u001b[1;33m\u001b[0m\u001b[1;33m\u001b[0m\u001b[0m\n",
      "\u001b[1;31mModuleNotFoundError\u001b[0m: No module named 'bokeh'"
     ]
    }
   ],
   "source": [
    "from bokeh.plotting import figure, output_file, show\n",
    "from bokeh.io import push_notebook, show, output_notebook\n",
    "output_notebook()\n",
    "\n",
    "# prepare some data\n",
    "x = [1, 2, 3, 4, 5]\n",
    "y = [6, 7, 2, 4, 5]\n",
    "\n",
    "# # output to static HTML file\n",
    "# output_file(\"lines.html\")\n",
    "\n",
    "# create a new plot with a title and axis labels\n",
    "p = figure(title=\"simple line example\", x_axis_label='x', y_axis_label='y')\n",
    "\n",
    "# add a line renderer with legend and line thickness\n",
    "p.line(x, y, legend=\"Temp.\", line_width=2)\n",
    "\n",
    "# show the results\n",
    "# show(p)\n",
    "show(p, notebook_handle=True)"
   ]
  },
  {
   "cell_type": "code",
   "execution_count": 2,
   "metadata": {},
   "outputs": [
    {
     "data": {
      "text/html": [
       "\n",
       "\n",
       "\n",
       "\n",
       "\n",
       "\n",
       "  <div class=\"bk-root\" id=\"b36465e4-7c9f-466d-94cc-e34cc77baf1d\" data-root-id=\"1106\"></div>\n"
      ]
     },
     "metadata": {},
     "output_type": "display_data"
    },
    {
     "data": {
      "application/javascript": [
       "(function(root) {\n",
       "  function embed_document(root) {\n",
       "    \n",
       "  var docs_json = {\"4c2250c3-0f67-4172-b234-050784a77ab6\":{\"roots\":{\"references\":[{\"attributes\":{\"below\":[{\"id\":\"1115\",\"type\":\"LinearAxis\"}],\"center\":[{\"id\":\"1119\",\"type\":\"Grid\"},{\"id\":\"1124\",\"type\":\"Grid\"}],\"left\":[{\"id\":\"1120\",\"type\":\"LinearAxis\"}],\"renderers\":[{\"id\":\"1141\",\"type\":\"GlyphRenderer\"}],\"title\":{\"id\":\"1152\",\"type\":\"Title\"},\"toolbar\":{\"id\":\"1131\",\"type\":\"Toolbar\"},\"x_range\":{\"id\":\"1107\",\"type\":\"DataRange1d\"},\"x_scale\":{\"id\":\"1111\",\"type\":\"LinearScale\"},\"y_range\":{\"id\":\"1109\",\"type\":\"DataRange1d\"},\"y_scale\":{\"id\":\"1113\",\"type\":\"LinearScale\"}},\"id\":\"1106\",\"subtype\":\"Figure\",\"type\":\"Plot\"},{\"attributes\":{},\"id\":\"1130\",\"type\":\"HelpTool\"},{\"attributes\":{\"callback\":null},\"id\":\"1109\",\"type\":\"DataRange1d\"},{\"attributes\":{\"bottom_units\":\"screen\",\"fill_alpha\":{\"value\":0.5},\"fill_color\":{\"value\":\"lightgrey\"},\"left_units\":\"screen\",\"level\":\"overlay\",\"line_alpha\":{\"value\":1.0},\"line_color\":{\"value\":\"black\"},\"line_dash\":[4,4],\"line_width\":{\"value\":2},\"render_mode\":\"css\",\"right_units\":\"screen\",\"top_units\":\"screen\"},\"id\":\"1157\",\"type\":\"BoxAnnotation\"},{\"attributes\":{},\"id\":\"1156\",\"type\":\"BasicTickFormatter\"},{\"attributes\":{},\"id\":\"1159\",\"type\":\"Selection\"},{\"attributes\":{\"callback\":null,\"data\":{\"x\":[1,2,3,4,5],\"y\":[6,7,2,3,6]},\"selected\":{\"id\":\"1159\",\"type\":\"Selection\"},\"selection_policy\":{\"id\":\"1158\",\"type\":\"UnionRenderers\"}},\"id\":\"1138\",\"type\":\"ColumnDataSource\"},{\"attributes\":{},\"id\":\"1158\",\"type\":\"UnionRenderers\"},{\"attributes\":{\"formatter\":{\"id\":\"1156\",\"type\":\"BasicTickFormatter\"},\"ticker\":{\"id\":\"1116\",\"type\":\"BasicTicker\"}},\"id\":\"1115\",\"type\":\"LinearAxis\"},{\"attributes\":{\"fill_alpha\":{\"value\":0.1},\"fill_color\":{\"value\":\"#1f77b4\"},\"line_alpha\":{\"value\":0.1},\"line_color\":{\"value\":\"#1f77b4\"},\"x\":{\"field\":\"x\"},\"y\":{\"field\":\"y\"}},\"id\":\"1140\",\"type\":\"Circle\"},{\"attributes\":{\"ticker\":{\"id\":\"1116\",\"type\":\"BasicTicker\"}},\"id\":\"1119\",\"type\":\"Grid\"},{\"attributes\":{},\"id\":\"1111\",\"type\":\"LinearScale\"},{\"attributes\":{},\"id\":\"1116\",\"type\":\"BasicTicker\"},{\"attributes\":{},\"id\":\"1121\",\"type\":\"BasicTicker\"},{\"attributes\":{\"formatter\":{\"id\":\"1154\",\"type\":\"BasicTickFormatter\"},\"ticker\":{\"id\":\"1121\",\"type\":\"BasicTicker\"}},\"id\":\"1120\",\"type\":\"LinearAxis\"},{\"attributes\":{\"dimension\":1,\"ticker\":{\"id\":\"1121\",\"type\":\"BasicTicker\"}},\"id\":\"1124\",\"type\":\"Grid\"},{\"attributes\":{\"text\":\"\"},\"id\":\"1152\",\"type\":\"Title\"},{\"attributes\":{\"active_drag\":\"auto\",\"active_inspect\":\"auto\",\"active_multi\":null,\"active_scroll\":\"auto\",\"active_tap\":\"auto\",\"tools\":[{\"id\":\"1125\",\"type\":\"PanTool\"},{\"id\":\"1126\",\"type\":\"WheelZoomTool\"},{\"id\":\"1127\",\"type\":\"BoxZoomTool\"},{\"id\":\"1128\",\"type\":\"SaveTool\"},{\"id\":\"1129\",\"type\":\"ResetTool\"},{\"id\":\"1130\",\"type\":\"HelpTool\"}]},\"id\":\"1131\",\"type\":\"Toolbar\"},{\"attributes\":{\"fill_color\":{\"value\":\"#1f77b4\"},\"line_color\":{\"value\":\"#1f77b4\"},\"x\":{\"field\":\"x\"},\"y\":{\"field\":\"y\"}},\"id\":\"1139\",\"type\":\"Circle\"},{\"attributes\":{\"callback\":null},\"id\":\"1107\",\"type\":\"DataRange1d\"},{\"attributes\":{\"source\":{\"id\":\"1138\",\"type\":\"ColumnDataSource\"}},\"id\":\"1142\",\"type\":\"CDSView\"},{\"attributes\":{},\"id\":\"1128\",\"type\":\"SaveTool\"},{\"attributes\":{},\"id\":\"1125\",\"type\":\"PanTool\"},{\"attributes\":{},\"id\":\"1126\",\"type\":\"WheelZoomTool\"},{\"attributes\":{\"overlay\":{\"id\":\"1157\",\"type\":\"BoxAnnotation\"}},\"id\":\"1127\",\"type\":\"BoxZoomTool\"},{\"attributes\":{},\"id\":\"1113\",\"type\":\"LinearScale\"},{\"attributes\":{},\"id\":\"1154\",\"type\":\"BasicTickFormatter\"},{\"attributes\":{\"data_source\":{\"id\":\"1138\",\"type\":\"ColumnDataSource\"},\"glyph\":{\"id\":\"1139\",\"type\":\"Circle\"},\"hover_glyph\":null,\"muted_glyph\":null,\"nonselection_glyph\":{\"id\":\"1140\",\"type\":\"Circle\"},\"selection_glyph\":null,\"view\":{\"id\":\"1142\",\"type\":\"CDSView\"}},\"id\":\"1141\",\"type\":\"GlyphRenderer\"},{\"attributes\":{},\"id\":\"1129\",\"type\":\"ResetTool\"}],\"root_ids\":[\"1106\"]},\"title\":\"Bokeh Application\",\"version\":\"1.3.4\"}};\n",
       "  var render_items = [{\"docid\":\"4c2250c3-0f67-4172-b234-050784a77ab6\",\"notebook_comms_target\":\"1160\",\"roots\":{\"1106\":\"b36465e4-7c9f-466d-94cc-e34cc77baf1d\"}}];\n",
       "  root.Bokeh.embed.embed_items_notebook(docs_json, render_items);\n",
       "\n",
       "  }\n",
       "  if (root.Bokeh !== undefined) {\n",
       "    embed_document(root);\n",
       "  } else {\n",
       "    var attempts = 0;\n",
       "    var timer = setInterval(function(root) {\n",
       "      if (root.Bokeh !== undefined) {\n",
       "        embed_document(root);\n",
       "        clearInterval(timer);\n",
       "      }\n",
       "      attempts++;\n",
       "      if (attempts > 100) {\n",
       "        console.log(\"Bokeh: ERROR: Unable to run BokehJS code because BokehJS library is missing\");\n",
       "        clearInterval(timer);\n",
       "      }\n",
       "    }, 10, root)\n",
       "  }\n",
       "})(window);"
      ],
      "application/vnd.bokehjs_exec.v0+json": ""
     },
     "metadata": {
      "application/vnd.bokehjs_exec.v0+json": {
       "id": "1106"
      }
     },
     "output_type": "display_data"
    },
    {
     "data": {
      "text/html": [
       "<p><code>&lt;Bokeh Notebook handle for <strong>In[2]</strong>&gt;</code></p>"
      ],
      "text/plain": [
       "<bokeh.io.notebook.CommsHandle at 0x676ff30>"
      ]
     },
     "execution_count": 2,
     "metadata": {},
     "output_type": "execute_result"
    }
   ],
   "source": [
    "x_values = [1, 2, 3, 4, 5]\n",
    "y_values = [6, 7, 2, 3, 6]\n",
    "\n",
    "p = figure()\n",
    "p.circle(x=x_values, y=y_values)\n",
    "show(p, notebook_handle=True)"
   ]
  },
  {
   "cell_type": "code",
   "execution_count": 3,
   "metadata": {
    "scrolled": true
   },
   "outputs": [
    {
     "data": {
      "text/html": [
       "\n",
       "\n",
       "\n",
       "\n",
       "\n",
       "\n",
       "  <div class=\"bk-root\" id=\"a4d068cd-eac0-4cea-b6bb-04c22ec343ef\" data-root-id=\"1215\"></div>\n"
      ]
     },
     "metadata": {},
     "output_type": "display_data"
    },
    {
     "data": {
      "application/javascript": [
       "(function(root) {\n",
       "  function embed_document(root) {\n",
       "    \n",
       "  var docs_json = {\"36286a70-f992-4329-b4e1-4e1387e223ae\":{\"roots\":{\"references\":[{\"attributes\":{\"below\":[{\"id\":\"1226\",\"type\":\"CategoricalAxis\"}],\"center\":[{\"id\":\"1229\",\"type\":\"Grid\"},{\"id\":\"1234\",\"type\":\"Grid\"}],\"left\":[{\"id\":\"1230\",\"type\":\"LinearAxis\"}],\"plot_height\":250,\"renderers\":[{\"id\":\"1239\",\"type\":\"GlyphRenderer\"}],\"title\":{\"id\":\"1216\",\"type\":\"Title\"},\"toolbar\":{\"id\":\"1235\",\"type\":\"Toolbar\"},\"toolbar_location\":null,\"x_range\":{\"id\":\"1218\",\"type\":\"FactorRange\"},\"x_scale\":{\"id\":\"1222\",\"type\":\"CategoricalScale\"},\"y_range\":{\"id\":\"1220\",\"type\":\"DataRange1d\"},\"y_scale\":{\"id\":\"1224\",\"type\":\"LinearScale\"}},\"id\":\"1215\",\"subtype\":\"Figure\",\"type\":\"Plot\"},{\"attributes\":{},\"id\":\"1224\",\"type\":\"LinearScale\"},{\"attributes\":{},\"id\":\"1231\",\"type\":\"BasicTicker\"},{\"attributes\":{},\"id\":\"1222\",\"type\":\"CategoricalScale\"},{\"attributes\":{\"formatter\":{\"id\":\"1262\",\"type\":\"CategoricalTickFormatter\"},\"ticker\":{\"id\":\"1227\",\"type\":\"CategoricalTicker\"}},\"id\":\"1226\",\"type\":\"CategoricalAxis\"},{\"attributes\":{},\"id\":\"1227\",\"type\":\"CategoricalTicker\"},{\"attributes\":{},\"id\":\"1263\",\"type\":\"UnionRenderers\"},{\"attributes\":{\"grid_line_color\":null,\"ticker\":{\"id\":\"1227\",\"type\":\"CategoricalTicker\"}},\"id\":\"1229\",\"type\":\"Grid\"},{\"attributes\":{\"active_drag\":\"auto\",\"active_inspect\":\"auto\",\"active_multi\":null,\"active_scroll\":\"auto\",\"active_tap\":\"auto\"},\"id\":\"1235\",\"type\":\"Toolbar\"},{\"attributes\":{\"dimension\":1,\"ticker\":{\"id\":\"1231\",\"type\":\"BasicTicker\"}},\"id\":\"1234\",\"type\":\"Grid\"},{\"attributes\":{\"formatter\":{\"id\":\"1260\",\"type\":\"BasicTickFormatter\"},\"ticker\":{\"id\":\"1231\",\"type\":\"BasicTicker\"}},\"id\":\"1230\",\"type\":\"LinearAxis\"},{\"attributes\":{\"callback\":null,\"data\":{\"top\":[5,3,4,2,4,6],\"x\":[\"Apples\",\"Pears\",\"Nectarines\",\"Plums\",\"Grapes\",\"Strawberries\"]},\"selected\":{\"id\":\"1264\",\"type\":\"Selection\"},\"selection_policy\":{\"id\":\"1263\",\"type\":\"UnionRenderers\"}},\"id\":\"1236\",\"type\":\"ColumnDataSource\"},{\"attributes\":{\"fill_alpha\":{\"value\":0.1},\"fill_color\":{\"value\":\"#1f77b4\"},\"line_alpha\":{\"value\":0.1},\"line_color\":{\"value\":\"#1f77b4\"},\"top\":{\"field\":\"top\"},\"width\":{\"value\":0.9},\"x\":{\"field\":\"x\"}},\"id\":\"1238\",\"type\":\"VBar\"},{\"attributes\":{},\"id\":\"1262\",\"type\":\"CategoricalTickFormatter\"},{\"attributes\":{\"source\":{\"id\":\"1236\",\"type\":\"ColumnDataSource\"}},\"id\":\"1240\",\"type\":\"CDSView\"},{\"attributes\":{},\"id\":\"1260\",\"type\":\"BasicTickFormatter\"},{\"attributes\":{\"data_source\":{\"id\":\"1236\",\"type\":\"ColumnDataSource\"},\"glyph\":{\"id\":\"1237\",\"type\":\"VBar\"},\"hover_glyph\":null,\"muted_glyph\":null,\"nonselection_glyph\":{\"id\":\"1238\",\"type\":\"VBar\"},\"selection_glyph\":null,\"view\":{\"id\":\"1240\",\"type\":\"CDSView\"}},\"id\":\"1239\",\"type\":\"GlyphRenderer\"},{\"attributes\":{\"fill_color\":{\"value\":\"#1f77b4\"},\"line_color\":{\"value\":\"#1f77b4\"},\"top\":{\"field\":\"top\"},\"width\":{\"value\":0.9},\"x\":{\"field\":\"x\"}},\"id\":\"1237\",\"type\":\"VBar\"},{\"attributes\":{},\"id\":\"1264\",\"type\":\"Selection\"},{\"attributes\":{\"text\":\"Fruit Counts\"},\"id\":\"1216\",\"type\":\"Title\"},{\"attributes\":{\"callback\":null,\"start\":0},\"id\":\"1220\",\"type\":\"DataRange1d\"},{\"attributes\":{\"callback\":null,\"factors\":[\"Apples\",\"Pears\",\"Nectarines\",\"Plums\",\"Grapes\",\"Strawberries\"]},\"id\":\"1218\",\"type\":\"FactorRange\"}],\"root_ids\":[\"1215\"]},\"title\":\"Bokeh Application\",\"version\":\"1.3.4\"}};\n",
       "  var render_items = [{\"docid\":\"36286a70-f992-4329-b4e1-4e1387e223ae\",\"roots\":{\"1215\":\"a4d068cd-eac0-4cea-b6bb-04c22ec343ef\"}}];\n",
       "  root.Bokeh.embed.embed_items_notebook(docs_json, render_items);\n",
       "\n",
       "  }\n",
       "  if (root.Bokeh !== undefined) {\n",
       "    embed_document(root);\n",
       "  } else {\n",
       "    var attempts = 0;\n",
       "    var timer = setInterval(function(root) {\n",
       "      if (root.Bokeh !== undefined) {\n",
       "        embed_document(root);\n",
       "        clearInterval(timer);\n",
       "      }\n",
       "      attempts++;\n",
       "      if (attempts > 100) {\n",
       "        console.log(\"Bokeh: ERROR: Unable to run BokehJS code because BokehJS library is missing\");\n",
       "        clearInterval(timer);\n",
       "      }\n",
       "    }, 10, root)\n",
       "  }\n",
       "})(window);"
      ],
      "application/vnd.bokehjs_exec.v0+json": ""
     },
     "metadata": {
      "application/vnd.bokehjs_exec.v0+json": {
       "id": "1215"
      }
     },
     "output_type": "display_data"
    }
   ],
   "source": [
    "#https://docs.bokeh.org/en/latest/docs/user_guide/categorical.html\n",
    "fruits = ['Apples', 'Pears', 'Nectarines', 'Plums', 'Grapes', 'Strawberries']\n",
    "counts = [5, 3, 4, 2, 4, 6]\n",
    "\n",
    "p = figure(x_range=fruits, plot_height=250, title=\"Fruit Counts\",\n",
    "           toolbar_location=None, tools=\"\")\n",
    "\n",
    "p.vbar(x=fruits, top=counts, width=0.9)\n",
    "\n",
    "p.xgrid.grid_line_color = None\n",
    "p.y_range.start = 0\n",
    "\n",
    "show(p)"
   ]
  },
  {
   "cell_type": "code",
   "execution_count": 4,
   "metadata": {},
   "outputs": [
    {
     "data": {
      "text/html": [
       "\n",
       "\n",
       "\n",
       "\n",
       "\n",
       "\n",
       "  <div class=\"bk-root\" id=\"f8c349f4-3fd5-4f9c-b349-37fc3d2729f6\" data-root-id=\"1308\"></div>\n"
      ]
     },
     "metadata": {},
     "output_type": "display_data"
    },
    {
     "data": {
      "application/javascript": [
       "(function(root) {\n",
       "  function embed_document(root) {\n",
       "    \n",
       "  var docs_json = {\"65498a48-4447-41c8-9cb4-ef1a7c1c8e89\":{\"roots\":{\"references\":[{\"attributes\":{\"below\":[{\"id\":\"1319\",\"type\":\"CategoricalAxis\"}],\"center\":[{\"id\":\"1322\",\"type\":\"Grid\"},{\"id\":\"1327\",\"type\":\"Grid\"},{\"id\":\"1339\",\"type\":\"Legend\"}],\"left\":[{\"id\":\"1323\",\"type\":\"LinearAxis\"}],\"plot_height\":250,\"renderers\":[{\"id\":\"1332\",\"type\":\"GlyphRenderer\"}],\"title\":{\"id\":\"1309\",\"type\":\"Title\"},\"toolbar\":{\"id\":\"1328\",\"type\":\"Toolbar\"},\"toolbar_location\":null,\"x_range\":{\"id\":\"1311\",\"type\":\"FactorRange\"},\"x_scale\":{\"id\":\"1315\",\"type\":\"CategoricalScale\"},\"y_range\":{\"id\":\"1313\",\"type\":\"Range1d\"},\"y_scale\":{\"id\":\"1317\",\"type\":\"LinearScale\"}},\"id\":\"1308\",\"subtype\":\"Figure\",\"type\":\"Plot\"},{\"attributes\":{\"fill_alpha\":{\"value\":0.1},\"fill_color\":{\"value\":\"#1f77b4\"},\"line_alpha\":{\"value\":0.1},\"line_color\":{\"value\":\"#1f77b4\"},\"top\":{\"field\":\"counts\"},\"width\":{\"value\":0.9},\"x\":{\"field\":\"fruits\"}},\"id\":\"1331\",\"type\":\"VBar\"},{\"attributes\":{\"data_source\":{\"id\":\"1307\",\"type\":\"ColumnDataSource\"},\"glyph\":{\"id\":\"1330\",\"type\":\"VBar\"},\"hover_glyph\":null,\"muted_glyph\":null,\"nonselection_glyph\":{\"id\":\"1331\",\"type\":\"VBar\"},\"selection_glyph\":null,\"view\":{\"id\":\"1333\",\"type\":\"CDSView\"}},\"id\":\"1332\",\"type\":\"GlyphRenderer\"},{\"attributes\":{\"source\":{\"id\":\"1307\",\"type\":\"ColumnDataSource\"}},\"id\":\"1333\",\"type\":\"CDSView\"},{\"attributes\":{},\"id\":\"1336\",\"type\":\"BasicTickFormatter\"},{\"attributes\":{},\"id\":\"1370\",\"type\":\"UnionRenderers\"},{\"attributes\":{},\"id\":\"1338\",\"type\":\"CategoricalTickFormatter\"},{\"attributes\":{\"label\":{\"field\":\"fruits\"},\"renderers\":[{\"id\":\"1332\",\"type\":\"GlyphRenderer\"}]},\"id\":\"1340\",\"type\":\"LegendItem\"},{\"attributes\":{\"callback\":null,\"data\":{\"color\":[\"#3288bd\",\"#99d594\",\"#e6f598\",\"#fee08b\",\"#fc8d59\",\"#d53e4f\"],\"counts\":[5,3,4,2,4,6],\"fruits\":[\"Apples\",\"Pears\",\"Nectarines\",\"Plums\",\"Grapes\",\"Strawberries\"]},\"selected\":{\"id\":\"1371\",\"type\":\"Selection\"},\"selection_policy\":{\"id\":\"1370\",\"type\":\"UnionRenderers\"}},\"id\":\"1307\",\"type\":\"ColumnDataSource\"},{\"attributes\":{\"fill_color\":{\"field\":\"color\"},\"line_color\":{\"field\":\"color\"},\"top\":{\"field\":\"counts\"},\"width\":{\"value\":0.9},\"x\":{\"field\":\"fruits\"}},\"id\":\"1330\",\"type\":\"VBar\"},{\"attributes\":{\"items\":[{\"id\":\"1340\",\"type\":\"LegendItem\"}],\"location\":\"top_center\",\"orientation\":\"horizontal\"},\"id\":\"1339\",\"type\":\"Legend\"},{\"attributes\":{\"callback\":null,\"factors\":[\"Apples\",\"Pears\",\"Nectarines\",\"Plums\",\"Grapes\",\"Strawberries\"]},\"id\":\"1311\",\"type\":\"FactorRange\"},{\"attributes\":{\"text\":\"Fruit Counts\"},\"id\":\"1309\",\"type\":\"Title\"},{\"attributes\":{},\"id\":\"1317\",\"type\":\"LinearScale\"},{\"attributes\":{},\"id\":\"1315\",\"type\":\"CategoricalScale\"},{\"attributes\":{\"callback\":null,\"end\":9},\"id\":\"1313\",\"type\":\"Range1d\"},{\"attributes\":{\"formatter\":{\"id\":\"1338\",\"type\":\"CategoricalTickFormatter\"},\"ticker\":{\"id\":\"1320\",\"type\":\"CategoricalTicker\"}},\"id\":\"1319\",\"type\":\"CategoricalAxis\"},{\"attributes\":{},\"id\":\"1320\",\"type\":\"CategoricalTicker\"},{\"attributes\":{},\"id\":\"1371\",\"type\":\"Selection\"},{\"attributes\":{\"grid_line_color\":null,\"ticker\":{\"id\":\"1320\",\"type\":\"CategoricalTicker\"}},\"id\":\"1322\",\"type\":\"Grid\"},{\"attributes\":{},\"id\":\"1324\",\"type\":\"BasicTicker\"},{\"attributes\":{\"active_drag\":\"auto\",\"active_inspect\":\"auto\",\"active_multi\":null,\"active_scroll\":\"auto\",\"active_tap\":\"auto\"},\"id\":\"1328\",\"type\":\"Toolbar\"},{\"attributes\":{\"dimension\":1,\"ticker\":{\"id\":\"1324\",\"type\":\"BasicTicker\"}},\"id\":\"1327\",\"type\":\"Grid\"},{\"attributes\":{\"formatter\":{\"id\":\"1336\",\"type\":\"BasicTickFormatter\"},\"ticker\":{\"id\":\"1324\",\"type\":\"BasicTicker\"}},\"id\":\"1323\",\"type\":\"LinearAxis\"}],\"root_ids\":[\"1308\"]},\"title\":\"Bokeh Application\",\"version\":\"1.3.4\"}};\n",
       "  var render_items = [{\"docid\":\"65498a48-4447-41c8-9cb4-ef1a7c1c8e89\",\"roots\":{\"1308\":\"f8c349f4-3fd5-4f9c-b349-37fc3d2729f6\"}}];\n",
       "  root.Bokeh.embed.embed_items_notebook(docs_json, render_items);\n",
       "\n",
       "  }\n",
       "  if (root.Bokeh !== undefined) {\n",
       "    embed_document(root);\n",
       "  } else {\n",
       "    var attempts = 0;\n",
       "    var timer = setInterval(function(root) {\n",
       "      if (root.Bokeh !== undefined) {\n",
       "        embed_document(root);\n",
       "        clearInterval(timer);\n",
       "      }\n",
       "      attempts++;\n",
       "      if (attempts > 100) {\n",
       "        console.log(\"Bokeh: ERROR: Unable to run BokehJS code because BokehJS library is missing\");\n",
       "        clearInterval(timer);\n",
       "      }\n",
       "    }, 10, root)\n",
       "  }\n",
       "})(window);"
      ],
      "application/vnd.bokehjs_exec.v0+json": ""
     },
     "metadata": {
      "application/vnd.bokehjs_exec.v0+json": {
       "id": "1308"
      }
     },
     "output_type": "display_data"
    }
   ],
   "source": [
    "from bokeh.io import show, output_file\n",
    "from bokeh.models import ColumnDataSource\n",
    "from bokeh.palettes import Spectral6\n",
    "from bokeh.plotting import figure\n",
    "\n",
    "\n",
    "fruits = ['Apples', 'Pears', 'Nectarines', 'Plums', 'Grapes', 'Strawberries']\n",
    "counts = [5, 3, 4, 2, 4, 6]\n",
    "\n",
    "source = ColumnDataSource(data=dict(fruits=fruits, counts=counts, color=Spectral6))\n",
    "\n",
    "p = figure(x_range=fruits, y_range=(0,9), plot_height=250, title=\"Fruit Counts\",\n",
    "           toolbar_location=None, tools=\"\")\n",
    "\n",
    "p.vbar(x='fruits', top='counts', width=0.9, color='color', legend=\"fruits\", source=source)\n",
    "\n",
    "p.xgrid.grid_line_color = None\n",
    "p.legend.orientation = \"horizontal\"\n",
    "p.legend.location = \"top_center\"\n",
    "\n",
    "show(p)"
   ]
  },
  {
   "cell_type": "code",
   "execution_count": 5,
   "metadata": {},
   "outputs": [
    {
     "data": {
      "text/html": [
       "\n",
       "\n",
       "\n",
       "\n",
       "\n",
       "\n",
       "  <div class=\"bk-root\" id=\"2acd276b-b502-41b5-806e-c480327138ff\" data-root-id=\"1415\"></div>\n"
      ]
     },
     "metadata": {},
     "output_type": "display_data"
    },
    {
     "data": {
      "application/javascript": [
       "(function(root) {\n",
       "  function embed_document(root) {\n",
       "    \n",
       "  var docs_json = {\"8a2dc23f-5365-4a85-9503-b6695b590121\":{\"roots\":{\"references\":[{\"attributes\":{\"below\":[{\"id\":\"1424\",\"type\":\"DatetimeAxis\"}],\"center\":[{\"id\":\"1428\",\"type\":\"Grid\"},{\"id\":\"1433\",\"type\":\"Grid\"}],\"left\":[{\"id\":\"1429\",\"type\":\"LinearAxis\"}],\"renderers\":[{\"id\":\"1450\",\"type\":\"GlyphRenderer\"}],\"title\":{\"id\":\"1484\",\"type\":\"Title\"},\"toolbar\":{\"id\":\"1440\",\"type\":\"Toolbar\"},\"x_range\":{\"id\":\"1416\",\"type\":\"DataRange1d\"},\"x_scale\":{\"id\":\"1420\",\"type\":\"LinearScale\"},\"y_range\":{\"id\":\"1418\",\"type\":\"DataRange1d\"},\"y_scale\":{\"id\":\"1422\",\"type\":\"LinearScale\"}},\"id\":\"1415\",\"subtype\":\"Figure\",\"type\":\"Plot\"},{\"attributes\":{\"months\":[0,4,8]},\"id\":\"1499\",\"type\":\"MonthsTicker\"},{\"attributes\":{},\"id\":\"1486\",\"type\":\"BasicTickFormatter\"},{\"attributes\":{\"months\":[0,6]},\"id\":\"1500\",\"type\":\"MonthsTicker\"},{\"attributes\":{},\"id\":\"1503\",\"type\":\"Selection\"},{\"attributes\":{},\"id\":\"1501\",\"type\":\"YearsTicker\"},{\"attributes\":{},\"id\":\"1502\",\"type\":\"UnionRenderers\"},{\"attributes\":{\"callback\":null},\"id\":\"1418\",\"type\":\"DataRange1d\"},{\"attributes\":{\"data_source\":{\"id\":\"1414\",\"type\":\"ColumnDataSource\"},\"glyph\":{\"id\":\"1448\",\"type\":\"Line\"},\"hover_glyph\":null,\"muted_glyph\":null,\"nonselection_glyph\":{\"id\":\"1449\",\"type\":\"Line\"},\"selection_glyph\":null,\"view\":{\"id\":\"1451\",\"type\":\"CDSView\"}},\"id\":\"1450\",\"type\":\"GlyphRenderer\"},{\"attributes\":{\"mantissas\":[1,2,5],\"max_interval\":500.0,\"num_minor_ticks\":0},\"id\":\"1490\",\"type\":\"AdaptiveTicker\"},{\"attributes\":{\"active_drag\":\"auto\",\"active_inspect\":\"auto\",\"active_multi\":null,\"active_scroll\":\"auto\",\"active_tap\":\"auto\",\"tools\":[{\"id\":\"1434\",\"type\":\"PanTool\"},{\"id\":\"1435\",\"type\":\"WheelZoomTool\"},{\"id\":\"1436\",\"type\":\"BoxZoomTool\"},{\"id\":\"1437\",\"type\":\"SaveTool\"},{\"id\":\"1438\",\"type\":\"ResetTool\"},{\"id\":\"1439\",\"type\":\"HelpTool\"}]},\"id\":\"1440\",\"type\":\"Toolbar\"},{\"attributes\":{\"text\":\"\"},\"id\":\"1484\",\"type\":\"Title\"},{\"attributes\":{\"ticker\":{\"id\":\"1425\",\"type\":\"DatetimeTicker\"}},\"id\":\"1428\",\"type\":\"Grid\"},{\"attributes\":{\"bottom_units\":\"screen\",\"fill_alpha\":{\"value\":0.5},\"fill_color\":{\"value\":\"lightgrey\"},\"left_units\":\"screen\",\"level\":\"overlay\",\"line_alpha\":{\"value\":1.0},\"line_color\":{\"value\":\"black\"},\"line_dash\":[4,4],\"line_width\":{\"value\":2},\"render_mode\":\"css\",\"right_units\":\"screen\",\"top_units\":\"screen\"},\"id\":\"1489\",\"type\":\"BoxAnnotation\"},{\"attributes\":{\"days\":[1,2,3,4,5,6,7,8,9,10,11,12,13,14,15,16,17,18,19,20,21,22,23,24,25,26,27,28,29,30,31]},\"id\":\"1493\",\"type\":\"DaysTicker\"},{\"attributes\":{\"base\":24,\"mantissas\":[1,2,4,6,8,12],\"max_interval\":43200000.0,\"min_interval\":3600000.0,\"num_minor_ticks\":0},\"id\":\"1492\",\"type\":\"AdaptiveTicker\"},{\"attributes\":{\"overlay\":{\"id\":\"1489\",\"type\":\"BoxAnnotation\"}},\"id\":\"1436\",\"type\":\"BoxZoomTool\"},{\"attributes\":{},\"id\":\"1434\",\"type\":\"PanTool\"},{\"attributes\":{\"num_minor_ticks\":5,\"tickers\":[{\"id\":\"1490\",\"type\":\"AdaptiveTicker\"},{\"id\":\"1491\",\"type\":\"AdaptiveTicker\"},{\"id\":\"1492\",\"type\":\"AdaptiveTicker\"},{\"id\":\"1493\",\"type\":\"DaysTicker\"},{\"id\":\"1494\",\"type\":\"DaysTicker\"},{\"id\":\"1495\",\"type\":\"DaysTicker\"},{\"id\":\"1496\",\"type\":\"DaysTicker\"},{\"id\":\"1497\",\"type\":\"MonthsTicker\"},{\"id\":\"1498\",\"type\":\"MonthsTicker\"},{\"id\":\"1499\",\"type\":\"MonthsTicker\"},{\"id\":\"1500\",\"type\":\"MonthsTicker\"},{\"id\":\"1501\",\"type\":\"YearsTicker\"}]},\"id\":\"1425\",\"type\":\"DatetimeTicker\"},{\"attributes\":{\"formatter\":{\"id\":\"1488\",\"type\":\"DatetimeTickFormatter\"},\"ticker\":{\"id\":\"1425\",\"type\":\"DatetimeTicker\"}},\"id\":\"1424\",\"type\":\"DatetimeAxis\"},{\"attributes\":{\"line_alpha\":0.1,\"line_color\":\"#1f77b4\",\"line_width\":2,\"x\":{\"field\":\"Date\"},\"y\":{\"field\":\"Weight\"}},\"id\":\"1449\",\"type\":\"Line\"},{\"attributes\":{\"days\":[1,4,7,10,13,16,19,22,25,28]},\"id\":\"1494\",\"type\":\"DaysTicker\"},{\"attributes\":{\"days\":[1,8,15,22]},\"id\":\"1495\",\"type\":\"DaysTicker\"},{\"attributes\":{\"months\":[0,2,4,6,8,10]},\"id\":\"1498\",\"type\":\"MonthsTicker\"},{\"attributes\":{\"callback\":null,\"data\":{\"Date\":{\"__ndarray__\":\"AADA6c69dEIAAID8STN1QgAAAHUXqXVC\",\"dtype\":\"float64\",\"shape\":[3]},\"Weight\":[50,52,60],\"index\":[0,1,2]},\"selected\":{\"id\":\"1503\",\"type\":\"Selection\"},\"selection_policy\":{\"id\":\"1502\",\"type\":\"UnionRenderers\"}},\"id\":\"1414\",\"type\":\"ColumnDataSource\"},{\"attributes\":{},\"id\":\"1430\",\"type\":\"BasicTicker\"},{\"attributes\":{\"source\":{\"id\":\"1414\",\"type\":\"ColumnDataSource\"}},\"id\":\"1451\",\"type\":\"CDSView\"},{\"attributes\":{},\"id\":\"1437\",\"type\":\"SaveTool\"},{\"attributes\":{},\"id\":\"1422\",\"type\":\"LinearScale\"},{\"attributes\":{},\"id\":\"1488\",\"type\":\"DatetimeTickFormatter\"},{\"attributes\":{\"formatter\":{\"id\":\"1486\",\"type\":\"BasicTickFormatter\"},\"ticker\":{\"id\":\"1430\",\"type\":\"BasicTicker\"}},\"id\":\"1429\",\"type\":\"LinearAxis\"},{\"attributes\":{\"dimension\":1,\"ticker\":{\"id\":\"1430\",\"type\":\"BasicTicker\"}},\"id\":\"1433\",\"type\":\"Grid\"},{\"attributes\":{\"base\":60,\"mantissas\":[1,2,5,10,15,20,30],\"max_interval\":1800000.0,\"min_interval\":1000.0,\"num_minor_ticks\":0},\"id\":\"1491\",\"type\":\"AdaptiveTicker\"},{\"attributes\":{\"line_color\":\"#cf3c4d\",\"line_width\":2,\"x\":{\"field\":\"Date\"},\"y\":{\"field\":\"Weight\"}},\"id\":\"1448\",\"type\":\"Line\"},{\"attributes\":{\"callback\":null},\"id\":\"1416\",\"type\":\"DataRange1d\"},{\"attributes\":{},\"id\":\"1435\",\"type\":\"WheelZoomTool\"},{\"attributes\":{},\"id\":\"1438\",\"type\":\"ResetTool\"},{\"attributes\":{},\"id\":\"1439\",\"type\":\"HelpTool\"},{\"attributes\":{\"months\":[0,1,2,3,4,5,6,7,8,9,10,11]},\"id\":\"1497\",\"type\":\"MonthsTicker\"},{\"attributes\":{},\"id\":\"1420\",\"type\":\"LinearScale\"},{\"attributes\":{\"days\":[1,15]},\"id\":\"1496\",\"type\":\"DaysTicker\"}],\"root_ids\":[\"1415\"]},\"title\":\"Bokeh Application\",\"version\":\"1.3.4\"}};\n",
       "  var render_items = [{\"docid\":\"8a2dc23f-5365-4a85-9503-b6695b590121\",\"roots\":{\"1415\":\"2acd276b-b502-41b5-806e-c480327138ff\"}}];\n",
       "  root.Bokeh.embed.embed_items_notebook(docs_json, render_items);\n",
       "\n",
       "  }\n",
       "  if (root.Bokeh !== undefined) {\n",
       "    embed_document(root);\n",
       "  } else {\n",
       "    var attempts = 0;\n",
       "    var timer = setInterval(function(root) {\n",
       "      if (root.Bokeh !== undefined) {\n",
       "        embed_document(root);\n",
       "        clearInterval(timer);\n",
       "      }\n",
       "      attempts++;\n",
       "      if (attempts > 100) {\n",
       "        console.log(\"Bokeh: ERROR: Unable to run BokehJS code because BokehJS library is missing\");\n",
       "        clearInterval(timer);\n",
       "      }\n",
       "    }, 10, root)\n",
       "  }\n",
       "})(window);"
      ],
      "application/vnd.bokehjs_exec.v0+json": ""
     },
     "metadata": {
      "application/vnd.bokehjs_exec.v0+json": {
       "id": "1415"
      }
     },
     "output_type": "display_data"
    }
   ],
   "source": [
    "import pandas as pd\n",
    "from bokeh.plotting import figure, output_file, show\n",
    "from bokeh.models import ColumnDataSource\n",
    "\n",
    "\n",
    "df = pd.read_csv('sample_data.csv', parse_dates=['Date'])\n",
    "\n",
    "source = ColumnDataSource(df)\n",
    "\n",
    "\n",
    "p = figure(x_axis_type=\"datetime\")\n",
    "p.line(x='Date', y='Weight', color='#cf3c4d', line_width=2, source=source)\n",
    "\n",
    "show(p)"
   ]
  },
  {
   "cell_type": "code",
   "execution_count": 8,
   "metadata": {},
   "outputs": [
    {
     "data": {
      "text/html": [
       "\n",
       "\n",
       "\n",
       "\n",
       "\n",
       "\n",
       "  <div class=\"bk-root\" id=\"1a191581-c149-4fb5-aaba-e6e5847b5523\" data-root-id=\"1782\"></div>\n"
      ]
     },
     "metadata": {},
     "output_type": "display_data"
    },
    {
     "data": {
      "application/javascript": [
       "(function(root) {\n",
       "  function embed_document(root) {\n",
       "    \n",
       "  var docs_json = {\"d157bc0e-6231-4999-99c3-cb907d928487\":{\"roots\":{\"references\":[{\"attributes\":{\"below\":[{\"id\":\"1791\",\"type\":\"LinearAxis\"}],\"center\":[{\"id\":\"1795\",\"type\":\"Grid\"},{\"id\":\"1800\",\"type\":\"Grid\"}],\"left\":[{\"id\":\"1796\",\"type\":\"LinearAxis\"}],\"plot_height\":400,\"plot_width\":400,\"renderers\":[{\"id\":\"1817\",\"type\":\"GlyphRenderer\"}],\"title\":{\"id\":\"1881\",\"type\":\"Title\"},\"toolbar\":{\"id\":\"1807\",\"type\":\"Toolbar\"},\"x_range\":{\"id\":\"1783\",\"type\":\"DataRange1d\"},\"x_scale\":{\"id\":\"1787\",\"type\":\"LinearScale\"},\"y_range\":{\"id\":\"1785\",\"type\":\"DataRange1d\"},\"y_scale\":{\"id\":\"1789\",\"type\":\"LinearScale\"}},\"id\":\"1782\",\"subtype\":\"Figure\",\"type\":\"Plot\"},{\"attributes\":{\"text\":\"\"},\"id\":\"1881\",\"type\":\"Title\"},{\"attributes\":{},\"id\":\"1787\",\"type\":\"LinearScale\"},{\"attributes\":{},\"id\":\"1789\",\"type\":\"LinearScale\"},{\"attributes\":{\"formatter\":{\"id\":\"1885\",\"type\":\"BasicTickFormatter\"},\"ticker\":{\"id\":\"1792\",\"type\":\"BasicTicker\"}},\"id\":\"1791\",\"type\":\"LinearAxis\"},{\"attributes\":{},\"id\":\"1792\",\"type\":\"BasicTicker\"},{\"attributes\":{\"ticker\":{\"id\":\"1792\",\"type\":\"BasicTicker\"}},\"id\":\"1795\",\"type\":\"Grid\"},{\"attributes\":{\"formatter\":{\"id\":\"1883\",\"type\":\"BasicTickFormatter\"},\"ticker\":{\"id\":\"1797\",\"type\":\"BasicTicker\"}},\"id\":\"1796\",\"type\":\"LinearAxis\"},{\"attributes\":{},\"id\":\"1797\",\"type\":\"BasicTicker\"},{\"attributes\":{\"dimension\":1,\"ticker\":{\"id\":\"1797\",\"type\":\"BasicTicker\"}},\"id\":\"1800\",\"type\":\"Grid\"},{\"attributes\":{},\"id\":\"1885\",\"type\":\"BasicTickFormatter\"},{\"attributes\":{\"line_alpha\":{\"value\":0.1},\"line_color\":{\"value\":\"#1f77b4\"},\"line_width\":{\"value\":4},\"xs\":{\"field\":\"xs\"},\"ys\":{\"field\":\"ys\"}},\"id\":\"1816\",\"type\":\"MultiLine\"},{\"attributes\":{\"callback\":null},\"id\":\"1785\",\"type\":\"DataRange1d\"},{\"attributes\":{\"bottom_units\":\"screen\",\"fill_alpha\":{\"value\":0.5},\"fill_color\":{\"value\":\"lightgrey\"},\"left_units\":\"screen\",\"level\":\"overlay\",\"line_alpha\":{\"value\":1.0},\"line_color\":{\"value\":\"black\"},\"line_dash\":[4,4],\"line_width\":{\"value\":2},\"render_mode\":\"css\",\"right_units\":\"screen\",\"top_units\":\"screen\"},\"id\":\"1886\",\"type\":\"BoxAnnotation\"},{\"attributes\":{\"active_drag\":\"auto\",\"active_inspect\":\"auto\",\"active_multi\":null,\"active_scroll\":\"auto\",\"active_tap\":\"auto\",\"tools\":[{\"id\":\"1801\",\"type\":\"PanTool\"},{\"id\":\"1802\",\"type\":\"WheelZoomTool\"},{\"id\":\"1803\",\"type\":\"BoxZoomTool\"},{\"id\":\"1804\",\"type\":\"SaveTool\"},{\"id\":\"1805\",\"type\":\"ResetTool\"},{\"id\":\"1806\",\"type\":\"HelpTool\"}]},\"id\":\"1807\",\"type\":\"Toolbar\"},{\"attributes\":{\"callback\":null,\"data\":{\"line_alpha\":[0.8,0.3],\"line_color\":[\"firebrick\",\"navy\"],\"xs\":[[1,3,2],[3,4,6,6]],\"ys\":[[2,1,4],[4,7,8,5]]},\"selected\":{\"id\":\"1888\",\"type\":\"Selection\"},\"selection_policy\":{\"id\":\"1887\",\"type\":\"UnionRenderers\"}},\"id\":\"1814\",\"type\":\"ColumnDataSource\"},{\"attributes\":{},\"id\":\"1801\",\"type\":\"PanTool\"},{\"attributes\":{},\"id\":\"1802\",\"type\":\"WheelZoomTool\"},{\"attributes\":{\"overlay\":{\"id\":\"1886\",\"type\":\"BoxAnnotation\"}},\"id\":\"1803\",\"type\":\"BoxZoomTool\"},{\"attributes\":{},\"id\":\"1804\",\"type\":\"SaveTool\"},{\"attributes\":{},\"id\":\"1805\",\"type\":\"ResetTool\"},{\"attributes\":{},\"id\":\"1806\",\"type\":\"HelpTool\"},{\"attributes\":{\"data_source\":{\"id\":\"1814\",\"type\":\"ColumnDataSource\"},\"glyph\":{\"id\":\"1815\",\"type\":\"MultiLine\"},\"hover_glyph\":null,\"muted_glyph\":null,\"nonselection_glyph\":{\"id\":\"1816\",\"type\":\"MultiLine\"},\"selection_glyph\":null,\"view\":{\"id\":\"1818\",\"type\":\"CDSView\"}},\"id\":\"1817\",\"type\":\"GlyphRenderer\"},{\"attributes\":{\"source\":{\"id\":\"1814\",\"type\":\"ColumnDataSource\"}},\"id\":\"1818\",\"type\":\"CDSView\"},{\"attributes\":{},\"id\":\"1888\",\"type\":\"Selection\"},{\"attributes\":{\"line_alpha\":{\"field\":\"line_alpha\"},\"line_color\":{\"field\":\"line_color\"},\"line_width\":{\"value\":4},\"xs\":{\"field\":\"xs\"},\"ys\":{\"field\":\"ys\"}},\"id\":\"1815\",\"type\":\"MultiLine\"},{\"attributes\":{\"callback\":null},\"id\":\"1783\",\"type\":\"DataRange1d\"},{\"attributes\":{},\"id\":\"1883\",\"type\":\"BasicTickFormatter\"},{\"attributes\":{},\"id\":\"1887\",\"type\":\"UnionRenderers\"}],\"root_ids\":[\"1782\"]},\"title\":\"Bokeh Application\",\"version\":\"1.3.4\"}};\n",
       "  var render_items = [{\"docid\":\"d157bc0e-6231-4999-99c3-cb907d928487\",\"roots\":{\"1782\":\"1a191581-c149-4fb5-aaba-e6e5847b5523\"}}];\n",
       "  root.Bokeh.embed.embed_items_notebook(docs_json, render_items);\n",
       "\n",
       "  }\n",
       "  if (root.Bokeh !== undefined) {\n",
       "    embed_document(root);\n",
       "  } else {\n",
       "    var attempts = 0;\n",
       "    var timer = setInterval(function(root) {\n",
       "      if (root.Bokeh !== undefined) {\n",
       "        embed_document(root);\n",
       "        clearInterval(timer);\n",
       "      }\n",
       "      attempts++;\n",
       "      if (attempts > 100) {\n",
       "        console.log(\"Bokeh: ERROR: Unable to run BokehJS code because BokehJS library is missing\");\n",
       "        clearInterval(timer);\n",
       "      }\n",
       "    }, 10, root)\n",
       "  }\n",
       "})(window);"
      ],
      "application/vnd.bokehjs_exec.v0+json": ""
     },
     "metadata": {
      "application/vnd.bokehjs_exec.v0+json": {
       "id": "1782"
      }
     },
     "output_type": "display_data"
    }
   ],
   "source": [
    "p = figure(plot_width=400, plot_height=400)\n",
    "\n",
    "p.multi_line([[1, 3, 2], [3, 4, 6, 6]], \n",
    "             [[2, 1, 4], [4, 7, 8, 5]],\n",
    "             color=[\"firebrick\", \"navy\"], \n",
    "             alpha=[0.8, 0.3], \n",
    "             line_width=4)\n",
    "\n",
    "show(p)"
   ]
  },
  {
   "cell_type": "code",
   "execution_count": 15,
   "metadata": {},
   "outputs": [
    {
     "data": {
      "text/html": [
       "\n",
       "\n",
       "\n",
       "\n",
       "\n",
       "\n",
       "  <div class=\"bk-root\" id=\"217892d8-c3b5-4edf-95aa-5143f265edd7\" data-root-id=\"2531\"></div>\n"
      ]
     },
     "metadata": {},
     "output_type": "display_data"
    },
    {
     "data": {
      "application/javascript": [
       "(function(root) {\n",
       "  function embed_document(root) {\n",
       "    \n",
       "  var docs_json = {\"1ae557b0-e7b9-48bb-bde6-236fb69da3b8\":{\"roots\":{\"references\":[{\"attributes\":{\"below\":[{\"id\":\"2542\",\"type\":\"DatetimeAxis\"}],\"center\":[{\"id\":\"2546\",\"type\":\"Grid\"},{\"id\":\"2551\",\"type\":\"Grid\"}],\"left\":[{\"id\":\"2547\",\"type\":\"LinearAxis\"}],\"renderers\":[{\"id\":\"2568\",\"type\":\"GlyphRenderer\"}],\"title\":{\"id\":\"2532\",\"type\":\"Title\"},\"toolbar\":{\"id\":\"2558\",\"type\":\"Toolbar\"},\"x_range\":{\"id\":\"2534\",\"type\":\"DataRange1d\"},\"x_scale\":{\"id\":\"2538\",\"type\":\"LinearScale\"},\"y_range\":{\"id\":\"2536\",\"type\":\"DataRange1d\"},\"y_scale\":{\"id\":\"2540\",\"type\":\"LinearScale\"}},\"id\":\"2531\",\"subtype\":\"Figure\",\"type\":\"Plot\"},{\"attributes\":{},\"id\":\"2548\",\"type\":\"BasicTicker\"},{\"attributes\":{\"months\":[0,2,4,6,8,10]},\"id\":\"2683\",\"type\":\"MonthsTicker\"},{\"attributes\":{\"base\":24,\"mantissas\":[1,2,4,6,8,12],\"max_interval\":43200000.0,\"min_interval\":3600000.0,\"num_minor_ticks\":0},\"id\":\"2677\",\"type\":\"AdaptiveTicker\"},{\"attributes\":{\"data_source\":{\"id\":\"2565\",\"type\":\"ColumnDataSource\"},\"glyph\":{\"id\":\"2566\",\"type\":\"MultiLine\"},\"hover_glyph\":null,\"muted_glyph\":null,\"nonselection_glyph\":{\"id\":\"2567\",\"type\":\"MultiLine\"},\"selection_glyph\":null,\"view\":{\"id\":\"2569\",\"type\":\"CDSView\"}},\"id\":\"2568\",\"type\":\"GlyphRenderer\"},{\"attributes\":{},\"id\":\"2688\",\"type\":\"Selection\"},{\"attributes\":{\"text\":\"my Chart\"},\"id\":\"2532\",\"type\":\"Title\"},{\"attributes\":{},\"id\":\"2687\",\"type\":\"UnionRenderers\"},{\"attributes\":{\"days\":[1,2,3,4,5,6,7,8,9,10,11,12,13,14,15,16,17,18,19,20,21,22,23,24,25,26,27,28,29,30,31]},\"id\":\"2678\",\"type\":\"DaysTicker\"},{\"attributes\":{\"callback\":null,\"data\":{\"line_color\":[\"red\",\"green\"],\"xs\":[[1489536000000.0,1489622400000.0,1489708800000.0,1489795200000.0,1489881600000.0],[1489968000000.0,1490054400000.0,1490140800000.0,1490227200000.0,1490313600000.0]],\"ys\":[[0.02,0.02,0.02,0.01,0.0],[0.23,0.24,0.25,0.25,0.27]]},\"selected\":{\"id\":\"2688\",\"type\":\"Selection\"},\"selection_policy\":{\"id\":\"2687\",\"type\":\"UnionRenderers\"}},\"id\":\"2565\",\"type\":\"ColumnDataSource\"},{\"attributes\":{\"days\":[1,15]},\"id\":\"2681\",\"type\":\"DaysTicker\"},{\"attributes\":{},\"id\":\"2555\",\"type\":\"SaveTool\"},{\"attributes\":{\"callback\":null},\"id\":\"2536\",\"type\":\"DataRange1d\"},{\"attributes\":{},\"id\":\"2538\",\"type\":\"LinearScale\"},{\"attributes\":{\"source\":{\"id\":\"2565\",\"type\":\"ColumnDataSource\"}},\"id\":\"2569\",\"type\":\"CDSView\"},{\"attributes\":{},\"id\":\"2552\",\"type\":\"PanTool\"},{\"attributes\":{\"days\":[1,4,7,10,13,16,19,22,25,28]},\"id\":\"2679\",\"type\":\"DaysTicker\"},{\"attributes\":{\"axis_label\":\"date\",\"formatter\":{\"id\":\"2673\",\"type\":\"DatetimeTickFormatter\"},\"ticker\":{\"id\":\"2543\",\"type\":\"DatetimeTicker\"}},\"id\":\"2542\",\"type\":\"DatetimeAxis\"},{\"attributes\":{},\"id\":\"2557\",\"type\":\"HelpTool\"},{\"attributes\":{\"mantissas\":[1,2,5],\"max_interval\":500.0,\"num_minor_ticks\":0},\"id\":\"2675\",\"type\":\"AdaptiveTicker\"},{\"attributes\":{},\"id\":\"2671\",\"type\":\"BasicTickFormatter\"},{\"attributes\":{\"ticker\":{\"id\":\"2543\",\"type\":\"DatetimeTicker\"}},\"id\":\"2546\",\"type\":\"Grid\"},{\"attributes\":{\"line_color\":{\"field\":\"line_color\"},\"xs\":{\"field\":\"xs\"},\"ys\":{\"field\":\"ys\"}},\"id\":\"2566\",\"type\":\"MultiLine\"},{\"attributes\":{\"bottom_units\":\"screen\",\"fill_alpha\":{\"value\":0.5},\"fill_color\":{\"value\":\"lightgrey\"},\"left_units\":\"screen\",\"level\":\"overlay\",\"line_alpha\":{\"value\":1.0},\"line_color\":{\"value\":\"black\"},\"line_dash\":[4,4],\"line_width\":{\"value\":2},\"render_mode\":\"css\",\"right_units\":\"screen\",\"top_units\":\"screen\"},\"id\":\"2674\",\"type\":\"BoxAnnotation\"},{\"attributes\":{},\"id\":\"2540\",\"type\":\"LinearScale\"},{\"attributes\":{\"dimension\":1,\"ticker\":{\"id\":\"2548\",\"type\":\"BasicTicker\"}},\"id\":\"2551\",\"type\":\"Grid\"},{\"attributes\":{\"num_minor_ticks\":5,\"tickers\":[{\"id\":\"2675\",\"type\":\"AdaptiveTicker\"},{\"id\":\"2676\",\"type\":\"AdaptiveTicker\"},{\"id\":\"2677\",\"type\":\"AdaptiveTicker\"},{\"id\":\"2678\",\"type\":\"DaysTicker\"},{\"id\":\"2679\",\"type\":\"DaysTicker\"},{\"id\":\"2680\",\"type\":\"DaysTicker\"},{\"id\":\"2681\",\"type\":\"DaysTicker\"},{\"id\":\"2682\",\"type\":\"MonthsTicker\"},{\"id\":\"2683\",\"type\":\"MonthsTicker\"},{\"id\":\"2684\",\"type\":\"MonthsTicker\"},{\"id\":\"2685\",\"type\":\"MonthsTicker\"},{\"id\":\"2686\",\"type\":\"YearsTicker\"}]},\"id\":\"2543\",\"type\":\"DatetimeTicker\"},{\"attributes\":{\"axis_label\":\"percentage\",\"formatter\":{\"id\":\"2671\",\"type\":\"BasicTickFormatter\"},\"ticker\":{\"id\":\"2548\",\"type\":\"BasicTicker\"}},\"id\":\"2547\",\"type\":\"LinearAxis\"},{\"attributes\":{\"line_alpha\":{\"value\":0.1},\"line_color\":{\"value\":\"#1f77b4\"},\"xs\":{\"field\":\"xs\"},\"ys\":{\"field\":\"ys\"}},\"id\":\"2567\",\"type\":\"MultiLine\"},{\"attributes\":{\"base\":60,\"mantissas\":[1,2,5,10,15,20,30],\"max_interval\":1800000.0,\"min_interval\":1000.0,\"num_minor_ticks\":0},\"id\":\"2676\",\"type\":\"AdaptiveTicker\"},{\"attributes\":{},\"id\":\"2673\",\"type\":\"DatetimeTickFormatter\"},{\"attributes\":{\"active_drag\":\"auto\",\"active_inspect\":\"auto\",\"active_multi\":null,\"active_scroll\":\"auto\",\"active_tap\":\"auto\",\"tools\":[{\"id\":\"2552\",\"type\":\"PanTool\"},{\"id\":\"2553\",\"type\":\"WheelZoomTool\"},{\"id\":\"2554\",\"type\":\"BoxZoomTool\"},{\"id\":\"2555\",\"type\":\"SaveTool\"},{\"id\":\"2556\",\"type\":\"ResetTool\"},{\"id\":\"2557\",\"type\":\"HelpTool\"}]},\"id\":\"2558\",\"type\":\"Toolbar\"},{\"attributes\":{\"callback\":null},\"id\":\"2534\",\"type\":\"DataRange1d\"},{\"attributes\":{},\"id\":\"2553\",\"type\":\"WheelZoomTool\"},{\"attributes\":{\"months\":[0,6]},\"id\":\"2685\",\"type\":\"MonthsTicker\"},{\"attributes\":{},\"id\":\"2686\",\"type\":\"YearsTicker\"},{\"attributes\":{\"months\":[0,4,8]},\"id\":\"2684\",\"type\":\"MonthsTicker\"},{\"attributes\":{\"months\":[0,1,2,3,4,5,6,7,8,9,10,11]},\"id\":\"2682\",\"type\":\"MonthsTicker\"},{\"attributes\":{\"overlay\":{\"id\":\"2674\",\"type\":\"BoxAnnotation\"}},\"id\":\"2554\",\"type\":\"BoxZoomTool\"},{\"attributes\":{},\"id\":\"2556\",\"type\":\"ResetTool\"},{\"attributes\":{\"days\":[1,8,15,22]},\"id\":\"2680\",\"type\":\"DaysTicker\"}],\"root_ids\":[\"2531\"]},\"title\":\"Bokeh Application\",\"version\":\"1.3.4\"}};\n",
       "  var render_items = [{\"docid\":\"1ae557b0-e7b9-48bb-bde6-236fb69da3b8\",\"roots\":{\"2531\":\"217892d8-c3b5-4edf-95aa-5143f265edd7\"}}];\n",
       "  root.Bokeh.embed.embed_items_notebook(docs_json, render_items);\n",
       "\n",
       "  }\n",
       "  if (root.Bokeh !== undefined) {\n",
       "    embed_document(root);\n",
       "  } else {\n",
       "    var attempts = 0;\n",
       "    var timer = setInterval(function(root) {\n",
       "      if (root.Bokeh !== undefined) {\n",
       "        embed_document(root);\n",
       "        clearInterval(timer);\n",
       "      }\n",
       "      attempts++;\n",
       "      if (attempts > 100) {\n",
       "        console.log(\"Bokeh: ERROR: Unable to run BokehJS code because BokehJS library is missing\");\n",
       "        clearInterval(timer);\n",
       "      }\n",
       "    }, 10, root)\n",
       "  }\n",
       "})(window);"
      ],
      "application/vnd.bokehjs_exec.v0+json": ""
     },
     "metadata": {
      "application/vnd.bokehjs_exec.v0+json": {
       "id": "2531"
      }
     },
     "output_type": "display_data"
    }
   ],
   "source": [
    "from datetime import datetime\n",
    "p = figure(plot_width=400, plot_height=400)\n",
    "\n",
    "x1 = ['2017-03-15', '2017-03-16', '2017-03-17', '2017-03-18', '2017-03-19']\n",
    "y1 = [0.02, 0.02, 0.02, 0.01, 0.0]\n",
    "\n",
    "x2 = ['2017-03-20', '2017-03-21', '2017-03-22', '2017-03-23', '2017-03-24']\n",
    "y2 = [0.23, 0.24, 0.25, 0.25, 0.27]\n",
    "\n",
    "#converting x-axis to datetime\n",
    "x1 = [datetime.strptime(date, \"%Y-%m-%d\") for date in x1]\n",
    "x2 = [datetime.strptime(date, \"%Y-%m-%d\") for date in x2]\n",
    "\n",
    "# create a new plot with a title and axis labels\n",
    "p = figure(title=\"my Chart\", x_axis_label='date', y_axis_label='percentage', x_axis_type='datetime')\n",
    "\n",
    "p.multi_line(xs = [x1, x2] , ys = [y1, y2], color=['red','green'])\n",
    "\n",
    "show(p)"
   ]
  },
  {
   "cell_type": "code",
   "execution_count": null,
   "metadata": {},
   "outputs": [],
   "source": []
  }
 ],
 "metadata": {
  "kernelspec": {
   "display_name": "Python 3",
   "language": "python",
   "name": "python3"
  },
  "language_info": {
   "codemirror_mode": {
    "name": "ipython",
    "version": 3
   },
   "file_extension": ".py",
   "mimetype": "text/x-python",
   "name": "python",
   "nbconvert_exporter": "python",
   "pygments_lexer": "ipython3",
   "version": "3.8.2"
  }
 },
 "nbformat": 4,
 "nbformat_minor": 2
}
