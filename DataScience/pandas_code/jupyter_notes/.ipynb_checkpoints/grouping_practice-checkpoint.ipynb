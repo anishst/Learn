{
 "cells": [
  {
   "cell_type": "code",
   "execution_count": 1,
   "metadata": {},
   "outputs": [],
   "source": [
    "import pandas as pd"
   ]
  },
  {
   "cell_type": "code",
   "execution_count": 2,
   "metadata": {},
   "outputs": [],
   "source": [
    "csv_file = 'amazon_prices_OUTPUT.csv'"
   ]
  },
  {
   "cell_type": "code",
   "execution_count": 16,
   "metadata": {},
   "outputs": [
    {
     "name": "stdout",
     "output_type": "stream",
     "text": [
      "           script_time             item   price\n",
      "0  2019-11-06 11:23:16  bose_headphones  349.00\n",
      "1  2019-11-06 11:23:19   ring_doorbell2  199.00\n",
      "2  2019-11-06 11:23:22    ring_doorbell    1.99\n",
      "3  2019-11-06 21:33:51  bose_headphones  349.00\n",
      "4  2019-11-06 21:34:01   ring_doorbell2  199.00\n",
      "(45, 3)\n"
     ]
    }
   ],
   "source": [
    "df = pd.read_csv(csv_file)\n",
    "print(df.head())\n",
    "print(df.shape)"
   ]
  },
  {
   "cell_type": "code",
   "execution_count": 46,
   "metadata": {},
   "outputs": [
    {
     "name": "stdout",
     "output_type": "stream",
     "text": [
      "                              script_time   price\n",
      "item                                             \n",
      "5-shelf_storage_unit  2019-11-14 16:05:48   59.99\n",
      "bose_headphones       2019-11-06 11:23:16  279.00\n",
      "ring_doorbell         2019-11-06 11:23:22    1.99\n",
      "ring_doorbell2        2019-11-06 11:23:19  129.00\n"
     ]
    }
   ],
   "source": [
    "# group by item lowest price\n",
    "print(df.groupby(['item']).min())"
   ]
  },
  {
   "cell_type": "code",
   "execution_count": 43,
   "metadata": {
    "scrolled": true
   },
   "outputs": [
    {
     "data": {
      "text/html": [
       "<div>\n",
       "<style scoped>\n",
       "    .dataframe tbody tr th:only-of-type {\n",
       "        vertical-align: middle;\n",
       "    }\n",
       "\n",
       "    .dataframe tbody tr th {\n",
       "        vertical-align: top;\n",
       "    }\n",
       "\n",
       "    .dataframe thead th {\n",
       "        text-align: right;\n",
       "    }\n",
       "</style>\n",
       "<table border=\"1\" class=\"dataframe\">\n",
       "  <thead>\n",
       "    <tr style=\"text-align: right;\">\n",
       "      <th></th>\n",
       "      <th>price</th>\n",
       "      <th>script_time</th>\n",
       "    </tr>\n",
       "    <tr>\n",
       "      <th>item</th>\n",
       "      <th></th>\n",
       "      <th></th>\n",
       "    </tr>\n",
       "  </thead>\n",
       "  <tbody>\n",
       "    <tr>\n",
       "      <td>5-shelf_storage_unit</td>\n",
       "      <td>59.99</td>\n",
       "      <td>2019-11-25 12:06:42</td>\n",
       "    </tr>\n",
       "    <tr>\n",
       "      <td>bose_headphones</td>\n",
       "      <td>349.00</td>\n",
       "      <td>2019-11-25 12:09:54</td>\n",
       "    </tr>\n",
       "    <tr>\n",
       "      <td>ring_doorbell</td>\n",
       "      <td>99.99</td>\n",
       "      <td>2019-11-25 12:06:33</td>\n",
       "    </tr>\n",
       "    <tr>\n",
       "      <td>ring_doorbell2</td>\n",
       "      <td>199.00</td>\n",
       "      <td>2019-11-25 12:10:03</td>\n",
       "    </tr>\n",
       "  </tbody>\n",
       "</table>\n",
       "</div>"
      ],
      "text/plain": [
       "                       price          script_time\n",
       "item                                             \n",
       "5-shelf_storage_unit   59.99  2019-11-25 12:06:42\n",
       "bose_headphones       349.00  2019-11-25 12:09:54\n",
       "ring_doorbell          99.99  2019-11-25 12:06:33\n",
       "ring_doorbell2        199.00  2019-11-25 12:10:03"
      ]
     },
     "execution_count": 43,
     "metadata": {},
     "output_type": "execute_result"
    }
   ],
   "source": [
    "# group by select specific column\n",
    "df.groupby(['item'])[['price', 'script_time']].max()"
   ]
  },
  {
   "cell_type": "code",
   "execution_count": 44,
   "metadata": {},
   "outputs": [
    {
     "data": {
      "text/plain": [
       "item\n",
       "5-shelf_storage_unit     59.99\n",
       "bose_headphones         279.00\n",
       "ring_doorbell             1.99\n",
       "ring_doorbell2          129.00\n",
       "Name: price, dtype: float64"
      ]
     },
     "execution_count": 44,
     "metadata": {},
     "output_type": "execute_result"
    }
   ],
   "source": [
    "df.groupby(['item'], sort=True)['price'].min()"
   ]
  },
  {
   "cell_type": "code",
   "execution_count": 10,
   "metadata": {},
   "outputs": [
    {
     "name": "stdout",
     "output_type": "stream",
     "text": [
      "                              script_time   price\n",
      "item                                             \n",
      "5-shelf_storage_unit  2019-11-25 12:06:42   59.99\n",
      "bose_headphones       2019-11-25 12:09:54  349.00\n",
      "ring_doorbell         2019-11-25 12:06:33   99.99\n",
      "ring_doorbell2        2019-11-25 12:10:03  199.00\n"
     ]
    }
   ],
   "source": [
    "# group by item max price\n",
    "print(df.groupby(['item']).max())"
   ]
  },
  {
   "cell_type": "code",
   "execution_count": 27,
   "metadata": {
    "scrolled": true
   },
   "outputs": [
    {
     "data": {
      "text/html": [
       "<div>\n",
       "<style scoped>\n",
       "    .dataframe tbody tr th:only-of-type {\n",
       "        vertical-align: middle;\n",
       "    }\n",
       "\n",
       "    .dataframe tbody tr th {\n",
       "        vertical-align: top;\n",
       "    }\n",
       "\n",
       "    .dataframe thead th {\n",
       "        text-align: right;\n",
       "    }\n",
       "</style>\n",
       "<table border=\"1\" class=\"dataframe\">\n",
       "  <thead>\n",
       "    <tr style=\"text-align: right;\">\n",
       "      <th></th>\n",
       "      <th>script_time</th>\n",
       "      <th>item</th>\n",
       "      <th>price</th>\n",
       "    </tr>\n",
       "  </thead>\n",
       "  <tbody>\n",
       "    <tr>\n",
       "      <td>2</td>\n",
       "      <td>2019-11-06 11:23:22</td>\n",
       "      <td>ring_doorbell</td>\n",
       "      <td>1.99</td>\n",
       "    </tr>\n",
       "    <tr>\n",
       "      <td>22</td>\n",
       "      <td>2019-11-16 04:43:45</td>\n",
       "      <td>5-shelf_storage_unit</td>\n",
       "      <td>59.99</td>\n",
       "    </tr>\n",
       "    <tr>\n",
       "      <td>40</td>\n",
       "      <td>2019-11-25 12:06:25</td>\n",
       "      <td>ring_doorbell2</td>\n",
       "      <td>129.00</td>\n",
       "    </tr>\n",
       "    <tr>\n",
       "      <td>7</td>\n",
       "      <td>2019-11-08 10:29:29</td>\n",
       "      <td>bose_headphones</td>\n",
       "      <td>279.00</td>\n",
       "    </tr>\n",
       "  </tbody>\n",
       "</table>\n",
       "</div>"
      ],
      "text/plain": [
       "            script_time                  item   price\n",
       "2   2019-11-06 11:23:22         ring_doorbell    1.99\n",
       "22  2019-11-16 04:43:45  5-shelf_storage_unit   59.99\n",
       "40  2019-11-25 12:06:25        ring_doorbell2  129.00\n",
       "7   2019-11-08 10:29:29       bose_headphones  279.00"
      ]
     },
     "execution_count": 27,
     "metadata": {},
     "output_type": "execute_result"
    }
   ],
   "source": [
    "# another way to get lowest prices\n",
    "df.sort_values('price',ascending=True).drop_duplicates(['item'])"
   ]
  },
  {
   "cell_type": "code",
   "execution_count": 30,
   "metadata": {
    "scrolled": true
   },
   "outputs": [
    {
     "data": {
      "text/html": [
       "<div>\n",
       "<style scoped>\n",
       "    .dataframe tbody tr th:only-of-type {\n",
       "        vertical-align: middle;\n",
       "    }\n",
       "\n",
       "    .dataframe tbody tr th {\n",
       "        vertical-align: top;\n",
       "    }\n",
       "\n",
       "    .dataframe thead tr th {\n",
       "        text-align: left;\n",
       "    }\n",
       "\n",
       "    .dataframe thead tr:last-of-type th {\n",
       "        text-align: right;\n",
       "    }\n",
       "</style>\n",
       "<table border=\"1\" class=\"dataframe\">\n",
       "  <thead>\n",
       "    <tr>\n",
       "      <th></th>\n",
       "      <th colspan=\"4\" halign=\"left\">script_time</th>\n",
       "      <th colspan=\"4\" halign=\"left\">price</th>\n",
       "    </tr>\n",
       "    <tr>\n",
       "      <th></th>\n",
       "      <th>min</th>\n",
       "      <th>max</th>\n",
       "      <th>count</th>\n",
       "      <th>nunique</th>\n",
       "      <th>min</th>\n",
       "      <th>max</th>\n",
       "      <th>count</th>\n",
       "      <th>nunique</th>\n",
       "    </tr>\n",
       "    <tr>\n",
       "      <th>item</th>\n",
       "      <th></th>\n",
       "      <th></th>\n",
       "      <th></th>\n",
       "      <th></th>\n",
       "      <th></th>\n",
       "      <th></th>\n",
       "      <th></th>\n",
       "      <th></th>\n",
       "    </tr>\n",
       "  </thead>\n",
       "  <tbody>\n",
       "    <tr>\n",
       "      <td>5-shelf_storage_unit</td>\n",
       "      <td>2019-11-14 16:05:48</td>\n",
       "      <td>2019-11-25 12:06:42</td>\n",
       "      <td>8</td>\n",
       "      <td>8</td>\n",
       "      <td>59.99</td>\n",
       "      <td>59.99</td>\n",
       "      <td>8</td>\n",
       "      <td>1</td>\n",
       "    </tr>\n",
       "    <tr>\n",
       "      <td>bose_headphones</td>\n",
       "      <td>2019-11-06 11:23:16</td>\n",
       "      <td>2019-11-25 12:09:54</td>\n",
       "      <td>13</td>\n",
       "      <td>13</td>\n",
       "      <td>279.00</td>\n",
       "      <td>349.00</td>\n",
       "      <td>13</td>\n",
       "      <td>3</td>\n",
       "    </tr>\n",
       "    <tr>\n",
       "      <td>ring_doorbell</td>\n",
       "      <td>2019-11-06 11:23:22</td>\n",
       "      <td>2019-11-25 12:06:33</td>\n",
       "      <td>12</td>\n",
       "      <td>12</td>\n",
       "      <td>1.99</td>\n",
       "      <td>99.99</td>\n",
       "      <td>12</td>\n",
       "      <td>2</td>\n",
       "    </tr>\n",
       "    <tr>\n",
       "      <td>ring_doorbell2</td>\n",
       "      <td>2019-11-06 11:23:19</td>\n",
       "      <td>2019-11-25 12:10:03</td>\n",
       "      <td>12</td>\n",
       "      <td>12</td>\n",
       "      <td>129.00</td>\n",
       "      <td>199.00</td>\n",
       "      <td>12</td>\n",
       "      <td>3</td>\n",
       "    </tr>\n",
       "  </tbody>\n",
       "</table>\n",
       "</div>"
      ],
      "text/plain": [
       "                              script_time                                     \\\n",
       "                                      min                  max count nunique   \n",
       "item                                                                           \n",
       "5-shelf_storage_unit  2019-11-14 16:05:48  2019-11-25 12:06:42     8       8   \n",
       "bose_headphones       2019-11-06 11:23:16  2019-11-25 12:09:54    13      13   \n",
       "ring_doorbell         2019-11-06 11:23:22  2019-11-25 12:06:33    12      12   \n",
       "ring_doorbell2        2019-11-06 11:23:19  2019-11-25 12:10:03    12      12   \n",
       "\n",
       "                       price                        \n",
       "                         min     max count nunique  \n",
       "item                                                \n",
       "5-shelf_storage_unit   59.99   59.99     8       1  \n",
       "bose_headphones       279.00  349.00    13       3  \n",
       "ring_doorbell           1.99   99.99    12       2  \n",
       "ring_doorbell2        129.00  199.00    12       3  "
      ]
     },
     "execution_count": 30,
     "metadata": {},
     "output_type": "execute_result"
    }
   ],
   "source": [
    "df.groupby(['item']).agg(['min','max','count','nunique'])"
   ]
  },
  {
   "cell_type": "code",
   "execution_count": 52,
   "metadata": {},
   "outputs": [],
   "source": [
    "csv_file2= 'flight_ticket_prices_OUTPUT.csv'\n",
    "flights = pd.read_csv(csv_file2)"
   ]
  },
  {
   "cell_type": "code",
   "execution_count": 56,
   "metadata": {
    "scrolled": true
   },
   "outputs": [
    {
     "data": {
      "text/html": [
       "<div>\n",
       "<style scoped>\n",
       "    .dataframe tbody tr th:only-of-type {\n",
       "        vertical-align: middle;\n",
       "    }\n",
       "\n",
       "    .dataframe tbody tr th {\n",
       "        vertical-align: top;\n",
       "    }\n",
       "\n",
       "    .dataframe thead th {\n",
       "        text-align: right;\n",
       "    }\n",
       "</style>\n",
       "<table border=\"1\" class=\"dataframe\">\n",
       "  <thead>\n",
       "    <tr style=\"text-align: right;\">\n",
       "      <th></th>\n",
       "      <th>script_time</th>\n",
       "      <th>airline</th>\n",
       "      <th>destination</th>\n",
       "      <th>travel_date</th>\n",
       "      <th>price</th>\n",
       "    </tr>\n",
       "  </thead>\n",
       "  <tbody>\n",
       "    <tr>\n",
       "      <td>0</td>\n",
       "      <td>2019-11-08 10:45:59</td>\n",
       "      <td>All</td>\n",
       "      <td>LA</td>\n",
       "      <td>Dec2019</td>\n",
       "      <td>$1,808</td>\n",
       "    </tr>\n",
       "    <tr>\n",
       "      <td>1</td>\n",
       "      <td>2019-11-08 10:46:06</td>\n",
       "      <td>UNITED</td>\n",
       "      <td>Houston</td>\n",
       "      <td>April2020</td>\n",
       "      <td>$1,195</td>\n",
       "    </tr>\n",
       "    <tr>\n",
       "      <td>2</td>\n",
       "      <td>2019-11-08 10:46:13</td>\n",
       "      <td>All</td>\n",
       "      <td>Houston</td>\n",
       "      <td>April2020</td>\n",
       "      <td>$856</td>\n",
       "    </tr>\n",
       "    <tr>\n",
       "      <td>3</td>\n",
       "      <td>2019-11-08 10:46:20</td>\n",
       "      <td>All</td>\n",
       "      <td>Seattle</td>\n",
       "      <td>April2020</td>\n",
       "      <td>$1,180</td>\n",
       "    </tr>\n",
       "    <tr>\n",
       "      <td>4</td>\n",
       "      <td>2019-11-08 10:46:28</td>\n",
       "      <td>All</td>\n",
       "      <td>Phoenix</td>\n",
       "      <td>April2020</td>\n",
       "      <td>$1,252</td>\n",
       "    </tr>\n",
       "  </tbody>\n",
       "</table>\n",
       "</div>"
      ],
      "text/plain": [
       "           script_time airline destination travel_date   price\n",
       "0  2019-11-08 10:45:59     All          LA     Dec2019  $1,808\n",
       "1  2019-11-08 10:46:06  UNITED     Houston   April2020  $1,195\n",
       "2  2019-11-08 10:46:13     All     Houston   April2020    $856\n",
       "3  2019-11-08 10:46:20     All     Seattle   April2020  $1,180\n",
       "4  2019-11-08 10:46:28     All     Phoenix   April2020  $1,252"
      ]
     },
     "execution_count": 56,
     "metadata": {},
     "output_type": "execute_result"
    }
   ],
   "source": [
    "flights.head()"
   ]
  },
  {
   "cell_type": "code",
   "execution_count": 63,
   "metadata": {},
   "outputs": [
    {
     "name": "stdout",
     "output_type": "stream",
     "text": [
      "      Team  Rank  Year  Points\n",
      "0   Riders     1  2014     876\n",
      "1   Riders     2  2015     789\n",
      "2   Devils     2  2014     863\n",
      "3   Devils     3  2015     673\n",
      "4    Kings     3  2014     741\n",
      "5    kings     4  2015     812\n",
      "6    Kings     1  2016     756\n",
      "7    Kings     1  2017     788\n",
      "8   Riders     2  2016     694\n",
      "9   Royals     4  2014     701\n",
      "10  Royals     1  2015     804\n",
      "11  Riders     2  2017     690\n"
     ]
    }
   ],
   "source": [
    "\n",
    "ipl_data = {'Team': ['Riders', 'Riders', 'Devils', 'Devils', 'Kings',\n",
    "   'kings', 'Kings', 'Kings', 'Riders', 'Royals', 'Royals', 'Riders'],\n",
    "   'Rank': [1, 2, 2, 3, 3,4 ,1 ,1,2 , 4,1,2],\n",
    "   'Year': [2014,2015,2014,2015,2014,2015,2016,2017,2016,2014,2015,2017],\n",
    "   'Points':[876,789,863,673,741,812,756,788,694,701,804,690]}\n",
    "df = pd.DataFrame(ipl_data)\n",
    "print(df)\n",
    "grouped = df.groupby('Year')\n"
   ]
  },
  {
   "cell_type": "code",
   "execution_count": 64,
   "metadata": {},
   "outputs": [
    {
     "name": "stdout",
     "output_type": "stream",
     "text": [
      "2014\n",
      "     Team  Rank  Year  Points\n",
      "0  Riders     1  2014     876\n",
      "2  Devils     2  2014     863\n",
      "4   Kings     3  2014     741\n",
      "9  Royals     4  2014     701\n",
      "2015\n",
      "      Team  Rank  Year  Points\n",
      "1   Riders     2  2015     789\n",
      "3   Devils     3  2015     673\n",
      "5    kings     4  2015     812\n",
      "10  Royals     1  2015     804\n",
      "2016\n",
      "     Team  Rank  Year  Points\n",
      "6   Kings     1  2016     756\n",
      "8  Riders     2  2016     694\n",
      "2017\n",
      "      Team  Rank  Year  Points\n",
      "7    Kings     1  2017     788\n",
      "11  Riders     2  2017     690\n"
     ]
    }
   ],
   "source": [
    "for name,group in grouped:\n",
    "   print(name)\n",
    "   print (group)"
   ]
  }
 ],
 "metadata": {
  "kernelspec": {
   "display_name": "Python 3",
   "language": "python",
   "name": "python3"
  },
  "language_info": {
   "codemirror_mode": {
    "name": "ipython",
    "version": 3
   },
   "file_extension": ".py",
   "mimetype": "text/x-python",
   "name": "python",
   "nbconvert_exporter": "python",
   "pygments_lexer": "ipython3",
   "version": "3.7.4"
  }
 },
 "nbformat": 4,
 "nbformat_minor": 2
}
