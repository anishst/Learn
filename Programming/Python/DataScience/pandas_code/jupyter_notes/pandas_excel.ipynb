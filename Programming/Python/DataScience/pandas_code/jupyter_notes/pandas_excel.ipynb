{
 "cells": [
  {
   "cell_type": "code",
   "execution_count": 1,
   "metadata": {},
   "outputs": [],
   "source": [
    "import pandas as pd"
   ]
  },
  {
   "cell_type": "code",
   "execution_count": 2,
   "metadata": {},
   "outputs": [
    {
     "name": "stdout",
     "output_type": "stream",
     "text": [
      "   account                         name                                street  \\\n",
      "0   211829   Kerluke, Koepp and Hilpert                    34456 Sean Highway   \n",
      "1   320563               Walter-Trantow                     1311 Alvis Tunnel   \n",
      "2   648336   Bashirian, Kunde and Price  62184 Schamberger Underpass Apt. 231   \n",
      "3   109996  D'Amore, Gleichner and Bode           155 Fadel Crescent Apt. 144   \n",
      "4   121213                Bauch-Goldner                   7274 Marissa Common   \n",
      "\n",
      "              city          state  postal-code     Jan     Feb    Mar  \n",
      "0       New Jaycob          Texas        28752   10000   62000  35000  \n",
      "1    Port Khadijah  NorthCarolina        38365   95000   45000  35000  \n",
      "2   New Lilianland           Iowa        76517   91000  120000  35000  \n",
      "3       Hyattburgh          Maine        46021   45000  120000  10000  \n",
      "4  Shanahanchester     California        49681  162000  120000  35000  \n"
     ]
    }
   ],
   "source": [
    "df = pd.read_excel(\"sample.xlsx\")\n",
    "print(df.head())"
   ]
  },
  {
   "cell_type": "code",
   "execution_count": 3,
   "metadata": {},
   "outputs": [
    {
     "name": "stdout",
     "output_type": "stream",
     "text": [
      "0            New Jaycob\n",
      "1         Port Khadijah\n",
      "2        New Lilianland\n",
      "3            Hyattburgh\n",
      "4       Shanahanchester\n",
      "5          Jeremieburgh\n",
      "6     Lake Gabriellaton\n",
      "7            Deronville\n",
      "8       Lake Juliannton\n",
      "9             North Ras\n",
      "10             Rosaberg\n",
      "11        Norbertomouth\n",
      "12          East Davian\n",
      "13         Goodwinmouth\n",
      "14      Kathryneborough\n",
      "Name: city, dtype: object\n"
     ]
    }
   ],
   "source": [
    "# print city\n",
    "print(df['city'])"
   ]
  },
  {
   "cell_type": "code",
   "execution_count": 6,
   "metadata": {},
   "outputs": [
    {
     "name": "stdout",
     "output_type": "stream",
     "text": [
      "0     107000\n",
      "1     175000\n",
      "2     246000\n",
      "3     175000\n",
      "4     317000\n",
      "5     305000\n",
      "6     252000\n",
      "7     275000\n",
      "8     200000\n",
      "9     225000\n",
      "10    220000\n",
      "11    322000\n",
      "12    317000\n",
      "13    210000\n",
      "14    340000\n",
      "Name: total, dtype: int64\n"
     ]
    }
   ],
   "source": [
    "# add up values\n",
    "df['total'] = df['Jan'] + df['Feb'] + df['Mar']\n",
    "print(df['total'])"
   ]
  },
  {
   "cell_type": "code",
   "execution_count": 9,
   "metadata": {},
   "outputs": [
    {
     "name": "stdout",
     "output_type": "stream",
     "text": [
      "1462000\n"
     ]
    }
   ],
   "source": [
    "# sum jan column\n",
    "print(df['Jan'].sum())"
   ]
  }
 ],
 "metadata": {
  "kernelspec": {
   "display_name": "Python 3",
   "language": "python",
   "name": "python3"
  },
  "language_info": {
   "codemirror_mode": {
    "name": "ipython",
    "version": 3
   },
   "file_extension": ".py",
   "mimetype": "text/x-python",
   "name": "python",
   "nbconvert_exporter": "python",
   "pygments_lexer": "ipython3",
   "version": "3.7.4"
  }
 },
 "nbformat": 4,
 "nbformat_minor": 2
}
