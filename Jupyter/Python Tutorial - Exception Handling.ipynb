{
 "cells": [
  {
   "cell_type": "markdown",
   "metadata": {},
   "source": [
    "# Exception Handling"
   ]
  },
  {
   "cell_type": "code",
   "execution_count": 5,
   "metadata": {},
   "outputs": [
    {
     "name": "stdout",
     "output_type": "stream",
     "text": [
      "Sorry, couldn't find this file\n"
     ]
    }
   ],
   "source": [
    "# simple\n",
    "try:\n",
    "    f = open(\"file.t\")\n",
    "except Exception:\n",
    "    print(\"Sorry, couldn't find this file\")"
   ]
  },
  {
   "cell_type": "code",
   "execution_count": 25,
   "metadata": {},
   "outputs": [
    {
     "name": "stdout",
     "output_type": "stream",
     "text": [
      "username\tpassword\n",
      "user1\tpwd\n",
      "user2\tpwd\n",
      "user3\tpwd\n",
      "\n"
     ]
    }
   ],
   "source": [
    "# else clause only runs if we don't run into any exception\n",
    "try:\n",
    "#     var = bad_var\n",
    "    f = open(\"UserList.csv\")\n",
    "except FileNotFoundError:\n",
    "    print(\"Sorry, couldn't find this file\")\n",
    "except Exception as e:\n",
    "    print(\"Something went wrong {}\".format(e))\n",
    "else:\n",
    "    print(f.read())\n",
    "    f.close()"
   ]
  },
  {
   "cell_type": "code",
   "execution_count": 28,
   "metadata": {
    "scrolled": true
   },
   "outputs": [
    {
     "name": "stdout",
     "output_type": "stream",
     "text": [
      "username\tpassword\n",
      "user1\tpwd\n",
      "user2\tpwd\n",
      "user3\tpwd\n",
      "\n",
      "Closing file\n"
     ]
    }
   ],
   "source": [
    "# Finally runs always\n",
    "try:\n",
    "#     var = bad_var\n",
    "    f = open(\"UserList.csv\")\n",
    "except FileNotFoundError:\n",
    "    print(\"Sorry, couldn't find this file\")\n",
    "except Exception as e:\n",
    "    print(\"Something went wrong {}\".format(e))\n",
    "else:\n",
    "    print(f.read())\n",
    "finally:\n",
    "    print(\"Closing file\")\n",
    "    f.close()"
   ]
  },
  {
   "cell_type": "code",
   "execution_count": 32,
   "metadata": {},
   "outputs": [
    {
     "name": "stdout",
     "output_type": "stream",
     "text": [
      "Something went wrong \n",
      "Closing file\n"
     ]
    }
   ],
   "source": [
    "# raise your own exceptions\n",
    "\n",
    "try:\n",
    "#     var = bad_var\n",
    "    f = open(\"UserList.csv\")\n",
    "    if f.name == 'UserList.csv':\n",
    "        raise Exception\n",
    "except FileNotFoundError:\n",
    "    print(\"Sorry, couldn't find this file\")\n",
    "except Exception as e:\n",
    "    print(\"Something went wrong {}\".format(e))\n",
    "else:\n",
    "    print(f.read())\n",
    "finally:\n",
    "    print(\"Closing file\")\n",
    "    f.close()"
   ]
  }
 ],
 "metadata": {
  "kernelspec": {
   "display_name": "Python 3",
   "language": "python",
   "name": "python3"
  },
  "language_info": {
   "codemirror_mode": {
    "name": "ipython",
    "version": 3
   },
   "file_extension": ".py",
   "mimetype": "text/x-python",
   "name": "python",
   "nbconvert_exporter": "python",
   "pygments_lexer": "ipython3",
   "version": "3.6.4"
  }
 },
 "nbformat": 4,
 "nbformat_minor": 2
}
