{
 "cells": [
  {
   "cell_type": "markdown",
   "metadata": {},
   "source": [
    "# Error Handling in Python\n",
    "\n",
    "https://docs.python.org/3/tutorial/errors.html"
   ]
  },
  {
   "cell_type": "code",
   "execution_count": 14,
   "metadata": {},
   "outputs": [
    {
     "name": "stdout",
     "output_type": "stream",
     "text": [
      "zeor division error\n"
     ]
    }
   ],
   "source": [
    "# simple\n",
    "try:\n",
    "    print(3/0)\n",
    "except:\n",
    "    print(\"zeor division error\")"
   ]
  },
  {
   "cell_type": "code",
   "execution_count": 34,
   "metadata": {},
   "outputs": [
    {
     "name": "stdout",
     "output_type": "stream",
     "text": [
      "1.5\n",
      "Success\n"
     ]
    }
   ],
   "source": [
    "# simple\n",
    "try:\n",
    "    print(3/2)\n",
    "except ZeroDivisionError:\n",
    "    print(\"zeor division error\")\n",
    "except Exception as e:\n",
    "    print(\"Something went wrong\")\n",
    "else:\n",
    "    print(\"Success\")"
   ]
  },
  {
   "cell_type": "code",
   "execution_count": 8,
   "metadata": {},
   "outputs": [
    {
     "name": "stdout",
     "output_type": "stream",
     "text": [
      "Sorry, This file does not exist\n",
      "Executing Finally\n"
     ]
    }
   ],
   "source": [
    "# file not found error\n",
    "try:\n",
    "    f = open(\"Test.txt\")\n",
    "    pass\n",
    "except FileNotFoundError:\n",
    "    print(\"Sorry, This file does not exist\")\n",
    "except Exception as e:\n",
    "    print(\"Error:{}\".format(e))\n",
    "else: # if no exceptions run this\n",
    "    print(f.read())\n",
    "    f.close()\n",
    "finally: # run all time even if there is an error\n",
    "    print(\"Executing Finally\")"
   ]
  },
  {
   "cell_type": "code",
   "execution_count": 13,
   "metadata": {},
   "outputs": [
    {
     "name": "stdout",
     "output_type": "stream",
     "text": [
      "Enter something --> \n",
      "You entered \n"
     ]
    }
   ],
   "source": [
    "try:\n",
    "    text = input('Enter something --> ')\n",
    "except EOFError:\n",
    "    print('Why did you do an EOF on me?')\n",
    "except (KeyboardInterrupt, IOError): # More than one errors; treated as tuple\n",
    "    print('You cancelled the operation.')\n",
    "else:\n",
    "    print('You entered {}'.format(text))"
   ]
  }
 ],
 "metadata": {
  "kernelspec": {
   "display_name": "Python 3",
   "language": "python",
   "name": "python3"
  },
  "language_info": {
   "codemirror_mode": {
    "name": "ipython",
    "version": 3
   },
   "file_extension": ".py",
   "mimetype": "text/x-python",
   "name": "python",
   "nbconvert_exporter": "python",
   "pygments_lexer": "ipython3",
   "version": "3.6.4"
  }
 },
 "nbformat": 4,
 "nbformat_minor": 2
}
