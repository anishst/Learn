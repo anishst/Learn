{
 "cells": [
  {
   "cell_type": "code",
   "execution_count": 3,
   "metadata": {},
   "outputs": [
    {
     "name": "stdout",
     "output_type": "stream",
     "text": [
      "Binary representation of 12 is 1100\n"
     ]
    }
   ],
   "source": [
    "# binary format\n",
    "print(\"Binary representation of {0} is {0:b}\".format(12))"
   ]
  },
  {
   "cell_type": "code",
   "execution_count": 4,
   "metadata": {},
   "outputs": [
    {
     "name": "stdout",
     "output_type": "stream",
     "text": [
      "Exponent representation: 1.566345e+03\n"
     ]
    }
   ],
   "source": [
    "# formatting floats\n",
    "print(\"Exponent representation: {0:e}\".format(1566.345))"
   ]
  },
  {
   "cell_type": "code",
   "execution_count": 5,
   "metadata": {},
   "outputs": [
    {
     "name": "stdout",
     "output_type": "stream",
     "text": [
      "One third is: 0.333\n"
     ]
    }
   ],
   "source": [
    "# round off\n",
    "print(\"One third is: {0:.3f}\".format(1/3))"
   ]
  },
  {
   "cell_type": "code",
   "execution_count": 9,
   "metadata": {},
   "outputs": [
    {
     "name": "stdout",
     "output_type": "stream",
     "text": [
      "abcdefghijklmnopqrst\n"
     ]
    }
   ],
   "source": [
    " # limiting a to 20 chars \n",
    "a =\"abcdefghijklmnopqrstuvwxyz\"\n",
    "print('%.20s' % a)"
   ]
  },
  {
   "cell_type": "code",
   "execution_count": 15,
   "metadata": {},
   "outputs": [
    {
     "name": "stdout",
     "output_type": "stream",
     "text": [
      "500000\n"
     ]
    }
   ],
   "source": [
    "# Padding Text\n",
    "print('{:4d}'.format(500000))"
   ]
  },
  {
   "cell_type": "code",
   "execution_count": 16,
   "metadata": {},
   "outputs": [
    {
     "name": "stdout",
     "output_type": "stream",
     "text": [
      "003.14\n"
     ]
    }
   ],
   "source": [
    "# at least 6 characters with 2 after the decimal point\n",
    "print('{:06.2f}'.format(3.141592653589793))"
   ]
  },
  {
   "cell_type": "code",
   "execution_count": 19,
   "metadata": {},
   "outputs": [
    {
     "name": "stdout",
     "output_type": "stream",
     "text": [
      "**************************************************\n",
      "******************** centered ********************\n",
      "**************************************************\n"
     ]
    }
   ],
   "source": [
    "# cetner text\n",
    "print('{:*^50}'.format('') )\n",
    "print('{:*^50}'.format(' centered ') )\n",
    "print('{:*^50}'.format('') )"
   ]
  },
  {
   "cell_type": "code",
   "execution_count": 21,
   "metadata": {},
   "outputs": [
    {
     "name": "stdout",
     "output_type": "stream",
     "text": [
      "*******Hello12345********\n"
     ]
    }
   ],
   "source": [
    "print('{message:{fill}{align}{width}}'.format(message='Hello12345', fill=\"*\", align='^',width=25))"
   ]
  },
  {
   "cell_type": "code",
   "execution_count": 22,
   "metadata": {},
   "outputs": [
    {
     "name": "stdout",
     "output_type": "stream",
     "text": [
      "Hello12345***************\n"
     ]
    }
   ],
   "source": [
    "print('{message:{fill}{align}{width}}'.format(message='Hello12345', fill=\"*\", align='<',width=25))"
   ]
  },
  {
   "cell_type": "code",
   "execution_count": 25,
   "metadata": {},
   "outputs": [
    {
     "name": "stdout",
     "output_type": "stream",
     "text": [
      "***************Hello12345\n"
     ]
    }
   ],
   "source": [
    "print('{message:{fill}{align}{width}}'.format(message='Hello12345', fill=\"*\", align='>',width=25))"
   ]
  },
  {
   "cell_type": "code",
   "execution_count": 20,
   "metadata": {},
   "outputs": [
    {
     "name": "stdout",
     "output_type": "stream",
     "text": [
      "0045\n",
      "-0042\n"
     ]
    }
   ],
   "source": [
    "# https://docs.python.org/3.6/library/stdtypes.html?highlight=zfill#str.zfill\n",
    "test_zfill = \"45\"\n",
    "print(test_zfill.zfill(4))\n",
    "print(\"-42\".zfill(5))"
   ]
  },
  {
   "cell_type": "markdown",
   "metadata": {},
   "source": [
    "# Textwrap\n",
    "https://docs.python.org/3.6/library/textwrap.html"
   ]
  },
  {
   "cell_type": "code",
   "execution_count": 47,
   "metadata": {},
   "outputs": [
    {
     "name": "stdout",
     "output_type": "stream",
     "text": [
      "The textwrap module provides some convenience functions, as well as\n",
      "TextWrapper, the class that does all the work. If you’re just wrapping\n",
      "or filling one or two text strings,  the convenience functions should\n",
      "be good enough; otherwise, you should use an instance  of TextWrapper\n",
      "for efficiency.\n"
     ]
    }
   ],
   "source": [
    "import textwrap\n",
    "\n",
    "long_string = \"\"\"The textwrap module provides some convenience functions, as well as TextWrapper,\n",
    "the class that does all the work. If you’re just wrapping or filling one or two text strings, \n",
    "the convenience functions should be good enough; otherwise, you should use an instance \n",
    "of TextWrapper for efficiency.\"\"\"\n",
    "\n",
    "# Default length is 70 chars per line\n",
    "wrapped_lines = textwrap.wrap(long_string) \n",
    "for line in wrapped_lines:\n",
    "    print(line)"
   ]
  },
  {
   "cell_type": "code",
   "execution_count": 46,
   "metadata": {},
   "outputs": [
    {
     "name": "stdout",
     "output_type": "stream",
     "text": [
      "The textwrap module provides some convenience functions, as well as TextWrapper, the class that does\n",
      "all the work. If you’re just wrapping or filling one or two text strings,  the convenience functions\n",
      "should be good enough; otherwise, you should use an instance  of TextWrapper for efficiency.\n"
     ]
    }
   ],
   "source": [
    "# modify default width\n",
    "wrapped_lines = textwrap.wrap(long_string, width=100)\n",
    "for line in wrapped_lines:\n",
    "    print(line)"
   ]
  },
  {
   "cell_type": "code",
   "execution_count": 49,
   "metadata": {},
   "outputs": [
    {
     "name": "stdout",
     "output_type": "stream",
     "text": [
      "The textwrap module\n",
      "provides some\n",
      "convenience\n",
      "functions, as well\n",
      "as TextWrapper, the\n",
      "class that does all\n",
      "the work. If you’re\n",
      "just wrapping or\n",
      "filling one or two\n",
      "text strings,  the\n",
      "convenience\n",
      "functions should be\n",
      "good enough;\n",
      "otherwise, you\n",
      "should use an\n",
      "instance  of\n",
      "TextWrapper for\n",
      "efficiency.\n"
     ]
    }
   ],
   "source": [
    "width = 20\n",
    "print(textwrap.fill(long_string, width))"
   ]
  }
 ],
 "metadata": {
  "kernelspec": {
   "display_name": "Python 3",
   "language": "python",
   "name": "python3"
  },
  "language_info": {
   "codemirror_mode": {
    "name": "ipython",
    "version": 3
   },
   "file_extension": ".py",
   "mimetype": "text/x-python",
   "name": "python",
   "nbconvert_exporter": "python",
   "pygments_lexer": "ipython3",
   "version": "3.6.4"
  }
 },
 "nbformat": 4,
 "nbformat_minor": 2
}
