{
 "cells": [
  {
   "cell_type": "markdown",
   "metadata": {},
   "source": [
    "<h1>Dealing with Images in Python</h1>\n"
   ]
  },
  {
   "cell_type": "markdown",
   "metadata": {},
   "source": [
    "Documentation\n",
    "\n",
    "https://pillow.readthedocs.io/en/4.1.x/handbook/index.html\n",
    "\n",
    "http://effbot.org/imagingbook/concepts.htm"
   ]
  },
  {
   "cell_type": "code",
   "execution_count": 13,
   "metadata": {},
   "outputs": [
    {
     "name": "stdout",
     "output_type": "stream",
     "text": [
      "PNG (3286, 1080) RGBA\n",
      "pic.png\n"
     ]
    }
   ],
   "source": [
    "from PIL import Image\n",
    "import glob, os\n",
    "\n",
    "im = Image.open(\"pic.png\")\n",
    "print(im.format, im.size, im.mode)\n",
    "#im.show() # open picture\n",
    "print(im.filename)"
   ]
  },
  {
   "cell_type": "code",
   "execution_count": 11,
   "metadata": {},
   "outputs": [
    {
     "name": "stdout",
     "output_type": "stream",
     "text": [
      "PNG\n",
      "(800, 923)\n",
      "800\n",
      "923\n",
      "images\\cube.png\n",
      "{'Software': 'www.inkscape.org', 'dpi': (62, 62)}\n",
      "JPEG\n",
      "(99, 93)\n",
      "99\n",
      "93\n",
      "images\\happy1.jpg\n",
      "{'jfif_unit': 0, 'jfif_version': (1, 1), 'jfif': 257, 'jfif_density': (1, 1)}\n",
      "JPEG\n",
      "(90, 90)\n",
      "90\n",
      "90\n",
      "images\\happy2.jpg\n",
      "{'jfif_unit': 0, 'jfif_version': (1, 1), 'jfif': 257, 'jfif_density': (1, 1)}\n"
     ]
    }
   ],
   "source": [
    "# Store images in a list and then read the list to get properties of the file\n",
    "image_list = []\n",
    "for img in glob.glob('images/*.*'):\n",
    "\tim = Image.open(img)\n",
    "\timage_list.append(im)\n",
    "\n",
    "for image in image_list:\n",
    "\tprint(image.format)\n",
    "\tprint(image.size) # 2-tubel(width, height)\n",
    "\tprint(image.width)\n",
    "\tprint(image.height)\n",
    "\tprint(image.filename)\n",
    "\tprint(image.info)"
   ]
  }
 ],
 "metadata": {
  "kernelspec": {
   "display_name": "Python 3",
   "language": "python",
   "name": "python3"
  },
  "language_info": {
   "codemirror_mode": {
    "name": "ipython",
    "version": 3
   },
   "file_extension": ".py",
   "mimetype": "text/x-python",
   "name": "python",
   "nbconvert_exporter": "python",
   "pygments_lexer": "ipython3",
   "version": "3.5.0"
  }
 },
 "nbformat": 4,
 "nbformat_minor": 2
}
