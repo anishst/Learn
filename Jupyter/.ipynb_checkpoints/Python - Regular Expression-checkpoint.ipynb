{
 "cells": [
  {
   "cell_type": "code",
   "execution_count": 1,
   "metadata": {},
   "outputs": [],
   "source": [
    "import re"
   ]
  },
  {
   "cell_type": "code",
   "execution_count": 2,
   "metadata": {},
   "outputs": [],
   "source": [
    "text = \"Some random text with. ANISH anish Here is an email address anish@gmail.com test ligy@gmail.com 1234 SR1234 OTC-1234\""
   ]
  },
  {
   "cell_type": "markdown",
   "metadata": {},
   "source": [
    "## re.match\n",
    " searches from left to right; stops as soon as first match is found"
   ]
  },
  {
   "cell_type": "code",
   "execution_count": 3,
   "metadata": {},
   "outputs": [
    {
     "name": "stdout",
     "output_type": "stream",
     "text": [
      "anish@gmail.com\n"
     ]
    }
   ],
   "source": [
    "m = re.search(r'[\\w.]+@[\\w.]+', text)\n",
    "print(m.group())"
   ]
  },
  {
   "cell_type": "code",
   "execution_count": 4,
   "metadata": {},
   "outputs": [],
   "source": [
    "m = re.search('anish', text)"
   ]
  },
  {
   "cell_type": "code",
   "execution_count": 5,
   "metadata": {},
   "outputs": [
    {
     "name": "stdout",
     "output_type": "stream",
     "text": [
      "anish\n"
     ]
    }
   ],
   "source": [
    "print(m.group())"
   ]
  },
  {
   "cell_type": "code",
   "execution_count": 6,
   "metadata": {},
   "outputs": [
    {
     "name": "stdout",
     "output_type": "stream",
     "text": [
      "ANISH\n"
     ]
    }
   ],
   "source": [
    "m = re.search('anish', text, flags=re.IGNORECASE)\n",
    "print(m.group())"
   ]
  },
  {
   "cell_type": "code",
   "execution_count": 7,
   "metadata": {},
   "outputs": [
    {
     "name": "stdout",
     "output_type": "stream",
     "text": [
      "Full match: June 24\n",
      "Full match: August 9\n",
      "Full match: Dec 12\n"
     ]
    }
   ],
   "source": [
    "regex = r\"[a-zA-Z]+ \\d+\"\n",
    "matches = re.findall(regex, \"June 24, August 9, Dec 12\")\n",
    "for match in matches:\n",
    "       print (\"Full match: %s\" % (match))"
   ]
  },
  {
   "cell_type": "markdown",
   "metadata": {},
   "source": [
    "## re.findall\n",
    "\n",
    "finds all matches and returns the matches in a list. If parantheses are used, items will be in tuples in the list\n"
   ]
  },
  {
   "cell_type": "code",
   "execution_count": 8,
   "metadata": {},
   "outputs": [
    {
     "data": {
      "text/plain": [
       "['anish', 'anish']"
      ]
     },
     "execution_count": 8,
     "metadata": {},
     "output_type": "execute_result"
    }
   ],
   "source": [
    "re.findall(\"anish\", text)"
   ]
  },
  {
   "cell_type": "code",
   "execution_count": 9,
   "metadata": {},
   "outputs": [
    {
     "data": {
      "text/plain": [
       "['ANISH', 'anish', 'anish']"
      ]
     },
     "execution_count": 9,
     "metadata": {},
     "output_type": "execute_result"
    }
   ],
   "source": [
    "re.findall(\"anish\", text, flags=re.IGNORECASE)"
   ]
  },
  {
   "cell_type": "code",
   "execution_count": 18,
   "metadata": {},
   "outputs": [
    {
     "data": {
      "text/plain": [
       "[('', 'SR1234')]"
      ]
     },
     "execution_count": 18,
     "metadata": {},
     "output_type": "execute_result"
    }
   ],
   "source": [
    "re.findall('(OTC-\\d+) | (SR\\d+)', text)"
   ]
  },
  {
   "cell_type": "markdown",
   "metadata": {},
   "source": [
    "## GROUPING"
   ]
  },
  {
   "cell_type": "code",
   "execution_count": 22,
   "metadata": {},
   "outputs": [
    {
     "data": {
      "text/plain": [
       "[('1', ' ricochet robots'), ('2', ' settlers of catan'), ('3', ' acquire')]"
      ]
     },
     "execution_count": 22,
     "metadata": {},
     "output_type": "execute_result"
    }
   ],
   "source": [
    "text = \"\"\"\n",
    "1. ricochet robots\n",
    "2. settlers of catan\n",
    "3. acquire\n",
    "\"\"\"\n",
    "re.findall(r'^(\\d+)\\.(.*)$', text, re.MULTILINE)\n",
    "# [('1', ' ricochet robots'), ('2', ' settlers of catan'), ('3', ' acquire')]"
   ]
  },
  {
   "cell_type": "code",
   "execution_count": 28,
   "metadata": {},
   "outputs": [
    {
     "data": {
      "text/plain": [
       "['and', 'and', 'not', 'or']"
      ]
     },
     "execution_count": 28,
     "metadata": {},
     "output_type": "execute_result"
    }
   ],
   "source": [
    "s = \"These are oranges and apples and pears, but not pinapples or ..\"\n",
    "r = re.compile(r'\\bAND\\b | \\bOR\\b | \\bNOT\\b', flags=re.I | re.X)\n",
    "r.findall(s)"
   ]
  },
  {
   "cell_type": "code",
   "execution_count": 55,
   "metadata": {},
   "outputs": [
    {
     "data": {
      "text/plain": [
       "['SR233', 'SR23', 'sr23', 'OTC-123', 'OTCnet-REQ-2345', 'OTCnet-REQ-453']"
      ]
     },
     "execution_count": 55,
     "metadata": {},
     "output_type": "execute_result"
    }
   ],
   "source": [
    "s = \"These SR233.34 are SR23 oranges sr23 and OTC-123 apples and pears, OTCnet-REQ-2345 but not pinapples or OTCnet-REQ-453 ..\"\n",
    "r = re.compile(r'SR\\d+|SR\\d+.\\d+|OTC-\\d+|OTCnet-REQ-\\d+', flags=re.I)\n",
    "r.findall(s)"
   ]
  },
  {
   "cell_type": "code",
   "execution_count": 56,
   "metadata": {},
   "outputs": [
    {
     "data": {
      "text/plain": [
       "['SR233', 'SR23', 'sr23', 'OTC-123', 'OTCnet-REQ-2345', 'OTCnet-REQ-453']"
      ]
     },
     "execution_count": 56,
     "metadata": {},
     "output_type": "execute_result"
    }
   ],
   "source": [
    " re.findall(r'SR\\d+|SR\\d+.\\d+|OTC-\\d+|OTCnet-REQ-\\d+', s, flags=re.I)"
   ]
  }
 ],
 "metadata": {
  "kernelspec": {
   "display_name": "Python 3",
   "language": "python",
   "name": "python3"
  },
  "language_info": {
   "codemirror_mode": {
    "name": "ipython",
    "version": 3
   },
   "file_extension": ".py",
   "mimetype": "text/x-python",
   "name": "python",
   "nbconvert_exporter": "python",
   "pygments_lexer": "ipython3",
   "version": "3.6.4"
  }
 },
 "nbformat": 4,
 "nbformat_minor": 2
}
