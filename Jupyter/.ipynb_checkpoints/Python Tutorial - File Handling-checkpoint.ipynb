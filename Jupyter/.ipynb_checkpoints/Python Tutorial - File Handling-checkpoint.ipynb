{
 "cells": [
  {
   "cell_type": "markdown",
   "metadata": {},
   "source": [
    "# Python Tutorial - File Handling\n",
    "\n",
    "<p>\n",
    "    <ul>\n",
    "        <li><a href=\"#read_write\">Reading CSV Files using built-in methods</a></li>\n",
    "        <li><a href=\"#csv_module\">Reading CSV Files using CSV module</a></li>\n",
    "        <li><a href=\"#excel_openpyxl\">Reading Excel Files using openpyxl</a></li>\n",
    "        <li><a href=\"#excel_pandas\">Reading Excel Files using pandas</a></li>\n",
    "         \n",
    "        </ul>\n",
    "    </p>"
   ]
  },
  {
   "cell_type": "markdown",
   "metadata": {},
   "source": [
    "# <a name=\"read_write\">Reading and Writing CSV/Text Files using built-in methods</a>"
   ]
  },
  {
   "cell_type": "code",
   "execution_count": 1,
   "metadata": {
    "scrolled": true
   },
   "outputs": [
    {
     "name": "stdout",
     "output_type": "stream",
     "text": [
      "['username\\tpassword\\n', 'user1\\tpwd\\n', 'user2\\tpwd\\n', 'user3\\tpwd\\n']\n"
     ]
    }
   ],
   "source": [
    "# simple way - read all at once\n",
    "txtFile = open('userlist.csv','r')\n",
    "print(txtFile.readlines()) \n",
    "txtFile.close()"
   ]
  },
  {
   "cell_type": "code",
   "execution_count": 2,
   "metadata": {},
   "outputs": [
    {
     "name": "stdout",
     "output_type": "stream",
     "text": [
      "userlist.csv\n",
      "r\n"
     ]
    }
   ],
   "source": [
    "# Get file info\n",
    "txtFile = open('userlist.csv','r')\n",
    "print(txtFile.name)\n",
    "print(txtFile.mode)\n",
    "txtFile.close()"
   ]
  },
  {
   "cell_type": "code",
   "execution_count": 3,
   "metadata": {},
   "outputs": [
    {
     "name": "stdout",
     "output_type": "stream",
     "text": [
      "['username\\tpassword\\n', 'user1\\tpwd\\n', 'user2\\tpwd\\n', 'user3\\tpwd\\n']\n"
     ]
    }
   ],
   "source": [
    "# using context manager - more efficient\n",
    "with open('userlist.csv') as txtFile:\n",
    "    print(txtFile.readlines())"
   ]
  },
  {
   "cell_type": "markdown",
   "metadata": {},
   "source": [
    "## Read Methods"
   ]
  },
  {
   "cell_type": "code",
   "execution_count": 4,
   "metadata": {},
   "outputs": [
    {
     "name": "stdout",
     "output_type": "stream",
     "text": [
      "username\tpassword\n",
      "user1\tpwd\n",
      "user2\tpwd\n",
      "user3\tpwd\n",
      "\n"
     ]
    }
   ],
   "source": [
    "# read() method reads all at once\n",
    "with open('userlist.csv') as txtFile:\n",
    "    print(txtFile.read())"
   ]
  },
  {
   "cell_type": "code",
   "execution_count": 5,
   "metadata": {},
   "outputs": [
    {
     "name": "stdout",
     "output_type": "stream",
     "text": [
      "['username\\tpassword\\n', 'user1\\tpwd\\n', 'user2\\tpwd\\n', 'user3\\tpwd\\n']\n"
     ]
    }
   ],
   "source": [
    "# readlines() method reads all at once and put the items in a list\n",
    "with open('userlist.csv') as txtFile:\n",
    "    print(txtFile.readlines())"
   ]
  },
  {
   "cell_type": "code",
   "execution_count": 6,
   "metadata": {},
   "outputs": [
    {
     "name": "stdout",
     "output_type": "stream",
     "text": [
      "username\tpassword\n",
      "\n"
     ]
    }
   ],
   "source": [
    "# readline() method reads one line at a time\n",
    "with open('userlist.csv') as txtFile:\n",
    "    print(txtFile.readline())"
   ]
  },
  {
   "cell_type": "code",
   "execution_count": 7,
   "metadata": {},
   "outputs": [
    {
     "name": "stdout",
     "output_type": "stream",
     "text": [
      "username\tpasswo|rd\n",
      "user1\tpwd\n",
      "us|er2\tpwd\n",
      "user3\tp|wd\n",
      "|"
     ]
    }
   ],
   "source": [
    "# Read in chunks\n",
    "with open(\"userlist.csv\", 'r') as f:\n",
    "    size_to_read = 15 # number of chars to read at a time\n",
    "    f_contents = f.read(size_to_read)\n",
    "    while len(f_contents) > 0:\n",
    "        print(f_contents, end='|')\n",
    "        f_contents = f.read(size_to_read)"
   ]
  },
  {
   "cell_type": "markdown",
   "metadata": {},
   "source": [
    "## Examples"
   ]
  },
  {
   "cell_type": "code",
   "execution_count": 8,
   "metadata": {},
   "outputs": [
    {
     "name": "stdout",
     "output_type": "stream",
     "text": [
      "username password\n",
      "user1 pwd\n",
      "user2 pwd\n",
      "user3 pwd\n"
     ]
    }
   ],
   "source": [
    "# using context manager - store into a list\n",
    "with open('userlist.csv') as txtFile:\n",
    "    users = txtFile.read().splitlines()\n",
    "for user in users:\n",
    "    user, pwd = user.split()\n",
    "    print(user, pwd)"
   ]
  },
  {
   "cell_type": "code",
   "execution_count": 9,
   "metadata": {},
   "outputs": [
    {
     "name": "stdout",
     "output_type": "stream",
     "text": [
      "username password\n",
      "user1 pwd\n",
      "user2 pwd\n",
      "user3 pwd\n"
     ]
    }
   ],
   "source": [
    "# using context manager - one line at a time using for loop; good for large files\n",
    "with open('userlist.csv') as txtFile:\n",
    "    for line in txtFile:\n",
    "        user, pwd = line.split()\n",
    "        print(user, pwd)"
   ]
  },
  {
   "cell_type": "markdown",
   "metadata": {},
   "source": [
    "### Read CSV file using pandas"
   ]
  },
  {
   "cell_type": "code",
   "execution_count": 10,
   "metadata": {},
   "outputs": [
    {
     "name": "stdout",
     "output_type": "stream",
     "text": [
      "user1 pwd\n",
      "user2 pwd\n",
      "user3 pwd\n"
     ]
    }
   ],
   "source": [
    "import pandas as pd\n",
    "df = pd.read_csv( r'UserList.csv',sep='\\t')\n",
    "for index, row in df.iterrows():\n",
    "    print(row['username'],row['password'])"
   ]
  },
  {
   "cell_type": "markdown",
   "metadata": {},
   "source": [
    "## Writing to Files"
   ]
  },
  {
   "cell_type": "code",
   "execution_count": 42,
   "metadata": {},
   "outputs": [
    {
     "name": "stdout",
     "output_type": "stream",
     "text": [
      "Test\n"
     ]
    }
   ],
   "source": [
    "# write to a text file using w mode; this will overwrite the file\n",
    "with open('NewFile.txt', 'w') as txtFile:\n",
    "    txtFile.write(\"Test\")\n",
    "\n",
    "with open('NewFile.txt', 'r') as txtFile:\n",
    "    print(txtFile.read())\n",
    "    "
   ]
  },
  {
   "cell_type": "code",
   "execution_count": 43,
   "metadata": {},
   "outputs": [
    {
     "name": "stdout",
     "output_type": "stream",
     "text": [
      "Test\n",
      "Test\n"
     ]
    }
   ],
   "source": [
    "# append  to a text file using a mode; \n",
    "with open('NewFile.txt', 'a') as txtFile:\n",
    "    txtFile.write(\"\\nTest\")\n",
    "\n",
    "with open('NewFile.txt', 'r') as txtFile:\n",
    "    print(txtFile.read())"
   ]
  },
  {
   "cell_type": "code",
   "execution_count": 24,
   "metadata": {},
   "outputs": [
    {
     "name": "stdout",
     "output_type": "stream",
     "text": [
      "userlist.csv contents\n",
      "username\tpassword\n",
      "user1\tpwd\n",
      "user2\tpwd\n",
      "user3\tpwd\n",
      "\n",
      "userlist_copy.csv contents\n",
      "username\tpassword\n",
      "user1\tpwd\n",
      "user2\tpwd\n",
      "user3\tpwd\n",
      "\n"
     ]
    }
   ],
   "source": [
    "# Read a text file and write to another - exact copy\n",
    "with open('userlist.csv') as txtFile:\n",
    "    with open(\"UserList_Copy.txt\", 'w') as txtFileCopy:\n",
    "        for line in txtFile:\n",
    "            txtFileCopy.write(line)\n",
    "print('userlist.csv contents')           \n",
    "with open('userlist.csv') as txtFile:\n",
    "    print(txtFile.read())\n",
    "print('userlist_copy.csv contents')      \n",
    "with open('userList_Copy.txt') as txtFile:\n",
    "    print(txtFile.read() )"
   ]
  },
  {
   "cell_type": "code",
   "execution_count": 12,
   "metadata": {},
   "outputs": [
    {
     "name": "stdout",
     "output_type": "stream",
     "text": [
      "['username', 'password\\n']\n",
      "['user1', 'pwd\\n']\n",
      "['user2', 'pwd\\n']\n",
      "['user3', 'pwd\\n']\n"
     ]
    }
   ],
   "source": [
    "#Read a text file and write to another with formatting applied\n",
    "with open(\"userlist.csv\", 'r') as rf:\n",
    "    with open(\"userlist_copy_formatted.txt\", 'w') as wf:\n",
    "        for line in rf:\n",
    "            items = line.split('\\t')\n",
    "            print(items)\n",
    "            wf.write(items[0] + \",\" + items[1])"
   ]
  },
  {
   "cell_type": "code",
   "execution_count": 13,
   "metadata": {},
   "outputs": [],
   "source": [
    "# Copy binary file\n",
    "with open(\"google.png\", 'rb') as rf:\n",
    "    with open(\"google_Copy.png\", 'wb') as wf:\n",
    "        for line in rf:\n",
    "            wf.write(line)"
   ]
  },
  {
   "cell_type": "markdown",
   "metadata": {},
   "source": [
    "# <a name=\"csv_module\">Reading CSV Files using CSV module</a>"
   ]
  },
  {
   "cell_type": "code",
   "execution_count": 2,
   "metadata": {},
   "outputs": [],
   "source": [
    "import csv"
   ]
  },
  {
   "cell_type": "code",
   "execution_count": 11,
   "metadata": {},
   "outputs": [
    {
     "name": "stdout",
     "output_type": "stream",
     "text": [
      "['username', 'password']\n",
      "username,password\n",
      "['user1', 'pwd']\n",
      "user1,pwd\n",
      "['user,2', '\\tpwd']\n",
      "user,2,\tpwd\n",
      "['user3', '\\tpwd']\n",
      "user3,\tpwd\n"
     ]
    }
   ],
   "source": [
    "with open(\"UserList_CSV_Test.csv\") as csvFile:\n",
    "    userList = csv.reader(csvFile, delimiter=\",\", quotechar='\"')\n",
    "    for user in userList:\n",
    "        print(user)\n",
    "        print(','.join(user))"
   ]
  },
  {
   "cell_type": "markdown",
   "metadata": {},
   "source": [
    "## Example of Reading CSV and looking fo a query value"
   ]
  },
  {
   "cell_type": "code",
   "execution_count": 23,
   "metadata": {},
   "outputs": [
    {
     "name": "stdout",
     "output_type": "stream",
     "text": [
      "Password for user user1 is pwd2\n"
     ]
    }
   ],
   "source": [
    "query = 'user1'\n",
    "with open(\"UserList_CSV_Test.csv\") as csvFile:\n",
    "    userList = csv.reader(csvFile, delimiter=\",\", quotechar='\"')\n",
    "    for user in userList:\n",
    "        if user[0] == query:\n",
    "            print(f\"Password for user {user[0]} is {user[1].strip()}\")"
   ]
  },
  {
   "cell_type": "markdown",
   "metadata": {},
   "source": [
    "# <a name=\"excel_openpyxl\">Reading Excel Files -  openpyxl</a>\n",
    "<p>\n",
    "    <a href=\"https://openpyxl.readthedocs.io/en/stable/\">https://openpyxl.readthedocs.io/en/stable/</a>\n",
    "    </p>"
   ]
  },
  {
   "cell_type": "code",
   "execution_count": 14,
   "metadata": {},
   "outputs": [
    {
     "name": "stdout",
     "output_type": "stream",
     "text": [
      "['UserList']\n"
     ]
    }
   ],
   "source": [
    "from openpyxl import load_workbook\n",
    "wb = load_workbook(filename='UserList.xlsx')\n",
    "print(wb.sheetnames)\n",
    "ws = wb['UserList'] # get the sheet to work with"
   ]
  },
  {
   "cell_type": "code",
   "execution_count": 15,
   "metadata": {},
   "outputs": [
    {
     "name": "stdout",
     "output_type": "stream",
     "text": [
      "4\n"
     ]
    }
   ],
   "source": [
    "# get row count\n",
    "row_count = ws.max_row\n",
    "print(row_count)"
   ]
  },
  {
   "cell_type": "code",
   "execution_count": 16,
   "metadata": {},
   "outputs": [
    {
     "name": "stdout",
     "output_type": "stream",
     "text": [
      "2\n"
     ]
    }
   ],
   "source": [
    "# get column count\n",
    "column_count = ws.max_column\n",
    "print(column_count)"
   ]
  },
  {
   "cell_type": "code",
   "execution_count": 17,
   "metadata": {},
   "outputs": [
    {
     "name": "stdout",
     "output_type": "stream",
     "text": [
      "username\n"
     ]
    }
   ],
   "source": [
    "# print single cell value using cell number\n",
    "print(ws['A1'].value)"
   ]
  },
  {
   "cell_type": "code",
   "execution_count": 18,
   "metadata": {},
   "outputs": [
    {
     "name": "stdout",
     "output_type": "stream",
     "text": [
      "username\n",
      "password\n",
      "user1\n",
      "pwd\n",
      "user2\n",
      "pwd\n",
      "user3\n",
      "pwd\n"
     ]
    }
   ],
   "source": [
    "# Loop excel file: reads all but separate lines\n",
    "for row in ws.iter_rows():\n",
    "    for cell in row:\n",
    "        print(cell.value, sep=\"\")"
   ]
  },
  {
   "cell_type": "code",
   "execution_count": 19,
   "metadata": {},
   "outputs": [
    {
     "name": "stdout",
     "output_type": "stream",
     "text": [
      "1\tusername\tpassword\n",
      "2\tuser1\tpwd\n",
      "3\tuser2\tpwd\n"
     ]
    }
   ],
   "source": [
    "# Loop excel file: need to specify number of columns\n",
    "for i in range(1, row_count):\n",
    "    print(i, ws.cell(row=i, column=1).value, ws.cell(row=i, column=2).value, sep=\"\\t\")"
   ]
  },
  {
   "cell_type": "markdown",
   "metadata": {},
   "source": [
    "# <a name=\"excel_pandas\">Reading Excel Files - pandas</a>"
   ]
  },
  {
   "cell_type": "markdown",
   "metadata": {},
   "source": [
    "### Pandas - simple way to read excel"
   ]
  },
  {
   "cell_type": "code",
   "execution_count": 20,
   "metadata": {
    "scrolled": true
   },
   "outputs": [
    {
     "name": "stdout",
     "output_type": "stream",
     "text": [
      "user1 pwd\n",
      "user2 pwd\n",
      "user3 pwd\n"
     ]
    }
   ],
   "source": [
    "import pandas as pd\n",
    "df = pd.read_excel( r'UserList.xlsx', sheet_name=\"UserList\")\n",
    "# loop thru row\n",
    "for index, row in df.iterrows():\n",
    "    print(row['username'],row['password'])"
   ]
  },
  {
   "cell_type": "markdown",
   "metadata": {},
   "source": [
    "### Pands - getting more detail from spreadsheet"
   ]
  },
  {
   "cell_type": "code",
   "execution_count": 21,
   "metadata": {},
   "outputs": [],
   "source": [
    "import pandas as pd\n",
    "excelFile = r'UserList.xlsx'"
   ]
  },
  {
   "cell_type": "code",
   "execution_count": 22,
   "metadata": {},
   "outputs": [],
   "source": [
    "# load spreadsheet\n",
    "xl = pd.ExcelFile(excelFile)"
   ]
  },
  {
   "cell_type": "code",
   "execution_count": 23,
   "metadata": {},
   "outputs": [
    {
     "name": "stdout",
     "output_type": "stream",
     "text": [
      "['UserList']\n"
     ]
    }
   ],
   "source": [
    "# Print the sheet names\n",
    "print(xl.sheet_names)"
   ]
  },
  {
   "cell_type": "code",
   "execution_count": 24,
   "metadata": {},
   "outputs": [
    {
     "name": "stdout",
     "output_type": "stream",
     "text": [
      "  username password\n",
      "0    user1      pwd\n",
      "1    user2      pwd\n",
      "2    user3      pwd\n"
     ]
    }
   ],
   "source": [
    "# Load a sheet into a DataFrame by name: df\n",
    "df = xl.parse('UserList')\n",
    "print(df)"
   ]
  },
  {
   "cell_type": "code",
   "execution_count": 25,
   "metadata": {},
   "outputs": [
    {
     "name": "stdout",
     "output_type": "stream",
     "text": [
      "  username password\n",
      "0    user1      pwd\n",
      "1    user2      pwd\n",
      "2    user3      pwd\n"
     ]
    }
   ],
   "source": [
    "# get first rows; default is 5\n",
    "print(df.head())"
   ]
  },
  {
   "cell_type": "code",
   "execution_count": 26,
   "metadata": {},
   "outputs": [
    {
     "name": "stdout",
     "output_type": "stream",
     "text": [
      "  username password\n",
      "0    user1      pwd\n",
      "1    user2      pwd\n",
      "2    user3      pwd\n"
     ]
    }
   ],
   "source": [
    "# get lat rows; default is 5\n",
    "print(df.tail())"
   ]
  },
  {
   "cell_type": "code",
   "execution_count": 27,
   "metadata": {},
   "outputs": [
    {
     "name": "stdout",
     "output_type": "stream",
     "text": [
      "0    user1\n",
      "1    user2\n",
      "2    user3\n",
      "Name: username, dtype: object\n"
     ]
    }
   ],
   "source": [
    "# print specific columns\n",
    "print(df['username'])"
   ]
  },
  {
   "cell_type": "code",
   "execution_count": 28,
   "metadata": {},
   "outputs": [
    {
     "name": "stdout",
     "output_type": "stream",
     "text": [
      "[['user1' 'pwd']\n",
      " ['user2' 'pwd']\n",
      " ['user3' 'pwd']]\n",
      "user1 pwd\n",
      "user2 pwd\n",
      "user3 pwd\n"
     ]
    }
   ],
   "source": [
    "# convert df to a list\n",
    "userlist = df.values\n",
    "print(userlist)\n",
    "for user in userlist:\n",
    "    print(user[0], user[1])"
   ]
  }
 ],
 "metadata": {
  "kernelspec": {
   "display_name": "Python 3",
   "language": "python",
   "name": "python3"
  },
  "language_info": {
   "codemirror_mode": {
    "name": "ipython",
    "version": 3
   },
   "file_extension": ".py",
   "mimetype": "text/x-python",
   "name": "python",
   "nbconvert_exporter": "python",
   "pygments_lexer": "ipython3",
   "version": "3.6.4"
  }
 },
 "nbformat": 4,
 "nbformat_minor": 2
}
