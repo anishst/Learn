{
 "cells": [
  {
   "cell_type": "markdown",
   "metadata": {},
   "source": [
    "# Python Tutorial - Functions\n",
    "functions allows running a block of code; allows re-use code; only runs when called upon\n",
    "<br/>You can pass arguments/parameters to a function \n",
    "<br/>functions can return a value"
   ]
  },
  {
   "cell_type": "code",
   "execution_count": 1,
   "metadata": {},
   "outputs": [
    {
     "name": "stdout",
     "output_type": "stream",
     "text": [
      "This is a simple function\n"
     ]
    }
   ],
   "source": [
    "# Define function\n",
    "def SimpleFunction():\n",
    "    print(\"This is a simple function\")\n",
    "SimpleFunction()# calling function\n"
   ]
  },
  {
   "cell_type": "code",
   "execution_count": 3,
   "metadata": {},
   "outputs": [
    {
     "name": "stdout",
     "output_type": "stream",
     "text": [
      "hello\n",
      "HELLO\n"
     ]
    }
   ],
   "source": [
    "# returing a value\n",
    "def return_hello():\n",
    "    return \"hello\"\n",
    "print(return_hello())\n",
    "print(return_hello().upper())"
   ]
  },
  {
   "cell_type": "code",
   "execution_count": 19,
   "metadata": {},
   "outputs": [
    {
     "name": "stdout",
     "output_type": "stream",
     "text": [
      "Hi Function\n",
      "Hello Function\n"
     ]
    }
   ],
   "source": [
    "# passing argument\n",
    "def return_greeting(greeting=\"Hello\"):\n",
    "    return \"{} Function\".format(greeting)\n",
    "print(return_greeting(\"Hi\"))\n",
    "print(return_greeting())"
   ]
  },
  {
   "cell_type": "code",
   "execution_count": 15,
   "metadata": {},
   "outputs": [
    {
     "name": "stdout",
     "output_type": "stream",
     "text": [
      "('Math', 'Art')\n",
      "{'Name': 'John', 'Age': '22'}\n"
     ]
    }
   ],
   "source": [
    "# use args and kwargs when args are unknown\n",
    "def student_info(*args, **kwargs):\n",
    "    print(args)\n",
    "    print(kwargs)\n",
    "\n",
    "student_info(\"Math\",\"Art\", Name='John', Age='22')"
   ]
  },
  {
   "cell_type": "code",
   "execution_count": 17,
   "metadata": {},
   "outputs": [
    {
     "name": "stdout",
     "output_type": "stream",
     "text": [
      "('Math', 'History')\n",
      "{'Name': 'Anish', 'Age': '32'}\n"
     ]
    }
   ],
   "source": [
    "courses = [\"Math\", \"History\"]\n",
    "info = {'Name': 'Anish', 'Age': '32'}\n",
    "\n",
    "def student_info(*args, **kwargs):\n",
    "    print(args)\n",
    "    print(kwargs)\n",
    "student_info(*courses, **info) # unpack by adding * and **\n"
   ]
  },
  {
   "cell_type": "code",
   "execution_count": 11,
   "metadata": {},
   "outputs": [
    {
     "name": "stdout",
     "output_type": "stream",
     "text": [
      "You passed 6 arguments. (3, 4, 'hello', 1, True, False)\n"
     ]
    }
   ],
   "source": [
    "# pass multiple arguments\n",
    "def DisplayMulti(*VarArgs):\n",
    "\tprint('You passed ' + str(len(VarArgs)) + ' arguments.', VarArgs)\n",
    "a=4\n",
    "DisplayMulti(3, a,\"hello\",1,True, False)"
   ]
  },
  {
   "cell_type": "code",
   "execution_count": 6,
   "metadata": {},
   "outputs": [
    {
     "name": "stdout",
     "output_type": "stream",
     "text": [
      "-- Do you have any Limburger ?\n",
      "-- I'm sorry, we're all out of Limburger\n",
      "It's very runny, sir.\n",
      "It's really very, VERY runny, sir.\n",
      "----------------------------------------\n",
      "shopkeeper : Michael Palin\n",
      "client : John Cleese\n",
      "sketch : Cheese Shop Sketch\n"
     ]
    }
   ],
   "source": [
    "# keyword arg examples\n",
    "# https://docs.python.org/3.6/tutorial/controlflow.html#keyword-arguments\n",
    "def cheeseshop(kind, *arguments, **keywords):\n",
    "    print(\"-- Do you have any\", kind, \"?\")\n",
    "    print(\"-- I'm sorry, we're all out of\", kind)\n",
    "    for arg in arguments:\n",
    "        print(arg)\n",
    "    print(\"-\" * 40)\n",
    "    for kw in keywords:\n",
    "        print(kw, \":\", keywords[kw])\n",
    "        \n",
    "cheeseshop(\"Limburger\", \"It's very runny, sir.\",\n",
    "           \"It's really very, VERY runny, sir.\",\n",
    "           shopkeeper=\"Michael Palin\",\n",
    "           client=\"John Cleese\",\n",
    "           sketch=\"Cheese Shop Sketch\")\n"
   ]
  }
 ],
 "metadata": {
  "kernelspec": {
   "display_name": "Python 3",
   "language": "python",
   "name": "python3"
  },
  "language_info": {
   "codemirror_mode": {
    "name": "ipython",
    "version": 3
   },
   "file_extension": ".py",
   "mimetype": "text/x-python",
   "name": "python",
   "nbconvert_exporter": "python",
   "pygments_lexer": "ipython3",
   "version": "3.6.4"
  }
 },
 "nbformat": 4,
 "nbformat_minor": 2
}
