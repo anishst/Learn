{
 "cells": [
  {
   "cell_type": "markdown",
   "metadata": {},
   "source": [
    "# Python Tutorial"
   ]
  },
  {
   "cell_type": "markdown",
   "metadata": {},
   "source": [
    "# TOC\n",
    "<a href=\"#intro\">Introduction</a><br/>\n",
    "<a href=\"#syntax\">Syntax</a><br/>\n",
    "<a href=\"#variables\">Variables</a><br/>\n",
    "<a href=\"#operators\">Basic Operators</a><br/>\n",
    "<a href=\"#loops\">Loops</a><br/>\n",
    "<a href=\"#lists\">Lists</a><br/>\n",
    "<a href=\"#conditionals\">Conditionals</a>"
   ]
  },
  {
   "cell_type": "markdown",
   "metadata": {},
   "source": [
    "# <a name=\"intro\">Introduction</a>\n",
    "\n",
    "<p>Python is an interpreted high-level programming language for general-purpose programming. Created by Guido van Rossum and first released in 1991.</p>\n",
    "\n"
   ]
  },
  {
   "cell_type": "code",
   "execution_count": 1,
   "metadata": {
    "scrolled": true
   },
   "outputs": [
    {
     "name": "stdout",
     "output_type": "stream",
     "text": [
      "Hello World. Welcome to Python!\n"
     ]
    }
   ],
   "source": [
    "print(\"Hello World. Welcome to Python!\")"
   ]
  },
  {
   "cell_type": "markdown",
   "metadata": {},
   "source": [
    "# <a name=\"syntax\"> Python Syntax</a>"
   ]
  },
  {
   "cell_type": "markdown",
   "metadata": {},
   "source": [
    "## Execute Code\n",
    "Python syntax can be executed by writing directly in the Command Line <br/>\n",
    "Or by creating a python file on the server, using the .py file extension, and running it in the Command Line"
   ]
  },
  {
   "cell_type": "code",
   "execution_count": 2,
   "metadata": {},
   "outputs": [
    {
     "name": "stdout",
     "output_type": "stream",
     "text": [
      "True\n"
     ]
    }
   ],
   "source": [
    "#Python uses indentation to indicate a block of code\n",
    "if 5 > 2:\n",
    "    print(\"True\")"
   ]
  },
  {
   "cell_type": "markdown",
   "metadata": {},
   "source": [
    "## Using comments"
   ]
  },
  {
   "cell_type": "code",
   "execution_count": 3,
   "metadata": {},
   "outputs": [
    {
     "name": "stdout",
     "output_type": "stream",
     "text": [
      "the above is a single line comment\n"
     ]
    }
   ],
   "source": [
    "# use # symbol for single line comment\n",
    "print(\"the above is a single line comment\")"
   ]
  },
  {
   "cell_type": "code",
   "execution_count": 4,
   "metadata": {},
   "outputs": [
    {
     "name": "stdout",
     "output_type": "stream",
     "text": [
      "the above is a multi line comment\n"
     ]
    }
   ],
   "source": [
    "\"\"\" multiline \n",
    "comments \"\"\"\n",
    "print(\"the above is a multi line comment\")"
   ]
  },
  {
   "cell_type": "markdown",
   "metadata": {},
   "source": [
    "# <a name=\"variable\">Variables</a>\n",
    "storage placeholder for texts and numbers <br/>\n",
    "no need to declare variables<br/>\n",
    "case sensitive <br/>\n",
    "White spaces and signs with special meanings in Python, as \"+\" and \"-\" are\n",
    "not allowed. "
   ]
  },
  {
   "cell_type": "markdown",
   "metadata": {},
   "source": [
    "## Python Keywords - don't use as variable names"
   ]
  },
  {
   "cell_type": "code",
   "execution_count": 5,
   "metadata": {},
   "outputs": [
    {
     "name": "stdout",
     "output_type": "stream",
     "text": [
      "['False', 'None', 'True', 'and', 'as', 'assert', 'break', 'class', 'continue', 'def', 'del', 'elif', 'else', 'except', 'finally', 'for', 'from', 'global', 'if', 'import', 'in', 'is', 'lambda', 'nonlocal', 'not', 'or', 'pass', 'raise', 'return', 'try', 'while', 'with', 'yield']\n"
     ]
    }
   ],
   "source": [
    "import keyword\n",
    "print(keyword.kwlist)"
   ]
  },
  {
   "cell_type": "code",
   "execution_count": 6,
   "metadata": {},
   "outputs": [
    {
     "name": "stdout",
     "output_type": "stream",
     "text": [
      "3\n",
      "<class 'int'>\n"
     ]
    }
   ],
   "source": [
    "myintvar = 3\n",
    "print(myintvar)\n",
    "print(type(myintvar))"
   ]
  },
  {
   "cell_type": "code",
   "execution_count": 7,
   "metadata": {},
   "outputs": [
    {
     "name": "stdout",
     "output_type": "stream",
     "text": [
      "3.1\n",
      "<class 'float'>\n"
     ]
    }
   ],
   "source": [
    "myfloatvar = 3.1\n",
    "print(myfloatvar)\n",
    "print(type(myfloatvar))"
   ]
  },
  {
   "cell_type": "code",
   "execution_count": 8,
   "metadata": {},
   "outputs": [
    {
     "name": "stdout",
     "output_type": "stream",
     "text": [
      "this is a string variable\n",
      "<class 'str'>\n"
     ]
    }
   ],
   "source": [
    "myStringVar = 'this is a string variable'\n",
    "print(myStringVar)\n",
    "print(type(myStringVar))"
   ]
  },
  {
   "cell_type": "markdown",
   "metadata": {},
   "source": [
    "# <a name=\"operators\">Basic Operators</a>"
   ]
  },
  {
   "cell_type": "code",
   "execution_count": 9,
   "metadata": {
    "scrolled": true
   },
   "outputs": [
    {
     "name": "stdout",
     "output_type": "stream",
     "text": [
      "8\n"
     ]
    }
   ],
   "source": [
    "#addition\n",
    "number = 6 + 2\n",
    "print(number)"
   ]
  },
  {
   "cell_type": "code",
   "execution_count": 10,
   "metadata": {},
   "outputs": [
    {
     "name": "stdout",
     "output_type": "stream",
     "text": [
      "5\n"
     ]
    }
   ],
   "source": [
    "# subtraction\n",
    "print(7-2)"
   ]
  },
  {
   "cell_type": "code",
   "execution_count": 11,
   "metadata": {},
   "outputs": [
    {
     "name": "stdout",
     "output_type": "stream",
     "text": [
      "3.5\n"
     ]
    }
   ],
   "source": [
    "# division\n",
    "print(7/2)"
   ]
  },
  {
   "cell_type": "code",
   "execution_count": 12,
   "metadata": {},
   "outputs": [
    {
     "name": "stdout",
     "output_type": "stream",
     "text": [
      "14\n"
     ]
    }
   ],
   "source": [
    "# multiplication\n",
    "print(7*2)"
   ]
  },
  {
   "cell_type": "code",
   "execution_count": 13,
   "metadata": {},
   "outputs": [
    {
     "name": "stdout",
     "output_type": "stream",
     "text": [
      "1\n",
      "2\n"
     ]
    }
   ],
   "source": [
    "num = 1\n",
    "print(num)\n",
    "num += 1 # increment shortcut; same as num = num + 1\n",
    "print(num)"
   ]
  },
  {
   "cell_type": "code",
   "execution_count": 14,
   "metadata": {},
   "outputs": [
    {
     "name": "stdout",
     "output_type": "stream",
     "text": [
      "1\n"
     ]
    }
   ],
   "source": [
    "remainder = 5 % 2 # modulus operator\n",
    "print(remainder)"
   ]
  },
  {
   "cell_type": "code",
   "execution_count": 15,
   "metadata": {},
   "outputs": [
    {
     "name": "stdout",
     "output_type": "stream",
     "text": [
      "49\n"
     ]
    }
   ],
   "source": [
    "# power\n",
    "print(7**2)"
   ]
  },
  {
   "cell_type": "code",
   "execution_count": 16,
   "metadata": {},
   "outputs": [
    {
     "name": "stdout",
     "output_type": "stream",
     "text": [
      "hello  world\n"
     ]
    }
   ],
   "source": [
    "print(\"hello\" + \" \" + \" world\")"
   ]
  },
  {
   "cell_type": "code",
   "execution_count": 17,
   "metadata": {},
   "outputs": [
    {
     "name": "stdout",
     "output_type": "stream",
     "text": [
      "hello hello hello hello hello hello hello hello hello hello \n"
     ]
    }
   ],
   "source": [
    "print(\"hello \" * 10)"
   ]
  },
  {
   "cell_type": "markdown",
   "metadata": {},
   "source": [
    "## Comparison"
   ]
  },
  {
   "cell_type": "code",
   "execution_count": 18,
   "metadata": {},
   "outputs": [
    {
     "name": "stdout",
     "output_type": "stream",
     "text": [
      "False\n",
      "True\n",
      "False\n",
      "True\n",
      "False\n",
      "True\n"
     ]
    }
   ],
   "source": [
    "num1 = 2\n",
    "num2 = 5\n",
    "print (num1 == num2)\n",
    "print( num1 != num2)\n",
    "print (num1 > num2)\n",
    "print (num1 < num2)\n",
    "print (num1 >= num2)\n",
    "print (num1 <= num2)"
   ]
  },
  {
   "cell_type": "code",
   "execution_count": 19,
   "metadata": {},
   "outputs": [
    {
     "name": "stdout",
     "output_type": "stream",
     "text": [
      "[1, 3, 5, 7, 2, 4, 6, 8]\n"
     ]
    }
   ],
   "source": [
    "# Lists can be joined with the addition operators\n",
    "even_numbers = [2,4,6,8]\n",
    "odd_numbers = [1,3,5,7]\n",
    "all_numbers = odd_numbers + even_numbers\n",
    "print(all_numbers)"
   ]
  },
  {
   "cell_type": "markdown",
   "metadata": {},
   "source": [
    "# Get User Input"
   ]
  },
  {
   "cell_type": "code",
   "execution_count": 20,
   "metadata": {},
   "outputs": [],
   "source": [
    "# print(\"Number Addition\")\n",
    "# num1 = input(\"Enter First #: \")\n",
    "# num2 = input(\"Enter 2nd #: \")\n",
    "# print(int(num1)+int(num2))"
   ]
  },
  {
   "cell_type": "markdown",
   "metadata": {},
   "source": [
    "# Strings\n",
    "https://docs.python.org/3.7/library/string.html"
   ]
  },
  {
   "cell_type": "markdown",
   "metadata": {},
   "source": [
    "### String Methods"
   ]
  },
  {
   "cell_type": "code",
   "execution_count": 21,
   "metadata": {},
   "outputs": [
    {
     "name": "stdout",
     "output_type": "stream",
     "text": [
      "3\n"
     ]
    }
   ],
   "source": [
    "stringVar = 'This is a string'\n",
    "print(stringVar.count('i')) #counts the number of occurrences of 'x' in stringVar"
   ]
  },
  {
   "cell_type": "code",
   "execution_count": 22,
   "metadata": {},
   "outputs": [
    {
     "name": "stdout",
     "output_type": "stream",
     "text": [
      "11\n"
     ]
    }
   ],
   "source": [
    "print(stringVar.find('t')) # returns the position of character 'x'"
   ]
  },
  {
   "cell_type": "code",
   "execution_count": 23,
   "metadata": {},
   "outputs": [
    {
     "name": "stdout",
     "output_type": "stream",
     "text": [
      "6\n",
      "afsfs\n"
     ]
    }
   ],
   "source": [
    "#  find the last item after a certain char\n",
    "mystring = \"232323/afsfs\"\n",
    "print(mystring.find('/')) # find 1st occurence of / char\n",
    "print(mystring[mystring.find('/')+1:]) # find chars afer / char "
   ]
  },
  {
   "cell_type": "code",
   "execution_count": 24,
   "metadata": {},
   "outputs": [
    {
     "name": "stdout",
     "output_type": "stream",
     "text": [
      "this is a string\n"
     ]
    }
   ],
   "source": [
    "print(stringVar.lower())  # returns the stringVar in lowercase (this is temporary)"
   ]
  },
  {
   "cell_type": "code",
   "execution_count": 25,
   "metadata": {},
   "outputs": [
    {
     "name": "stdout",
     "output_type": "stream",
     "text": [
      "THIS IS A STRING\n"
     ]
    }
   ],
   "source": [
    "print(stringVar.upper()) # returns the stringVar in uppercase (this is temporary)"
   ]
  },
  {
   "cell_type": "code",
   "execution_count": 26,
   "metadata": {},
   "outputs": [
    {
     "name": "stdout",
     "output_type": "stream",
     "text": [
      "This is a sqring\n"
     ]
    }
   ],
   "source": [
    "print(stringVar.replace('t', 'q')) # replaces all occurrences of t with q in the string"
   ]
  },
  {
   "cell_type": "code",
   "execution_count": 27,
   "metadata": {},
   "outputs": [
    {
     "name": "stdout",
     "output_type": "stream",
     "text": [
      "This is a string\n"
     ]
    }
   ],
   "source": [
    "print(stringVar.strip()) # removes leading/trailing white space from string"
   ]
  },
  {
   "cell_type": "code",
   "execution_count": 28,
   "metadata": {},
   "outputs": [
    {
     "name": "stdout",
     "output_type": "stream",
     "text": [
      "This Is A String\n"
     ]
    }
   ],
   "source": [
    "print(stringVar.title()) # capitalizes first letter of the word"
   ]
  },
  {
   "cell_type": "code",
   "execution_count": 29,
   "metadata": {
    "scrolled": true
   },
   "outputs": [
    {
     "name": "stdout",
     "output_type": "stream",
     "text": [
      "16\n"
     ]
    }
   ],
   "source": [
    "print(len(stringVar)) # print lenght of string"
   ]
  },
  {
   "cell_type": "code",
   "execution_count": 30,
   "metadata": {},
   "outputs": [],
   "source": [
    "newString = \"Hello WOrld!\""
   ]
  },
  {
   "cell_type": "code",
   "execution_count": 31,
   "metadata": {},
   "outputs": [
    {
     "name": "stdout",
     "output_type": "stream",
     "text": [
      "True\n"
     ]
    }
   ],
   "source": [
    "print(newString.startswith('H'))"
   ]
  },
  {
   "cell_type": "code",
   "execution_count": 32,
   "metadata": {},
   "outputs": [
    {
     "name": "stdout",
     "output_type": "stream",
     "text": [
      "False\n"
     ]
    }
   ],
   "source": [
    "print(newString.startswith('t'))"
   ]
  },
  {
   "cell_type": "code",
   "execution_count": 33,
   "metadata": {},
   "outputs": [
    {
     "name": "stdout",
     "output_type": "stream",
     "text": [
      "True\n"
     ]
    }
   ],
   "source": [
    "print(newString.endswith('!'))"
   ]
  },
  {
   "cell_type": "code",
   "execution_count": 34,
   "metadata": {},
   "outputs": [
    {
     "name": "stdout",
     "output_type": "stream",
     "text": [
      "['Hello', 'WOrld!']\n"
     ]
    }
   ],
   "source": [
    "print(newString.split()) # splits based on given split char; default is space"
   ]
  },
  {
   "cell_type": "code",
   "execution_count": 35,
   "metadata": {},
   "outputs": [
    {
     "name": "stdout",
     "output_type": "stream",
     "text": [
      "['Hell', ' WOrld!']\n"
     ]
    }
   ],
   "source": [
    "print(newString.split(\"o\")) # splits based on given split char; default is space"
   ]
  },
  {
   "cell_type": "markdown",
   "metadata": {},
   "source": [
    "## Formatting numbers and other strings"
   ]
  },
  {
   "cell_type": "code",
   "execution_count": 36,
   "metadata": {},
   "outputs": [
    {
     "name": "stdout",
     "output_type": "stream",
     "text": [
      "Hello'world\n"
     ]
    }
   ],
   "source": [
    "# escpaing special chars\n",
    "msg = 'Hello\\'world'\n",
    "print(msg)"
   ]
  },
  {
   "cell_type": "code",
   "execution_count": 37,
   "metadata": {},
   "outputs": [
    {
     "name": "stdout",
     "output_type": "stream",
     "text": [
      "Hello, John!\n"
     ]
    }
   ],
   "source": [
    "# old way\n",
    "name = \"John\"\n",
    "print(\"Hello, %s!\" % name)"
   ]
  },
  {
   "cell_type": "code",
   "execution_count": 38,
   "metadata": {},
   "outputs": [
    {
     "name": "stdout",
     "output_type": "stream",
     "text": [
      "Hello, John!\n"
     ]
    }
   ],
   "source": [
    "#  new way\n",
    "name = \"John\"\n",
    "print(\"Hello, {}!\".format(name))"
   ]
  },
  {
   "cell_type": "code",
   "execution_count": 39,
   "metadata": {},
   "outputs": [
    {
     "name": "stdout",
     "output_type": "stream",
     "text": [
      "Hello, John!\n"
     ]
    }
   ],
   "source": [
    "# using f string\n",
    "print(f\"Hello, {name}!\")"
   ]
  },
  {
   "cell_type": "code",
   "execution_count": 40,
   "metadata": {},
   "outputs": [
    {
     "name": "stdout",
     "output_type": "stream",
     "text": [
      "003.14\n"
     ]
    }
   ],
   "source": [
    "print('{:06.2f}'.format(3.141592653589793)) # # at least 6 characters with 2 after the decimal point"
   ]
  },
  {
   "cell_type": "code",
   "execution_count": 41,
   "metadata": {},
   "outputs": [
    {
     "name": "stdout",
     "output_type": "stream",
     "text": [
      "3.14\n"
     ]
    }
   ],
   "source": [
    "print('{:.2f}'.format(3.141592653589793)) # # at least 6 characters with 2 after the decimal point"
   ]
  },
  {
   "cell_type": "code",
   "execution_count": 42,
   "metadata": {},
   "outputs": [
    {
     "name": "stdout",
     "output_type": "stream",
     "text": [
      "00042\n"
     ]
    }
   ],
   "source": [
    "print('{:05d}'.format(42))"
   ]
  },
  {
   "cell_type": "code",
   "execution_count": 43,
   "metadata": {},
   "outputs": [
    {
     "name": "stdout",
     "output_type": "stream",
     "text": [
      "+42\n"
     ]
    }
   ],
   "source": [
    "print('{:+d}'.format(42))"
   ]
  },
  {
   "cell_type": "code",
   "execution_count": 44,
   "metadata": {},
   "outputs": [
    {
     "name": "stdout",
     "output_type": "stream",
     "text": [
      "Binary representation of 0 is 0\n",
      "Binary representation of 1 is 1\n",
      "Binary representation of 2 is 10\n",
      "Binary representation of 3 is 11\n",
      "Binary representation of 4 is 100\n",
      "Binary representation of 5 is 101\n",
      "Binary representation of 6 is 110\n",
      "Binary representation of 7 is 111\n",
      "Binary representation of 8 is 1000\n",
      "Binary representation of 9 is 1001\n"
     ]
    }
   ],
   "source": [
    "# print numbers in binary format\n",
    "for i in range(10):\n",
    "\tprint(\"Binary representation of {0} is {0:b}\".format(i))"
   ]
  },
  {
   "cell_type": "markdown",
   "metadata": {},
   "source": [
    "### Using zfill\n",
    "https://docs.python.org/3.6/library/stdtypes.html?highlight=zfill#str.zfill"
   ]
  },
  {
   "cell_type": "code",
   "execution_count": 45,
   "metadata": {
    "scrolled": true
   },
   "outputs": [
    {
     "name": "stdout",
     "output_type": "stream",
     "text": [
      "0045\n",
      "-0042\n"
     ]
    }
   ],
   "source": [
    "test_zfill = \"45\"\n",
    "print(test_zfill.zfill(4))\n",
    "print(\"-42\".zfill(5))"
   ]
  },
  {
   "cell_type": "code",
   "execution_count": 46,
   "metadata": {},
   "outputs": [
    {
     "name": "stdout",
     "output_type": "stream",
     "text": [
      "*******Hello12345********\n"
     ]
    }
   ],
   "source": [
    "print('{message:{fill}{align}{width}}'.format(message='Hello12345', fill=\"*\", align='^',width=25))"
   ]
  },
  {
   "cell_type": "code",
   "execution_count": 47,
   "metadata": {},
   "outputs": [
    {
     "name": "stdout",
     "output_type": "stream",
     "text": [
      "******************** centered ********************\n"
     ]
    }
   ],
   "source": [
    "print('{:*^50}'.format(' centered ') )"
   ]
  },
  {
   "cell_type": "code",
   "execution_count": 48,
   "metadata": {},
   "outputs": [
    {
     "name": "stdout",
     "output_type": "stream",
     "text": [
      "*********************testing**********************testing2\n"
     ]
    }
   ],
   "source": [
    "string1 = \"testing\"\n",
    "string2 = \"testing2\"\n",
    "print('{}{:*^50}{}'.format('',string1,string2))"
   ]
  },
  {
   "cell_type": "code",
   "execution_count": 49,
   "metadata": {},
   "outputs": [
    {
     "name": "stdout",
     "output_type": "stream",
     "text": [
      "|butter    |  bread   |       ham|\n"
     ]
    }
   ],
   "source": [
    "# string alignment\n",
    "print(\"|{:<10}|{:^10}|{:>10}|\".format('butter','bread','ham'))"
   ]
  },
  {
   "cell_type": "code",
   "execution_count": 50,
   "metadata": {},
   "outputs": [
    {
     "name": "stdout",
     "output_type": "stream",
     "text": [
      "One third is: 0.333\n",
      "Two third is: 0.667\n",
      "Three Fourth is: 0.750\n",
      "One Fifth is: 0.200\n"
     ]
    }
   ],
   "source": [
    "# round off\n",
    "print(\"One third is: {0:.3f}\".format(1/3))\n",
    "print(\"Two third is: {0:.3f}\".format(2/3))\n",
    "print(\"Three Fourth is: {0:.3f}\".format(3/4))\n",
    "print(\"One Fifth is: {0:.3f}\".format(1/5))"
   ]
  },
  {
   "cell_type": "code",
   "execution_count": 51,
   "metadata": {},
   "outputs": [
    {
     "name": "stdout",
     "output_type": "stream",
     "text": [
      "Exponent representation: 1.566345e+03\n"
     ]
    }
   ],
   "source": [
    "# formatting floats\n",
    "print(\"Exponent representation: {0:e}\".format(1566.345))"
   ]
  },
  {
   "cell_type": "markdown",
   "metadata": {},
   "source": [
    "### String Indexes/Slicing"
   ]
  },
  {
   "cell_type": "code",
   "execution_count": 52,
   "metadata": {},
   "outputs": [],
   "source": [
    "stringVar = 'Strings are fun!'"
   ]
  },
  {
   "cell_type": "code",
   "execution_count": 53,
   "metadata": {},
   "outputs": [
    {
     "name": "stdout",
     "output_type": "stream",
     "text": [
      "S\n"
     ]
    }
   ],
   "source": [
    "print(stringVar[0]) # get first char"
   ]
  },
  {
   "cell_type": "code",
   "execution_count": 54,
   "metadata": {},
   "outputs": [
    {
     "name": "stdout",
     "output_type": "stream",
     "text": [
      "Str\n"
     ]
    }
   ],
   "source": [
    "print(stringVar[0:3]) # get first 3 chars"
   ]
  },
  {
   "cell_type": "code",
   "execution_count": 55,
   "metadata": {},
   "outputs": [
    {
     "name": "stdout",
     "output_type": "stream",
     "text": [
      "un!\n"
     ]
    }
   ],
   "source": [
    "print(stringVar[-3:]) # get last 3 chars"
   ]
  },
  {
   "cell_type": "code",
   "execution_count": 56,
   "metadata": {},
   "outputs": [
    {
     "name": "stdout",
     "output_type": "stream",
     "text": [
      "Strings are f\n"
     ]
    }
   ],
   "source": [
    "print(stringVar[:-3]) # skip last 3 chars"
   ]
  },
  {
   "cell_type": "code",
   "execution_count": 57,
   "metadata": {},
   "outputs": [
    {
     "name": "stdout",
     "output_type": "stream",
     "text": [
      "ings are fun!\n"
     ]
    }
   ],
   "source": [
    "print(stringVar[3:]) # skip fist 3 chars"
   ]
  },
  {
   "cell_type": "code",
   "execution_count": 58,
   "metadata": {},
   "outputs": [
    {
     "name": "stdout",
     "output_type": "stream",
     "text": [
      "Str\n"
     ]
    }
   ],
   "source": [
    "print(stringVar[:3]) # get fist 3 chars"
   ]
  },
  {
   "cell_type": "code",
   "execution_count": 59,
   "metadata": {},
   "outputs": [
    {
     "name": "stdout",
     "output_type": "stream",
     "text": [
      "tig\n"
     ]
    }
   ],
   "source": [
    "# This prints the characters of string from 1 to 7 skipping 2 character. \n",
    "#This is extended slice syntax. \n",
    "#The general form is [start:stop:step].\n",
    "print(stringVar[1:7:2]) # get every 3rd string from beginning to end "
   ]
  },
  {
   "cell_type": "code",
   "execution_count": 60,
   "metadata": {},
   "outputs": [
    {
     "name": "stdout",
     "output_type": "stream",
     "text": [
      "This is a multi-line string. This is the first line.\n",
      "This is the second line.\n",
      "\"What's your name?,\" I asked.\n",
      "He said \"Bond, James Bond.\"\n",
      "\n"
     ]
    }
   ],
   "source": [
    "# mutiline string - using triple quotes\n",
    "strmulti = '''This is a multi-line string. This is the first line.\n",
    "This is the second line.\n",
    "\"What's your name?,\" I asked.\n",
    "He said \"Bond, James Bond.\"\n",
    "'''\n",
    "print(strmulti)"
   ]
  },
  {
   "cell_type": "markdown",
   "metadata": {},
   "source": [
    "# <a name=\"lists\">Lists</a>\n",
    "data structure used to store list of values; ordered and changeable; allows duplicates <br/>\n",
    "enclosed in [] <br/>\n",
    "Zero index based <br/>\n"
   ]
  },
  {
   "cell_type": "code",
   "execution_count": 61,
   "metadata": {},
   "outputs": [
    {
     "name": "stdout",
     "output_type": "stream",
     "text": [
      "['Java', 'Python', 'C#', 'PHP', 'Visual Basic', 'C++']\n"
     ]
    }
   ],
   "source": [
    "langList = ['Java', 'Python', 'C#', 'PHP', 'Visual Basic','C++']\n",
    "print(langList)"
   ]
  },
  {
   "cell_type": "code",
   "execution_count": 62,
   "metadata": {},
   "outputs": [
    {
     "name": "stdout",
     "output_type": "stream",
     "text": [
      "Java\n"
     ]
    }
   ],
   "source": [
    "# access first item\n",
    "print(langList[0])"
   ]
  },
  {
   "cell_type": "code",
   "execution_count": 63,
   "metadata": {
    "scrolled": true
   },
   "outputs": [
    {
     "name": "stdout",
     "output_type": "stream",
     "text": [
      "C++\n"
     ]
    }
   ],
   "source": [
    "# access last item\n",
    "print(langList[-1])"
   ]
  },
  {
   "cell_type": "code",
   "execution_count": 64,
   "metadata": {},
   "outputs": [
    {
     "name": "stdout",
     "output_type": "stream",
     "text": [
      "6\n"
     ]
    }
   ],
   "source": [
    "# get list length\n",
    "print(len(langList))"
   ]
  },
  {
   "cell_type": "code",
   "execution_count": 65,
   "metadata": {},
   "outputs": [
    {
     "name": "stdout",
     "output_type": "stream",
     "text": [
      "1\n"
     ]
    }
   ],
   "source": [
    "# use the count method to Return the number of times the value appears in list\n",
    "print(langList.count('PHP'))"
   ]
  },
  {
   "cell_type": "code",
   "execution_count": 66,
   "metadata": {},
   "outputs": [
    {
     "name": "stdout",
     "output_type": "stream",
     "text": [
      "['Java', 'Python', 'C#', 'PHP', 'Visual Basic', 'C++', 'Pascal']\n"
     ]
    }
   ],
   "source": [
    "# append item to list\n",
    "langList.append(\"Pascal\")\n",
    "print(langList)"
   ]
  },
  {
   "cell_type": "code",
   "execution_count": 67,
   "metadata": {},
   "outputs": [
    {
     "name": "stdout",
     "output_type": "stream",
     "text": [
      "['Java', 'BASIC', 'Python', 'C#', 'PHP', 'Visual Basic', 'C++', 'Pascal']\n"
     ]
    }
   ],
   "source": [
    "# insert item to list\n",
    "langList.insert(1, \"BASIC\")\n",
    "print(langList)"
   ]
  },
  {
   "cell_type": "code",
   "execution_count": 68,
   "metadata": {},
   "outputs": [
    {
     "name": "stdout",
     "output_type": "stream",
     "text": [
      "['Java', 'Python', 'C#', 'PHP', 'Visual Basic', 'C++', 'Pascal']\n"
     ]
    }
   ],
   "source": [
    "# remove item to list\n",
    "langList.remove(\"BASIC\")\n",
    "print(langList)"
   ]
  },
  {
   "cell_type": "code",
   "execution_count": 69,
   "metadata": {},
   "outputs": [
    {
     "name": "stdout",
     "output_type": "stream",
     "text": [
      "['C#', 'C++', 'Java', 'PHP', 'Pascal', 'Python', 'Visual Basic']\n"
     ]
    }
   ],
   "source": [
    "# sort the list\n",
    "langList.sort()\n",
    "print(langList)"
   ]
  },
  {
   "cell_type": "code",
   "execution_count": 70,
   "metadata": {},
   "outputs": [
    {
     "name": "stdout",
     "output_type": "stream",
     "text": [
      "['C#', 'C++', 'Java', 'ASP', 'Pascal', 'Python', 'Visual Basic']\n"
     ]
    }
   ],
   "source": [
    "# change value by using index number\n",
    "langList[3] = 'ASP'\n",
    "print(langList)"
   ]
  },
  {
   "cell_type": "code",
   "execution_count": 71,
   "metadata": {},
   "outputs": [
    {
     "name": "stdout",
     "output_type": "stream",
     "text": [
      "Yes, Python is there!\n"
     ]
    }
   ],
   "source": [
    "# check if an item exist\n",
    "if \"Python\" in langList:\n",
    "    print(\"Yes, Python is there!\")"
   ]
  },
  {
   "cell_type": "code",
   "execution_count": 72,
   "metadata": {},
   "outputs": [
    {
     "name": "stdout",
     "output_type": "stream",
     "text": [
      "['C#', 'C++', 'Java', 'ASP', 'Pascal', 'Python']\n"
     ]
    }
   ],
   "source": [
    "# using pop method to remove specified index; if no index specified it will remove the last item\n",
    "langList.pop()\n",
    "print(langList)"
   ]
  },
  {
   "cell_type": "code",
   "execution_count": 73,
   "metadata": {},
   "outputs": [
    {
     "name": "stdout",
     "output_type": "stream",
     "text": [
      "['C++', 'Java', 'ASP', 'Pascal', 'Python']\n"
     ]
    }
   ],
   "source": [
    "# The del keyword removes the specified index\n",
    "del langList[0]\n",
    "print(langList)"
   ]
  },
  {
   "cell_type": "code",
   "execution_count": 74,
   "metadata": {},
   "outputs": [
    {
     "name": "stdout",
     "output_type": "stream",
     "text": [
      "[]\n"
     ]
    }
   ],
   "source": [
    "#The clear() method empties the list\n",
    "langList.clear()\n",
    "print(langList)"
   ]
  },
  {
   "cell_type": "code",
   "execution_count": 75,
   "metadata": {},
   "outputs": [
    {
     "name": "stdout",
     "output_type": "stream",
     "text": [
      "0: dog\n",
      "1: cat\n",
      "2: dog\n",
      "3: goldfish\n",
      "4: cat\n",
      "5: rabbit\n",
      "6: cat\n"
     ]
    }
   ],
   "source": [
    "\"\"\"Enumerate list items - when u need to iterate overa list \n",
    "and also needs to know the index of the current item \"\"\"\n",
    "pets = ['dog', 'cat', 'dog', 'goldfish', 'cat', 'rabbit', 'cat']\n",
    "\n",
    "for i, pet in enumerate(pets):\n",
    "    # print('%d: %s' % (i+1,pet))\n",
    "    print(\"{}: {}\".format(i,pet))\n"
   ]
  },
  {
   "cell_type": "code",
   "execution_count": 76,
   "metadata": {},
   "outputs": [
    {
     "name": "stdout",
     "output_type": "stream",
     "text": [
      "1: dog\n",
      "2: cat\n",
      "3: dog\n",
      "4: goldfish\n",
      "5: cat\n",
      "6: rabbit\n",
      "7: cat\n"
     ]
    }
   ],
   "source": [
    "# supply a second paramter to specifiy the number from which to start counting\n",
    "for i, pet in enumerate(pets, 1):\n",
    "    # print('%d: %s' % (i+1,pet))\n",
    "    print(\"{}: {}\".format(i,pet))"
   ]
  },
  {
   "cell_type": "markdown",
   "metadata": {},
   "source": [
    "## <a name=\"conditionals\">Conditionals</a>"
   ]
  },
  {
   "cell_type": "code",
   "execution_count": 77,
   "metadata": {},
   "outputs": [
    {
     "name": "stdout",
     "output_type": "stream",
     "text": [
      "Python is great!\n"
     ]
    }
   ],
   "source": [
    "lang = 'Python'\n",
    "if lang == 'Python':\n",
    "    print(\"Python is great!\")"
   ]
  },
  {
   "cell_type": "code",
   "execution_count": 78,
   "metadata": {},
   "outputs": [
    {
     "name": "stdout",
     "output_type": "stream",
     "text": [
      "No!!\n"
     ]
    }
   ],
   "source": [
    "#if else \n",
    "lang = \"Java\"\n",
    "if lang == 'Python':\n",
    "    print(\"Python is great\")\n",
    "else:\n",
    "    print(\"No!!\")"
   ]
  },
  {
   "cell_type": "code",
   "execution_count": 79,
   "metadata": {},
   "outputs": [
    {
     "name": "stdout",
     "output_type": "stream",
     "text": [
      "Java is ok\n"
     ]
    }
   ],
   "source": [
    "# if elif else\n",
    "lang = \"Java\"\n",
    "if lang == 'Python':\n",
    "    print(\"Python is great\")\n",
    "elif lang == 'Java':\n",
    "    print(\"Java is ok\")\n",
    "else:\n",
    "    print(\"No!!\")"
   ]
  },
  {
   "cell_type": "code",
   "execution_count": 80,
   "metadata": {},
   "outputs": [
    {
     "name": "stdout",
     "output_type": "stream",
     "text": [
      "admin page\n"
     ]
    }
   ],
   "source": [
    "# using and \n",
    "user = 'admin'\n",
    "logged_in = True\n",
    "\n",
    "if user == 'admin' and logged_in:\n",
    "    print(\"admin page\")\n",
    "else:\n",
    "    print(\"please log in\")"
   ]
  },
  {
   "cell_type": "code",
   "execution_count": 81,
   "metadata": {},
   "outputs": [
    {
     "name": "stdout",
     "output_type": "stream",
     "text": [
      "admin page\n"
     ]
    }
   ],
   "source": [
    "# using or\n",
    "user = 'admin'\n",
    "logged_in = True\n",
    "\n",
    "if user == 'admin' or logged_in:\n",
    "    print(\"admin page\")\n",
    "else:\n",
    "    print(\"please log in\")"
   ]
  },
  {
   "cell_type": "code",
   "execution_count": 82,
   "metadata": {},
   "outputs": [
    {
     "name": "stdout",
     "output_type": "stream",
     "text": [
      "please log in\n"
     ]
    }
   ],
   "source": [
    "# using not\n",
    "user = 'admin'\n",
    "logged_in = False\n",
    "\n",
    "if not logged_in:\n",
    "    print(\"please log in\")\n",
    "else:\n",
    "    print(\"logged in\")"
   ]
  },
  {
   "cell_type": "code",
   "execution_count": 83,
   "metadata": {},
   "outputs": [
    {
     "name": "stdout",
     "output_type": "stream",
     "text": [
      "True\n",
      "False\n",
      "100585424\n",
      "103234496\n"
     ]
    }
   ],
   "source": [
    "# using is\n",
    "\n",
    "a = [1,2,3]\n",
    "b = [1,2,3]\n",
    "\n",
    "print(a==b)\n",
    "print (a is b)\n",
    "print(id(a)) # memory id\n",
    "print(id(b)) # memory id"
   ]
  },
  {
   "cell_type": "markdown",
   "metadata": {},
   "source": [
    "# <a name=\"loops\">Loops</a>"
   ]
  },
  {
   "cell_type": "markdown",
   "metadata": {},
   "source": [
    "# For Loop\n",
    "A for loop is used for iterating over a sequence (that is either a list, a tuple, a dictionary, a set, or a string)."
   ]
  },
  {
   "cell_type": "code",
   "execution_count": 84,
   "metadata": {},
   "outputs": [
    {
     "name": "stdout",
     "output_type": "stream",
     "text": [
      "o\n",
      "t\n",
      "c\n",
      "n\n",
      "e\n",
      "t\n"
     ]
    }
   ],
   "source": [
    "# looping thru a string\n",
    "for x in \"otcnet\":\n",
    "    print(x)"
   ]
  },
  {
   "cell_type": "code",
   "execution_count": 85,
   "metadata": {},
   "outputs": [
    {
     "name": "stdout",
     "output_type": "stream",
     "text": [
      "1\n",
      "2\n",
      "3\n",
      "4\n",
      "5\n"
     ]
    }
   ],
   "source": [
    "# using for loop to iterate over a list\n",
    "nums = [1,2,3,4,5]\n",
    "for num in nums:\n",
    "    print(num)"
   ]
  },
  {
   "cell_type": "code",
   "execution_count": 86,
   "metadata": {},
   "outputs": [
    {
     "name": "stdout",
     "output_type": "stream",
     "text": [
      "1\n",
      "2\n",
      "Found\n"
     ]
    }
   ],
   "source": [
    "# using break in For loop to get out of loop\n",
    "for num in nums:\n",
    "    if num == 3:\n",
    "        print(\"Found\")\n",
    "        break\n",
    "    print(num)"
   ]
  },
  {
   "cell_type": "code",
   "execution_count": 87,
   "metadata": {},
   "outputs": [
    {
     "name": "stdout",
     "output_type": "stream",
     "text": [
      "1\n",
      "2\n",
      "Found\n",
      "4\n",
      "5\n"
     ]
    }
   ],
   "source": [
    "# using continue in For loop to ignore and continue with next iteration in loop\n",
    "for num in nums:\n",
    "    if num == 3:\n",
    "        print(\"Found\")\n",
    "        continue\n",
    "    print(num)"
   ]
  },
  {
   "cell_type": "code",
   "execution_count": 88,
   "metadata": {},
   "outputs": [
    {
     "name": "stdout",
     "output_type": "stream",
     "text": [
      "1 a\n",
      "1 b\n",
      "1 c\n",
      "2 a\n",
      "2 b\n",
      "2 c\n",
      "3 a\n",
      "3 b\n",
      "3 c\n",
      "4 a\n",
      "4 b\n",
      "4 c\n",
      "5 a\n",
      "5 b\n",
      "5 c\n"
     ]
    }
   ],
   "source": [
    "# loop within a loop\n",
    "for num in nums:\n",
    "    for letter in 'abc':\n",
    "        print(num, letter)"
   ]
  },
  {
   "cell_type": "code",
   "execution_count": 89,
   "metadata": {},
   "outputs": [
    {
     "name": "stdout",
     "output_type": "stream",
     "text": [
      "0\n",
      "1\n",
      "2\n",
      "3\n",
      "4\n",
      "5\n",
      "6\n",
      "7\n",
      "8\n",
      "9\n"
     ]
    }
   ],
   "source": [
    "#To loop through a set of code a specified number of times, we can use the range() function,\n",
    "for i in range(10):\n",
    "    print(i)"
   ]
  },
  {
   "cell_type": "code",
   "execution_count": 90,
   "metadata": {},
   "outputs": [
    {
     "name": "stdout",
     "output_type": "stream",
     "text": [
      "1\n",
      "2\n",
      "3\n",
      "4\n",
      "5\n",
      "6\n",
      "7\n",
      "8\n",
      "9\n",
      "10\n"
     ]
    }
   ],
   "source": [
    "for i in range(1,11):\n",
    "    print(i)"
   ]
  },
  {
   "cell_type": "code",
   "execution_count": 1,
   "metadata": {},
   "outputs": [
    {
     "name": "stdout",
     "output_type": "stream",
     "text": [
      "1\n",
      "3\n",
      "5\n",
      "7\n",
      "9\n"
     ]
    }
   ],
   "source": [
    "# using range([start], stop[, step])\n",
    "for i in range(1, 11, 2):\n",
    "    print(i)"
   ]
  },
  {
   "cell_type": "markdown",
   "metadata": {},
   "source": [
    "# While Loop\n",
    "With the while loop we can execute a set of statements as long as a condition is true."
   ]
  },
  {
   "cell_type": "code",
   "execution_count": 92,
   "metadata": {},
   "outputs": [
    {
     "name": "stdout",
     "output_type": "stream",
     "text": [
      "0\n",
      "1\n",
      "2\n",
      "3\n",
      "4\n",
      "5\n",
      "6\n",
      "7\n",
      "8\n",
      "9\n"
     ]
    }
   ],
   "source": [
    "x = 0\n",
    "while x <10:\n",
    "    print(x)\n",
    "    x +=1"
   ]
  },
  {
   "cell_type": "code",
   "execution_count": 93,
   "metadata": {
    "scrolled": true
   },
   "outputs": [
    {
     "name": "stdout",
     "output_type": "stream",
     "text": [
      "0\n",
      "1\n",
      "2\n",
      "3\n",
      "4\n"
     ]
    }
   ],
   "source": [
    "# using break in while loop\n",
    "x = 0\n",
    "while x <10:\n",
    "    if x == 5:\n",
    "        break\n",
    "    print(x)\n",
    "    x +=1"
   ]
  },
  {
   "cell_type": "code",
   "execution_count": null,
   "metadata": {},
   "outputs": [
    {
     "name": "stdout",
     "output_type": "stream",
     "text": [
      "0\n",
      "1\n",
      "2\n",
      "3\n",
      "4\n"
     ]
    }
   ],
   "source": [
    "# using continue in while loop\n",
    "x = 0\n",
    "while x <10:\n",
    "    if x == 5:\n",
    "        continue\n",
    "    print(x)\n",
    "    x +=1"
   ]
  }
 ],
 "metadata": {
  "kernelspec": {
   "display_name": "Python 3",
   "language": "python",
   "name": "python3"
  },
  "language_info": {
   "codemirror_mode": {
    "name": "ipython",
    "version": 3
   },
   "file_extension": ".py",
   "mimetype": "text/x-python",
   "name": "python",
   "nbconvert_exporter": "python",
   "pygments_lexer": "ipython3",
   "version": "3.6.4"
  }
 },
 "nbformat": 4,
 "nbformat_minor": 2
}
