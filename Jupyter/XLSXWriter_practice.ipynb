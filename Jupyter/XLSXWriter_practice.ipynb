{
 "cells": [
  {
   "cell_type": "code",
   "execution_count": 2,
   "metadata": {},
   "outputs": [],
   "source": [
    "import xlsxwriter"
   ]
  },
  {
   "cell_type": "code",
   "execution_count": 5,
   "metadata": {},
   "outputs": [],
   "source": [
    "import pandas as pd"
   ]
  },
  {
   "cell_type": "code",
   "execution_count": 8,
   "metadata": {},
   "outputs": [],
   "source": [
    "xls = pd.ExcelFile(\"ManageDeposit_PrintDepositTicket_SubmitDeposit_A.xlsx\") # source excel file\n",
    "df =  xls.parse(0) # sheet to parse\n",
    "df = df.fillna('') # set empty values to blank"
   ]
  },
  {
   "cell_type": "code",
   "execution_count": 10,
   "metadata": {},
   "outputs": [
    {
     "name": "stdout",
     "output_type": "stream",
     "text": [
      "  STEP NAME                                        DESCRIPTION  \\\n",
      "0    Step 1  Purpose:\\r\\nTo validate that the PII informati...   \n",
      "1    Step 2  Precondition 1:\\r\\n1. User has been authentica...   \n",
      "\n",
      "  EXPECTED RESULT REQUIREMENT RELATED DATA User Story / Acceptance Criteria  \n",
      "0                                                                            \n",
      "1                                                                            \n"
     ]
    }
   ],
   "source": [
    "print(df.head(2))"
   ]
  },
  {
   "cell_type": "code",
   "execution_count": 21,
   "metadata": {},
   "outputs": [],
   "source": [
    "filename = \"TEST_OUTPUT\"\n",
    "ExcelFileName = filename + '.xlsx'\n",
    "workbook = xlsxwriter.Workbook(ExcelFileName)\n",
    "worksheet = workbook.add_worksheet()\n",
    "worksheet.set_column('B:C',50) # set column widths\n",
    "format1 = workbook.add_format()\n",
    "format1.set_text_wrap()\n",
    "\n",
    "excelRow = 0\n",
    "excelCol = 0\n",
    "for index, row in df.iterrows():\n",
    "    # Write test case headers\t\t\n",
    "    worksheet.write(0, 0, 'STEP NAME',format1)\n",
    "    worksheet.write(0, 1, 'DESCRIPTION',format1)\n",
    "    worksheet.write(0, 2, 'EXPECTED RESULT',format1)\n",
    "    worksheet.write(0, 3, 'REQUIREMENT',format1)\n",
    "    worksheet.write(0, 4, 'RELATED DATA',format1)\n",
    "    worksheet.write(0, 5, 'User Story / Acceptance Criteria',format1)    \n",
    "    # write test case content\n",
    "    worksheet.write(excelRow, excelCol, str(row['STEP NAME']),format1)\n",
    "    worksheet.write(excelRow, excelCol + 1, str(row['DESCRIPTION']),format1) # if needed use replace to get rid of new lines\n",
    "    worksheet.write(excelRow, excelCol + 2, str(row['EXPECTED RESULT']),format1)\n",
    "    worksheet.write(excelRow, excelCol + 3, str(row['REQUIREMENT']),format1)\n",
    "    worksheet.write(excelRow, excelCol + 4, str(row['RELATED DATA']),format1)\n",
    "    worksheet.write(excelRow, excelCol + 5, str(row['User Story / Acceptance Criteria']),format1)\n",
    "    excelRow += 1\n",
    "# close workbook\n",
    "workbook.close()"
   ]
  },
  {
   "cell_type": "code",
   "execution_count": null,
   "metadata": {},
   "outputs": [],
   "source": []
  }
 ],
 "metadata": {
  "kernelspec": {
   "display_name": "Python 3",
   "language": "python",
   "name": "python3"
  },
  "language_info": {
   "codemirror_mode": {
    "name": "ipython",
    "version": 3
   },
   "file_extension": ".py",
   "mimetype": "text/x-python",
   "name": "python",
   "nbconvert_exporter": "python",
   "pygments_lexer": "ipython3",
   "version": "3.6.4"
  }
 },
 "nbformat": 4,
 "nbformat_minor": 2
}
