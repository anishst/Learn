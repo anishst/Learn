{
 "cells": [
  {
   "cell_type": "markdown",
   "metadata": {},
   "source": [
    "# Introduction"
   ]
  },
  {
   "cell_type": "markdown",
   "metadata": {},
   "source": [
    "# Printing Hello world"
   ]
  },
  {
   "cell_type": "code",
   "execution_count": 1,
   "metadata": {},
   "outputs": [
    {
     "name": "stdout",
     "output_type": "stream",
     "text": [
      "Hello world!\n"
     ]
    }
   ],
   "source": [
    "print(\"Hello world!\")"
   ]
  },
  {
   "cell_type": "markdown",
   "metadata": {},
   "source": [
    "## Data Types"
   ]
  },
  {
   "cell_type": "code",
   "execution_count": 2,
   "metadata": {},
   "outputs": [
    {
     "name": "stdout",
     "output_type": "stream",
     "text": [
      "2 1.2 text\n",
      "<class 'int'> <class 'float'> <class 'str'>\n"
     ]
    }
   ],
   "source": [
    "# Find variable types using type\n",
    "a = 2\n",
    "b = 1.2\n",
    "c = 'text'\n",
    "print(a,b,c)\n",
    "print(type(a), type(b), type(c))\n",
    "\n"
   ]
  },
  {
   "cell_type": "markdown",
   "metadata": {},
   "source": [
    "# Core data types\n",
    "\n",
    "immutable <br/>\n",
    "number (int, float), string, tuple \n",
    "\n",
    "mutable <br/>\n",
    "list, dictionary, files"
   ]
  },
  {
   "cell_type": "code",
   "execution_count": 15,
   "metadata": {},
   "outputs": [
    {
     "name": "stdout",
     "output_type": "stream",
     "text": [
      "22.34\n",
      "22\n"
     ]
    }
   ],
   "source": [
    "# cast variables\n",
    "a = 22.34\n",
    "print(a)\n",
    "print(int(a))"
   ]
  },
  {
   "cell_type": "markdown",
   "metadata": {},
   "source": [
    "## Operators"
   ]
  },
  {
   "cell_type": "code",
   "execution_count": 16,
   "metadata": {},
   "outputs": [
    {
     "name": "stdout",
     "output_type": "stream",
     "text": [
      "6\n",
      "0\n",
      "9\n",
      "1.0\n",
      "1\n",
      "0\n",
      "27\n",
      "False\n",
      "True\n",
      "False\n",
      "True\n",
      "Boolean operations\n",
      "False\n",
      "True\n"
     ]
    }
   ],
   "source": [
    "print (3+3)\n",
    "print( 3-3)\n",
    "print (3*3)\n",
    "print(3/3)# simple division\n",
    "print(3//3) # integer division\n",
    "print(3 % 3) # modulo; only remainder is returned\n",
    "print(3 ** 3) # exponent\n",
    "\n",
    "# comparison \n",
    "a = 3\n",
    "b = 4\n",
    "\n",
    "print(a > b)\n",
    "print(a < b)\n",
    "print( a == b)\n",
    "print( a != b)\n",
    "\n",
    "# boolean\n",
    "print(\"Boolean operations\")\n",
    "print((a > b) and (a < b))\n",
    "print((a > b) or (a < b))"
   ]
  },
  {
   "cell_type": "markdown",
   "metadata": {},
   "source": [
    "## Getting Help\n"
   ]
  },
  {
   "cell_type": "code",
   "execution_count": 17,
   "metadata": {},
   "outputs": [
    {
     "name": "stdout",
     "output_type": "stream",
     "text": [
      "Help on built-in function print in module builtins:\n",
      "\n",
      "print(...)\n",
      "    print(value, ..., sep=' ', end='\\n', file=sys.stdout, flush=False)\n",
      "    \n",
      "    Prints the values to a stream, or to sys.stdout by default.\n",
      "    Optional keyword arguments:\n",
      "    file:  a file-like object (stream); defaults to the current sys.stdout.\n",
      "    sep:   string inserted between values, default a space.\n",
      "    end:   string appended after the last value, default a newline.\n",
      "    flush: whether to forcibly flush the stream.\n",
      "\n"
     ]
    }
   ],
   "source": [
    "help(print)"
   ]
  },
  {
   "cell_type": "code",
   "execution_count": 18,
   "metadata": {},
   "outputs": [
    {
     "data": {
      "text/plain": [
       "['__displayhook__',\n",
       " '__doc__',\n",
       " '__excepthook__',\n",
       " '__interactivehook__',\n",
       " '__loader__',\n",
       " '__name__',\n",
       " '__package__',\n",
       " '__spec__',\n",
       " '__stderr__',\n",
       " '__stdin__',\n",
       " '__stdout__',\n",
       " '_clear_type_cache',\n",
       " '_current_frames',\n",
       " '_debugmallocstats',\n",
       " '_getframe',\n",
       " '_home',\n",
       " '_mercurial',\n",
       " '_xoptions',\n",
       " 'api_version',\n",
       " 'argv',\n",
       " 'base_exec_prefix',\n",
       " 'base_prefix',\n",
       " 'builtin_module_names',\n",
       " 'byteorder',\n",
       " 'call_tracing',\n",
       " 'callstats',\n",
       " 'copyright',\n",
       " 'displayhook',\n",
       " 'dllhandle',\n",
       " 'dont_write_bytecode',\n",
       " 'exc_info',\n",
       " 'excepthook',\n",
       " 'exec_prefix',\n",
       " 'executable',\n",
       " 'exit',\n",
       " 'flags',\n",
       " 'float_info',\n",
       " 'float_repr_style',\n",
       " 'get_coroutine_wrapper',\n",
       " 'getallocatedblocks',\n",
       " 'getcheckinterval',\n",
       " 'getdefaultencoding',\n",
       " 'getfilesystemencoding',\n",
       " 'getprofile',\n",
       " 'getrecursionlimit',\n",
       " 'getrefcount',\n",
       " 'getsizeof',\n",
       " 'getswitchinterval',\n",
       " 'gettrace',\n",
       " 'getwindowsversion',\n",
       " 'hash_info',\n",
       " 'hexversion',\n",
       " 'implementation',\n",
       " 'int_info',\n",
       " 'intern',\n",
       " 'is_finalizing',\n",
       " 'last_traceback',\n",
       " 'last_type',\n",
       " 'last_value',\n",
       " 'maxsize',\n",
       " 'maxunicode',\n",
       " 'meta_path',\n",
       " 'modules',\n",
       " 'path',\n",
       " 'path_hooks',\n",
       " 'path_importer_cache',\n",
       " 'platform',\n",
       " 'prefix',\n",
       " 'ps1',\n",
       " 'ps2',\n",
       " 'ps3',\n",
       " 'set_coroutine_wrapper',\n",
       " 'setcheckinterval',\n",
       " 'setprofile',\n",
       " 'setrecursionlimit',\n",
       " 'setswitchinterval',\n",
       " 'settrace',\n",
       " 'stderr',\n",
       " 'stdin',\n",
       " 'stdout',\n",
       " 'thread_info',\n",
       " 'version',\n",
       " 'version_info',\n",
       " 'warnoptions',\n",
       " 'winver']"
      ]
     },
     "execution_count": 18,
     "metadata": {},
     "output_type": "execute_result"
    }
   ],
   "source": [
    "import os\n",
    "dir(os.sys)"
   ]
  },
  {
   "cell_type": "markdown",
   "metadata": {},
   "source": [
    "# Strings"
   ]
  },
  {
   "cell_type": "code",
   "execution_count": 2,
   "metadata": {},
   "outputs": [
    {
     "name": "stdout",
     "output_type": "stream",
     "text": [
      "16\n",
      "This is a stringThis is a stringThis is a string\n",
      "This is a string adding more text\n"
     ]
    }
   ],
   "source": [
    "testString = \"This is a string\"\n",
    "print(len(testString))\n",
    "print(testString * 3)\n",
    "print(testString + ' adding more text')"
   ]
  },
  {
   "cell_type": "code",
   "execution_count": 21,
   "metadata": {},
   "outputs": [
    {
     "name": "stdout",
     "output_type": "stream",
     "text": [
      "2\n",
      "0\n",
      "testing strings\n",
      "TESTING STRINGS\n",
      "qesqing sqrings\n",
      "testing strings\n"
     ]
    }
   ],
   "source": [
    "# string methods\n",
    "stringVar = 'testing strings'\n",
    "print(stringVar.count('i')) #counts the number of occurrences of 'x' in stringVar\n",
    "print(stringVar.find('t')) # returns the position of character 'x'\n",
    "print(stringVar.lower())  # returns the stringVar in lowercase (this is temporary)\n",
    "print(stringVar.upper()) # returns the stringVar in uppercase (this is temporary)\n",
    "print(stringVar.replace('t', 'q')) # replaces all occurrences of t with q in the string\n",
    "print(stringVar.strip()) # removes leading/trailing white space from string"
   ]
  },
  {
   "cell_type": "code",
   "execution_count": 3,
   "metadata": {},
   "outputs": [
    {
     "name": "stdout",
     "output_type": "stream",
     "text": [
      "ats\n",
      "ks\n",
      "k\n",
      "net rocks\n"
     ]
    }
   ],
   "source": [
    "# string slicing\n",
    "sliceString = \"atsnet rocks\"\n",
    "print(sliceString[0:3])\n",
    "print(sliceString[-2:])\n",
    "print(sliceString[-2])\n",
    "print(sliceString[3:])"
   ]
  },
  {
   "cell_type": "code",
   "execution_count": 22,
   "metadata": {},
   "outputs": [
    {
     "name": "stdout",
     "output_type": "stream",
     "text": [
      "This is a multi-line string. This is the first line.\n",
      "This is the second line.\n",
      "\"What's your name?,\" I asked.\n",
      "He said \"Bond, James Bond.\"\n",
      "\n"
     ]
    }
   ],
   "source": [
    "# mutiline string - using triple quotes\n",
    "strmulti = '''This is a multi-line string. This is the first line.\n",
    "This is the second line.\n",
    "\"What's your name?,\" I asked.\n",
    "He said \"Bond, James Bond.\"\n",
    "'''\n",
    "print (strmulti)\n"
   ]
  },
  {
   "cell_type": "code",
   "execution_count": 23,
   "metadata": {},
   "outputs": [
    {
     "name": "stdout",
     "output_type": "stream",
     "text": [
      "ab,a b c\n"
     ]
    }
   ],
   "source": [
    "# Print will all print on a separate line each. \n",
    "# To prevent this newline character from being printed, you can specify that it should end with a blank:\n",
    "print('a', end='')\n",
    "print('b', end=',')\n",
    "#end with a space\n",
    "print('a', end=' ')\n",
    "print('b', end=' ')\n",
    "print('c')"
   ]
  },
  {
   "cell_type": "code",
   "execution_count": 24,
   "metadata": {},
   "outputs": [
    {
     "name": "stdout",
     "output_type": "stream",
     "text": [
      "  42\n",
      "003.14\n",
      "0042\n",
      "+42\n",
      "******************** centered ********************\n",
      "**************************************************\n",
      "*********************testing**********************testing2\n",
      "00005\n"
     ]
    }
   ],
   "source": [
    "# Padding Text\n",
    "print('{:4d}'.format(42))\n",
    "\n",
    "# at least 6 characters with 2 after the decimal point\n",
    "print('{:06.2f}'.format(3.141592653589793))\n",
    "print('{:04d}'.format(42))\n",
    "print('{:+d}'.format(42))\n",
    "print('{:*^50}'.format(' centered ') )\n",
    "print('{:*^50}'.format(''))\n",
    "string1 = \"testing\"\n",
    "string2 = \"testing2\"\n",
    "print('{}{:*^50}{}'.format('',string1,string2))\n",
    "print(format(5, \"05d\"))\n"
   ]
  },
  {
   "cell_type": "code",
   "execution_count": 25,
   "metadata": {},
   "outputs": [
    {
     "name": "stdout",
     "output_type": "stream",
     "text": [
      "Binary representation of 0 is 0\n",
      "Binary representation of 1 is 1\n",
      "Binary representation of 2 is 10\n",
      "Binary representation of 3 is 11\n",
      "Binary representation of 4 is 100\n",
      "Binary representation of 5 is 101\n",
      "Binary representation of 6 is 110\n",
      "Binary representation of 7 is 111\n",
      "Binary representation of 8 is 1000\n",
      "Binary representation of 9 is 1001\n"
     ]
    }
   ],
   "source": [
    "for i in range(10):\n",
    "\tprint(\"Binary representation of {0} is {0:b}\".format(i))"
   ]
  },
  {
   "cell_type": "markdown",
   "metadata": {},
   "source": [
    "# Lists"
   ]
  },
  {
   "cell_type": "code",
   "execution_count": 26,
   "metadata": {},
   "outputs": [
    {
     "name": "stdout",
     "output_type": "stream",
     "text": [
      "<class 'list'>\n",
      "['spam', 335, 'eggs', 322.34]\n"
     ]
    }
   ],
   "source": [
    "foo = [\"spam\", 335, \"eggs\", 322.34]\n",
    "print(type(foo))\n",
    "print(foo)"
   ]
  },
  {
   "cell_type": "code",
   "execution_count": 27,
   "metadata": {},
   "outputs": [
    {
     "name": "stdout",
     "output_type": "stream",
     "text": [
      "['spam', 335, 'eggs']\n"
     ]
    }
   ],
   "source": [
    "foo2 = foo[0:3]\n",
    "print(foo2)"
   ]
  },
  {
   "cell_type": "code",
   "execution_count": 28,
   "metadata": {},
   "outputs": [
    {
     "name": "stdout",
     "output_type": "stream",
     "text": [
      "['spam', 'eggs']\n"
     ]
    }
   ],
   "source": [
    "foo2.remove(335)\n",
    "print(foo2)"
   ]
  },
  {
   "cell_type": "code",
   "execution_count": 29,
   "metadata": {},
   "outputs": [
    {
     "name": "stdout",
     "output_type": "stream",
     "text": [
      "<class 'tuple'>\n",
      "('spam', 'eggs')\n"
     ]
    }
   ],
   "source": [
    "footup = tuple(foo2)\n",
    "print(type(footup))\n",
    "print(footup)"
   ]
  },
  {
   "cell_type": "code",
   "execution_count": 30,
   "metadata": {},
   "outputs": [
    {
     "name": "stdout",
     "output_type": "stream",
     "text": [
      "['spam', 'eggs', 3.14]\n",
      "1\n"
     ]
    }
   ],
   "source": [
    "foo2.append(3.14)\n",
    "print(foo2)\n",
    "print(foo2.count('eggs'))"
   ]
  },
  {
   "cell_type": "code",
   "execution_count": 31,
   "metadata": {},
   "outputs": [
    {
     "name": "stdout",
     "output_type": "stream",
     "text": [
      "['spam', 'foo', 'eggs', 3.14]\n"
     ]
    }
   ],
   "source": [
    "foo2.insert(1,\"foo\")\n",
    "print(foo2)"
   ]
  },
  {
   "cell_type": "code",
   "execution_count": 32,
   "metadata": {},
   "outputs": [
    {
     "name": "stdout",
     "output_type": "stream",
     "text": [
      "[3.14, 'eggs', 'foo', 'spam']\n"
     ]
    }
   ],
   "source": [
    "foo2.reverse()\n",
    "print(foo2)"
   ]
  }
 ],
 "metadata": {
  "kernelspec": {
   "display_name": "Python 3",
   "language": "python",
   "name": "python3"
  },
  "language_info": {
   "codemirror_mode": {
    "name": "ipython",
    "version": 3
   },
   "file_extension": ".py",
   "mimetype": "text/x-python",
   "name": "python",
   "nbconvert_exporter": "python",
   "pygments_lexer": "ipython3",
   "version": "3.6.4"
  }
 },
 "nbformat": 4,
 "nbformat_minor": 2
}
